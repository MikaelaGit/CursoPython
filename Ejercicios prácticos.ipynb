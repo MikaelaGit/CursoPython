{
  "nbformat": 4,
  "nbformat_minor": 0,
  "metadata": {
    "colab": {
      "name": "Untitled11.ipynb",
      "provenance": [],
      "authorship_tag": "ABX9TyP44byqbcMnzTQV3PQygkjj",
      "include_colab_link": true
    },
    "kernelspec": {
      "name": "python3",
      "display_name": "Python 3"
    },
    "language_info": {
      "name": "python"
    }
  },
  "cells": [
    {
      "cell_type": "markdown",
      "metadata": {
        "id": "view-in-github",
        "colab_type": "text"
      },
      "source": [
        "<a href=\"https://colab.research.google.com/github/MikaelaGit/CursoPython/blob/main/Ejercicios%20pr%C3%A1cticos.ipynb\" target=\"_parent\"><img src=\"https://colab.research.google.com/assets/colab-badge.svg\" alt=\"Open In Colab\"/></a>"
      ]
    },
    {
      "cell_type": "code",
      "execution_count": null,
      "metadata": {
        "colab": {
          "base_uri": "https://localhost:8080/"
        },
        "id": "z7hEzlBrS2Bv",
        "outputId": "3351e41e-99a1-4242-bc0d-58a26b4bcb4e"
      },
      "outputs": [
        {
          "output_type": "stream",
          "name": "stdout",
          "text": [
            "Best gg\n"
          ]
        }
      ],
      "source": [
        "def Black_pink():\n",
        "  print('Best gg')\n",
        "\n",
        "Black_pink()\n"
      ]
    },
    {
      "cell_type": "code",
      "source": [
        "def blackpink(comeback):\n",
        "  comeback = 'Born Pink'\n",
        "  print(comeback)\n",
        "\n",
        "blackpink(comeback)\n",
        "\n",
        "\n"
      ],
      "metadata": {
        "id": "4umlD2ClTRdO",
        "colab": {
          "base_uri": "https://localhost:8080/"
        },
        "outputId": "4ab99eed-0983-4d70-f2e7-bedfeeea8135"
      },
      "execution_count": 7,
      "outputs": [
        {
          "output_type": "stream",
          "name": "stdout",
          "text": [
            "Born Pink\n"
          ]
        }
      ]
    },
    {
      "cell_type": "markdown",
      "source": [
        "[ ] { } ¿?"
      ],
      "metadata": {
        "id": "YeRDuLEyXoSf"
      }
    },
    {
      "cell_type": "code",
      "source": [
        "black_pink = ['Jisoo', 'Jenie' , 'Rosé' , 'Lisa' ] \n",
        "print(black_pink)\n",
        "print(black_pink [2] )\n",
        "black_pink.append('Nayeon') #Agregar elementos \n",
        "print(black_pink)\n",
        "black_pink.insert(2,'Sana') #Agregar elementos en un lugar especifico \n",
        "print(black_pink)\n",
        "black_pink.extend([ 'Best', 'GG', 'Ever']) \n",
        "print(black_pink)\n",
        "print(black_pink.index('Jisoo')) #para saber en que lugar esta el elemento \n",
        "print('Sana' in black_pink) #para saber si un elemento esta en la lista\n",
        "black_pink.remove('Sana') #remueve un elemento de la lista\n",
        "print(black_pink[:])\n",
        "black_pink.pop()   #elimina el ultimo elemento de la lista\n",
        "print(black_pink)"
      ],
      "metadata": {
        "colab": {
          "base_uri": "https://localhost:8080/"
        },
        "id": "I7aeyhl2U4by",
        "outputId": "017a45c7-c2d7-45bc-aa49-4ea2572002fb"
      },
      "execution_count": 21,
      "outputs": [
        {
          "output_type": "stream",
          "name": "stdout",
          "text": [
            "['Jisoo', 'Jenie', 'Rosé', 'Lisa']\n",
            "Rosé\n",
            "['Jisoo', 'Jenie', 'Rosé', 'Lisa', 'Nayeon']\n",
            "['Jisoo', 'Jenie', 'Sana', 'Rosé', 'Lisa', 'Nayeon']\n",
            "['Jisoo', 'Jenie', 'Sana', 'Rosé', 'Lisa', 'Nayeon', 'Best', 'GG', 'Ever']\n",
            "0\n",
            "True\n",
            "['Jisoo', 'Jenie', 'Rosé', 'Lisa', 'Nayeon', 'Best', 'GG', 'Ever']\n",
            "['Jisoo', 'Jenie', 'Rosé', 'Lisa', 'Nayeon', 'Best', 'GG']\n"
          ]
        }
      ]
    },
    {
      "cell_type": "code",
      "source": [
        ""
      ],
      "metadata": {
        "id": "l2LdMWKbYOXx"
      },
      "execution_count": null,
      "outputs": []
    }
  ]
}