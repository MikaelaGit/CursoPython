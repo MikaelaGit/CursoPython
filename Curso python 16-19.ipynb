{
  "nbformat": 4,
  "nbformat_minor": 0,
  "metadata": {
    "colab": {
      "name": "Untitled6.ipynb",
      "provenance": [],
      "authorship_tag": "ABX9TyNXNYxTaHIJ4v8Sg1LnOUVh",
      "include_colab_link": true
    },
    "kernelspec": {
      "name": "python3",
      "display_name": "Python 3"
    },
    "language_info": {
      "name": "python"
    }
  },
  "cells": [
    {
      "cell_type": "markdown",
      "metadata": {
        "id": "view-in-github",
        "colab_type": "text"
      },
      "source": [
        "<a href=\"https://colab.research.google.com/github/MikaelaGit/CursoPython/blob/main/Curso%20python%2016-19.ipynb\" target=\"_parent\"><img src=\"https://colab.research.google.com/assets/colab-badge.svg\" alt=\"Open In Colab\"/></a>"
      ]
    },
    {
      "cell_type": "markdown",
      "source": [
        "Curso python 16 \n",
        "\n",
        "Bucles 3\n",
        "\n",
        "Tipo range \n",
        "\n",
        "Notaciones especiales con print \n",
        "\n",
        "[ ] { } ¿?\n",
        "\n",
        "para concatenar un texto con el valor que va tomando la i, se pone una f al principio\n",
        "al poner una f estamos indicandole a pyhton que queremos hacer una notacion especial\n",
        "funciones de tipo f, nos permite jugar con formatos de tipo diferente"
      ],
      "metadata": {
        "id": "hy9S1SNaLTBb"
      }
    },
    {
      "cell_type": "code",
      "execution_count": 2,
      "metadata": {
        "colab": {
          "base_uri": "https://localhost:8080/"
        },
        "id": "qbo2U2NRJ9dH",
        "outputId": "576eb0bf-71ae-45eb-f125-ecc11f14b96f"
      },
      "outputs": [
        {
          "output_type": "stream",
          "name": "stdout",
          "text": [
            "valor de la variable 0\n",
            "valor de la variable 1\n",
            "valor de la variable 2\n",
            "valor de la variable 3\n",
            "valor de la variable 4\n"
          ]
        }
      ],
      "source": [
        "for i in range(5):\n",
        "  print(f'valor de la variable {i}')"
      ]
    },
    {
      "cell_type": "code",
      "source": [
        "for i in range(5,30,3):\n",
        "  print(f'Valor de la variable {i}')\n",
        "#imprime del 5 al 30 de 3 en 3 "
      ],
      "metadata": {
        "colab": {
          "base_uri": "https://localhost:8080/"
        },
        "id": "-pbQmcDnNeDj",
        "outputId": "5a50785e-b2fc-404b-aba1-b8cabdfc14b2"
      },
      "execution_count": 4,
      "outputs": [
        {
          "output_type": "stream",
          "name": "stdout",
          "text": [
            "Valor de la variable 5\n",
            "Valor de la variable 8\n",
            "Valor de la variable 11\n",
            "Valor de la variable 14\n",
            "Valor de la variable 17\n",
            "Valor de la variable 20\n",
            "Valor de la variable 23\n",
            "Valor de la variable 26\n",
            "Valor de la variable 29\n"
          ]
        }
      ]
    },
    {
      "cell_type": "code",
      "source": [
        "#fucion len('juan') = 4 nos devuelve la longitud de un str \n",
        "\n",
        "valido = False \n",
        "\n",
        "gmail = input('Introduce tu gmail: ')\n",
        "\n",
        "for i in range(len(gmail)):\n",
        "  if gmail[i] == '@':\n",
        "    valido = True \n",
        "\n",
        "if valido:\n",
        "  print('Gmail Válido')\n",
        "else: \n",
        "  print('Gmail Incorrecta')"
      ],
      "metadata": {
        "colab": {
          "base_uri": "https://localhost:8080/"
        },
        "id": "59pMrqEtOJfu",
        "outputId": "6fd6200b-fcc2-48db-dc0f-84b524d5aed9"
      },
      "execution_count": 5,
      "outputs": [
        {
          "output_type": "stream",
          "name": "stdout",
          "text": [
            "Introduce tu gmail: juna@kfkfk\n",
            "Gmail Válido\n"
          ]
        }
      ]
    },
    {
      "cell_type": "markdown",
      "source": [
        "Curso python 17 \n",
        "\n",
        "Bucle While: indeterminado \n",
        "\n",
        "sintaxis"
      ],
      "metadata": {
        "id": "3IfK3zk5QoDU"
      }
    },
    {
      "cell_type": "code",
      "source": [
        "i = 1\n",
        "#ejemplo de bucle infinito\n",
        "while i <= 10: \n",
        "  print('Ejecución ' + str(i))\n",
        "  i = i + 1 #si no pongo esto el bucle es infinito\n",
        "print('Termino la ejecución')"
      ],
      "metadata": {
        "colab": {
          "base_uri": "https://localhost:8080/"
        },
        "id": "UXHgnQ_SQmau",
        "outputId": "f5d8e13c-5302-43be-8568-768f06ebcc33"
      },
      "execution_count": 7,
      "outputs": [
        {
          "output_type": "stream",
          "name": "stdout",
          "text": [
            "Ejecución 1\n",
            "Ejecución 2\n",
            "Ejecución 3\n",
            "Ejecución 4\n",
            "Ejecución 5\n",
            "Ejecución 6\n",
            "Ejecución 7\n",
            "Ejecución 8\n",
            "Ejecución 9\n",
            "Ejecución 10\n",
            "Termino la ejecución\n"
          ]
        }
      ]
    },
    {
      "cell_type": "code",
      "source": [
        "edad = int(input('Introduce tu edad: '))\n",
        "\n",
        "while edad < 0 or edad > 100:\n",
        "  print('Has introducido una edad incorrecta')\n",
        "  edad = int(input('Introduce tu edad: '))\n",
        "\n",
        "print('Gracias')\n",
        "print('Edad del aspirante ' + str(edad))\n"
      ],
      "metadata": {
        "colab": {
          "base_uri": "https://localhost:8080/"
        },
        "id": "YTzyqeA_T25y",
        "outputId": "6120be12-e2b1-4a2b-ba52-d9c418ebb257"
      },
      "execution_count": 12,
      "outputs": [
        {
          "output_type": "stream",
          "name": "stdout",
          "text": [
            "Introduce tu edad: 109\n",
            "Has introducido una edad incorrecta\n",
            "Introduce tu edad: -4\n",
            "Has introducido una edad incorrecta\n",
            "Introduce tu edad: 45\n",
            "Gracias\n",
            "Edad del aspirante 45\n"
          ]
        }
      ]
    },
    {
      "cell_type": "code",
      "source": [
        "#raiz cuadrada de un numero \n",
        "\n",
        "import math\n",
        "\n",
        "print('Programa de calculo de raiz cuadrada')\n",
        "numero = int(input('Introduce un numero: '))\n",
        "\n",
        "intentos = 0\n",
        "\n",
        "while numero < 0: \n",
        "  print('No se puede hallar la raiz de un numero negativo')\n",
        "  if intentos == 2:\n",
        "    print('Has consumido demasiados intentos el programa ha finalizado')\n",
        "    break; \n",
        "  numero = int(input('Introduce un numero: '))\n",
        "  if numero <0:\n",
        "    intentos = intentos + 1\n",
        "  \n",
        "if intentos < 2:\n",
        "  solucion = math.sqrt(numero)\n",
        "  print('La raiz cuadrada de ' + str(numero) + ' es ' + str(solucion))"
      ],
      "metadata": {
        "colab": {
          "base_uri": "https://localhost:8080/"
        },
        "id": "MgAxqP-sWSnw",
        "outputId": "6535c324-a7ea-411c-8c25-0c01b2cd7135"
      },
      "execution_count": 21,
      "outputs": [
        {
          "output_type": "stream",
          "name": "stdout",
          "text": [
            "Programa de calculo de raiz cuadrada\n",
            "Introduce un numero: -8\n",
            "No se puede hallar la raiz de un numero negativo\n",
            "Introduce un numero: -9\n",
            "No se puede hallar la raiz de un numero negativo\n",
            "Introduce un numero: 25\n",
            "La raiz cuadrada de 25 es 5.0\n"
          ]
        }
      ]
    },
    {
      "cell_type": "markdown",
      "source": [
        "Curso Python 18 Bucles 5\n",
        "\n",
        "Continue, pass y else "
      ],
      "metadata": {
        "id": "C-N9RGGkbjPh"
      }
    },
    {
      "cell_type": "code",
      "source": [
        "for letra in 'Serpiente':\n",
        "  print('Viendo la letra: ' + letra)"
      ],
      "metadata": {
        "colab": {
          "base_uri": "https://localhost:8080/"
        },
        "id": "zMCROD7acC3X",
        "outputId": "beb87499-1064-490f-c2bc-7450c2039934"
      },
      "execution_count": 22,
      "outputs": [
        {
          "output_type": "stream",
          "name": "stdout",
          "text": [
            "Viendo la letra: S\n",
            "Viendo la letra: e\n",
            "Viendo la letra: r\n",
            "Viendo la letra: p\n",
            "Viendo la letra: i\n",
            "Viendo la letra: e\n",
            "Viendo la letra: n\n",
            "Viendo la letra: t\n",
            "Viendo la letra: e\n"
          ]
        }
      ]
    },
    {
      "cell_type": "code",
      "source": [
        "for letra in 'Python':\n",
        "  if letra == 'h': #se salta la h\n",
        "    continue\n",
        "  print('Viendo la letra: ' + letra)"
      ],
      "metadata": {
        "colab": {
          "base_uri": "https://localhost:8080/"
        },
        "id": "PwNFc_iZcOtg",
        "outputId": "5992f1ce-5cea-4636-889a-3be9131c2cd0"
      },
      "execution_count": 23,
      "outputs": [
        {
          "output_type": "stream",
          "name": "stdout",
          "text": [
            "Viendo la letra: P\n",
            "Viendo la letra: y\n",
            "Viendo la letra: t\n",
            "Viendo la letra: o\n",
            "Viendo la letra: n\n"
          ]
        }
      ]
    },
    {
      "cell_type": "code",
      "source": [
        "nombre = 'Twice best gg'\n",
        "print(len(nombre))\n",
        "#cuenta todos los caracteres incluyendo los espacios en blanco"
      ],
      "metadata": {
        "colab": {
          "base_uri": "https://localhost:8080/"
        },
        "id": "smg6O9y_clY0",
        "outputId": "e2a2fc47-aade-4869-e2f7-7f3f58d235da"
      },
      "execution_count": 25,
      "outputs": [
        {
          "output_type": "stream",
          "name": "stdout",
          "text": [
            "13\n"
          ]
        }
      ]
    },
    {
      "cell_type": "code",
      "source": [
        "#Mismo pero mas complejo \n",
        "nombre = 'Twice best gg'\n",
        "\n",
        "contador = 0\n",
        "for i in nombre: \n",
        "  contador += 1\n",
        "  #contador = contador + 1 las dos funciones son iguales \n",
        "  #incrementan la variable en 1\n",
        "print(contador) "
      ],
      "metadata": {
        "colab": {
          "base_uri": "https://localhost:8080/"
        },
        "id": "shhC8p5Tc4dT",
        "outputId": "f1baf902-d0ac-439c-bebf-c6c6012c9c4a"
      },
      "execution_count": 28,
      "outputs": [
        {
          "output_type": "stream",
          "name": "stdout",
          "text": [
            "13\n"
          ]
        }
      ]
    },
    {
      "cell_type": "code",
      "source": [
        "nombre = 'Twice best gg'\n",
        "\n",
        "contador = 0\n",
        "for i in nombre: \n",
        "  if i == ' ': #si se encuentra con un espacio en blanco lo ignore\n",
        "    continue  #cuenta solo las letras \n",
        "  contador += 1\n",
        "print(contador) "
      ],
      "metadata": {
        "colab": {
          "base_uri": "https://localhost:8080/"
        },
        "id": "o9UE0zMjd5I1",
        "outputId": "fa29613a-f06d-45ce-b333-404144b28154"
      },
      "execution_count": 29,
      "outputs": [
        {
          "output_type": "stream",
          "name": "stdout",
          "text": [
            "11\n"
          ]
        }
      ]
    },
    {
      "cell_type": "code",
      "source": [
        "#Utilidad del pass\n",
        "\n",
        "while True:\n",
        "  pass\n",
        "\n",
        "class MiClase:\n",
        "  pass #para implementar mas tarde "
      ],
      "metadata": {
        "id": "yLm7o0sNebMa"
      },
      "execution_count": null,
      "outputs": []
    },
    {
      "cell_type": "code",
      "source": [
        "email = input('Introduce tu email: ')\n",
        "\n",
        "for i in email:\n",
        "  if i == '@':\n",
        "    arroba = True\n",
        "\n",
        "    break; \n",
        "\n",
        "else: \n",
        "  arroba = False \n",
        "\n",
        "print(arroba)"
      ],
      "metadata": {
        "colab": {
          "base_uri": "https://localhost:8080/"
        },
        "id": "DsH7IhmAflZd",
        "outputId": "e3f7d96f-47e9-4330-d763-01413dd32e1f"
      },
      "execution_count": 30,
      "outputs": [
        {
          "output_type": "stream",
          "name": "stdout",
          "text": [
            "Introduce tu email: juna\n",
            "False\n"
          ]
        }
      ]
    },
    {
      "cell_type": "markdown",
      "source": [
        "Curso pytho 19 Generadores \n",
        "\n",
        "- ¿Qué son?\n",
        "\n",
        "Estructuras que extraen valores de una funcion y se almacenan en objetos iterables (que se pueden recorrer) \n",
        "\n",
        "Estos valores se almacenan de uno en uno. \n",
        "\n",
        "Cada vez que un generador almacena un valor, esta permanece en un estado pausado hasta que se solicita el siguiente. Esta caracteristica es conocida como 'Suspensión de estado'. \n",
        "\n",
        "- Funcionamiento \n",
        "- ¿Qué utilidad tienen?\n",
        " - Son más eficientes que las funciones tradicionales \n",
        "  - Muy útiles con listas de valores infinitos \n",
        "  - Bajo determinados escenarios, sera muy util que un generador devuelva los valores de uno en uno. \n",
        "- ¿Cuál es su sintaxis?\n",
        "\n",
        "def generaNumero():\n",
        "\n",
        "\n",
        "  yield numeros "
      ],
      "metadata": {
        "id": "iqCyJ4Wxm652"
      }
    },
    {
      "cell_type": "markdown",
      "source": [
        "[ ] { } ¿?"
      ],
      "metadata": {
        "id": "VP-eWCIyONkw"
      }
    },
    {
      "cell_type": "code",
      "source": [
        "#funcion tradicional que genera numeros pares \n",
        "\n",
        "def generaPare (Limite):\n",
        "  num = 1\n",
        "  miLista = []\n",
        "\n",
        "  while num < Limite: \n",
        "     miLista.append(num*2)\n",
        "\n",
        "     num = num + 1\n",
        "\n",
        "  return miLista\n",
        "\n",
        "print(generaPare(10))"
      ],
      "metadata": {
        "colab": {
          "base_uri": "https://localhost:8080/"
        },
        "id": "3x1GN8GCq_Iy",
        "outputId": "9716bca6-1a4f-4b5e-89a8-3fca4effc000"
      },
      "execution_count": 32,
      "outputs": [
        {
          "output_type": "stream",
          "name": "stdout",
          "text": [
            "[2, 4, 6, 8, 10, 12, 14, 16, 18]\n"
          ]
        }
      ]
    },
    {
      "cell_type": "code",
      "source": [
        "#Generador de numeros pares \n",
        "\n",
        "def generaPare (Limite):\n",
        "  num = 1\n",
        "\n",
        "  while num < Limite: \n",
        "    yield num*2\n",
        "\n",
        "    num = num + 1\n",
        "\n",
        "devuelvePares = generaPare(10)\n",
        "\n",
        "for i in devuelvePares: \n",
        "  print(i)"
      ],
      "metadata": {
        "colab": {
          "base_uri": "https://localhost:8080/"
        },
        "id": "EY9VSXS-ru61",
        "outputId": "b17348c3-984a-410f-ae27-62770c9d3eaa"
      },
      "execution_count": 34,
      "outputs": [
        {
          "output_type": "stream",
          "name": "stdout",
          "text": [
            "2\n",
            "4\n",
            "6\n",
            "8\n",
            "10\n",
            "12\n",
            "14\n",
            "16\n",
            "18\n"
          ]
        }
      ]
    },
    {
      "cell_type": "code",
      "source": [
        "#devuelva valor a valor \n",
        "\n",
        "def generaPare (Limite):\n",
        "  num = 1\n",
        "\n",
        "  while num < Limite: \n",
        "    yield num*2\n",
        "\n",
        "    num = num + 1\n",
        "\n",
        "devuelvePares = generaPare(10)\n",
        "\n",
        "print(next(devuelvePares))\n",
        "\n",
        "print('Aqui podría ir más código...')\n",
        "\n",
        "print(next(devuelvePares))\n",
        "\n",
        "print('Aqui podría ir más código...')\n",
        "\n",
        "print(next(devuelvePares))\n",
        "\n",
        "print('Aqui podría ir más código...')\n"
      ],
      "metadata": {
        "colab": {
          "base_uri": "https://localhost:8080/"
        },
        "id": "L1cpqlKexoel",
        "outputId": "c17e2d7b-f1aa-4589-b217-6a16e0568dc6"
      },
      "execution_count": 35,
      "outputs": [
        {
          "output_type": "stream",
          "name": "stdout",
          "text": [
            "2\n",
            "Aqui podría ir más código...\n",
            "4\n",
            "Aqui podría ir más código...\n",
            "6\n",
            "Aqui podría ir más código...\n"
          ]
        }
      ]
    },
    {
      "cell_type": "code",
      "source": [
        "#curso python 20 no mire"
      ],
      "metadata": {
        "id": "YZF_1XjD1lc5"
      },
      "execution_count": null,
      "outputs": []
    }
  ]
}