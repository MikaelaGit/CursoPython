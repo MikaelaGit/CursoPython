{
  "nbformat": 4,
  "nbformat_minor": 0,
  "metadata": {
    "colab": {
      "provenance": [],
      "authorship_tag": "ABX9TyMwVGaGR+GJ59YXtt3pX/gq",
      "include_colab_link": true
    },
    "kernelspec": {
      "name": "python3",
      "display_name": "Python 3"
    },
    "language_info": {
      "name": "python"
    }
  },
  "cells": [
    {
      "cell_type": "markdown",
      "metadata": {
        "id": "view-in-github",
        "colab_type": "text"
      },
      "source": [
        "<a href=\"https://colab.research.google.com/github/MikaelaGit/CursoPython/blob/main/Cursopy_13_16_.ipynb\" target=\"_parent\"><img src=\"https://colab.research.google.com/assets/colab-badge.svg\" alt=\"Open In Colab\"/></a>"
      ]
    },
    {
      "cell_type": "code",
      "execution_count": null,
      "metadata": {
        "id": "fBPXJ5w4l9lc"
      },
      "outputs": [],
      "source": [
        "Condicionales IV - 13\n",
        "\n",
        "Operadores lógicos \"and\" y \"or\"\n",
        "operador \"in\""
      ]
    },
    {
      "cell_type": "code",
      "source": [
        "Programa becas\n",
        "distancia > 40km\n",
        "numero hermanos > 2\n",
        "salario familiar <= 20.000\n",
        "Los que cumplan las 3 instancias obtienen beca"
      ],
      "metadata": {
        "id": "YWdUW1Gtm2uD"
      },
      "execution_count": null,
      "outputs": []
    },
    {
      "cell_type": "code",
      "source": [
        "print(\"Programa de becas\")\n",
        "\n",
        "distancia = int(input(\"Introduce la distancia a la escuela en km: \"))\n",
        "print(distancia)\n",
        "\n",
        "hermanos = int(input(\"Introduce el nº de hermanos: \"))\n",
        "print(hermanos)\n",
        "\n",
        "salario = int(input(\"Introduce el salario familiar: \"))\n",
        "print(salario)\n",
        "\n",
        "#if distancia > 40 and hermanos > 2 and salario <= 20000:\n",
        "#se tienen que cumplir las 3 condiciones si o si\n",
        "\n",
        "if distancia > 40 and hermanos > 2 or salario <= 20000:\n",
        "#el salario pesa sobre las otras condiciones, si el salario es bajo, obtiene beca\n",
        "  print(\"Tienes derecho a beca\")\n",
        "\n",
        "else:\n",
        "\n",
        "  print(\"No tienes derecho a beca\")\n",
        "\n"
      ],
      "metadata": {
        "colab": {
          "base_uri": "https://localhost:8080/"
        },
        "id": "hypOX3b0nIdw",
        "outputId": "5ca8a7ee-33f0-40e4-d96b-833cc6e5f880"
      },
      "execution_count": null,
      "outputs": [
        {
          "output_type": "stream",
          "name": "stdout",
          "text": [
            "Programa de becas\n",
            "Introduce la distancia a la escuela en km: 3\n",
            "3\n",
            "Introduce el nº de hermanos: 0\n",
            "0\n",
            "Introduce el salario familiar: 17000\n",
            "17000\n",
            "Tienes derecho a beca\n"
          ]
        }
      ]
    },
    {
      "cell_type": "code",
      "source": [
        "print(\"Programa de asignaturas optativas\")\n",
        "\n",
        "print(\"Asignaturas optaticas: Informática - Software - Accesibilidad\")\n",
        "\n",
        "#asignatura = input(\"Escribe la asignatura escogida: \")\n",
        "opcion = input(\"Escribe la asignatura escogida: \")\n",
        "\n",
        "asignatura = opcion.lower() #convetir a minusculas\n",
        "\n",
        "if asignatura in (\"informática\", \"software\", \"usabilidad\"):\n",
        "  print(\"Asignatura elegida \", asignatura)\n",
        "else:\n",
        "  print(\"La asignatura escogida no esta contemplada\")\n",
        "\n"
      ],
      "metadata": {
        "colab": {
          "base_uri": "https://localhost:8080/"
        },
        "id": "5tEFYzUfpIQk",
        "outputId": "af98d9d2-7005-4c13-f24c-450692750ccd"
      },
      "execution_count": null,
      "outputs": [
        {
          "output_type": "stream",
          "name": "stdout",
          "text": [
            "Programa de asignaturas optativas\n",
            "Asignaturas optaticas: Informática - Software - Accesibilidad\n",
            "Escribe la asignatura escogida: informatica\n",
            "La asignatura escogida no esta contemplada\n"
          ]
        }
      ]
    },
    {
      "cell_type": "code",
      "source": [
        "Python es case sensitive distingue entre mayusculas y minisculas\n",
        "lower(), transformar un valor a minusculas\n",
        "upper(), transformar los valores a mayusculas"
      ],
      "metadata": {
        "id": "9ED_kBcap-Iv"
      },
      "execution_count": null,
      "outputs": []
    },
    {
      "cell_type": "code",
      "source": [
        "Bucles I - 14\n",
        "Bucles. tipos - bucle for\n",
        "\n",
        "bucle for(determinado). sintaxis\n",
        "\n",
        "for variable in elemento a recorrer:\n",
        "  cuerpo del bucle"
      ],
      "metadata": {
        "id": "v8wttozSrf3G"
      },
      "execution_count": null,
      "outputs": []
    },
    {
      "cell_type": "code",
      "source": [
        "for i in (1,2,3):\n",
        "  print(\"Bada Lee\")\n",
        "\n",
        "print(\"no tengo nada que hacer\")\n",
        "\n",
        "for i in (\"mi\", \"amor\", \"te amo\"):\n",
        "  #print(\"bada\")\n",
        "  print(i)\n",
        "  #print(i, end=\" \")\n",
        "\n",
        "#for team_bebe in (\"Bada\", \"Tatter\", \"Lusher\", \"Kyma\", \"Cheche\",\"Minah\", \"Soweon\"):\n",
        "  #print(team_bebe, end= \" \")"
      ],
      "metadata": {
        "colab": {
          "base_uri": "https://localhost:8080/"
        },
        "id": "IaquPVNAvKvi",
        "outputId": "f705f740-bc96-4251-fc08-bb2b6e0c0c59"
      },
      "execution_count": null,
      "outputs": [
        {
          "output_type": "stream",
          "name": "stdout",
          "text": [
            "Bada Lee\n",
            "Bada Lee\n",
            "Bada Lee\n",
            "no tengo nada que hacer\n",
            "mi\n",
            "amor\n",
            "te amo\n"
          ]
        }
      ]
    },
    {
      "cell_type": "code",
      "source": [
        "Bucles II - 15\n",
        "Bucle for\n",
        "- Recorriendo string\n",
        "- Tipo range\n",
        "- Notaciones especiales con print\n"
      ],
      "metadata": {
        "id": "mFdVZgAMwwXm"
      },
      "execution_count": null,
      "outputs": []
    },
    {
      "cell_type": "code",
      "source": [
        "for bebe in ( \"Team BEBE:\", \"Bada\", \"Tatter\", \"Lusher\", \"Kyma\", \"Cheche\",\"Minah\", \"Soweon\"):\n",
        "  print(bebe, end=\" \")\n",
        "  #imprime todo en una sola linea\n",
        "  #end=\"\" sin separacion, \" \" con separación"
      ],
      "metadata": {
        "colab": {
          "base_uri": "https://localhost:8080/"
        },
        "id": "PKPtkTqsx6ZG",
        "outputId": "2623cc6b-fc7d-4e64-ec7c-00d9a9de84ef"
      },
      "execution_count": null,
      "outputs": [
        {
          "output_type": "stream",
          "name": "stdout",
          "text": [
            "Team BEBE: Bada Tatter Lusher Kyma Cheche Minah Soweon "
          ]
        }
      ]
    },
    {
      "cell_type": "code",
      "source": [
        "from google.colab import drive\n",
        "drive.mount('/content/drive')"
      ],
      "metadata": {
        "id": "eInk4d8G9EEs"
      },
      "execution_count": null,
      "outputs": []
    },
    {
      "cell_type": "code",
      "source": [
        "email = False\n",
        "\n",
        "for i in \"mica234543@gmail.com\":\n",
        "  #print(i) #imprime todos los caracteres\n",
        "  if (i == \"@\"): #no olvidar las comillas ya que es un string\n",
        "    email = True\n",
        "\n",
        "#if email == True:\n",
        "if email: #funciona igual que email == true\n",
        "  print(\"Gmail correcto\")\n",
        "else:\n",
        "  print(\"Gmail incorrecto\")"
      ],
      "metadata": {
        "colab": {
          "base_uri": "https://localhost:8080/"
        },
        "id": "988ONsirz4O9",
        "outputId": "7463e4bc-6ce0-4e44-9c8f-905a95db8734"
      },
      "execution_count": null,
      "outputs": [
        {
          "output_type": "stream",
          "name": "stdout",
          "text": [
            "Gmail correcto\n"
          ]
        }
      ]
    },
    {
      "cell_type": "code",
      "source": [
        "contador = 0\n",
        "#gmail = False\n",
        "\n",
        "miGmail = input(\"Introduce tu dirección de gmail: \")\n",
        "\n",
        "for i in miGmail:\n",
        "  #if (i == \"@\" or i == \".\"):\n",
        "  if (i == \"@\" or i == \".\"):\n",
        "    #gmail = True\n",
        "    contador = contador + 1\n",
        "\n",
        "#if gmail:\n",
        "if contador == 2:\n",
        "  print(\"Gmail correcto\")\n",
        "else:\n",
        "  print(\"Gmail incorrecto\")"
      ],
      "metadata": {
        "colab": {
          "base_uri": "https://localhost:8080/"
        },
        "id": "LbPjsJw91n2F",
        "outputId": "66a3ba57-2d55-42ed-af38-65cb49acba53"
      },
      "execution_count": null,
      "outputs": [
        {
          "output_type": "stream",
          "name": "stdout",
          "text": [
            "Introduce tu dirección de gmail: hdp@gmail.com\n",
            "Gmail correcto\n"
          ]
        }
      ]
    },
    {
      "cell_type": "code",
      "source": [
        "for i in range(5):\n",
        "  print(i, \"lugar\")"
      ],
      "metadata": {
        "colab": {
          "base_uri": "https://localhost:8080/"
        },
        "id": "5gpMMm6c4oPR",
        "outputId": "6b6b1135-6170-44b3-95b2-a3f1b27a3dbc"
      },
      "execution_count": null,
      "outputs": [
        {
          "output_type": "stream",
          "name": "stdout",
          "text": [
            "0 lugar\n",
            "1 lugar\n",
            "2 lugar\n",
            "3 lugar\n",
            "4 lugar\n"
          ]
        }
      ]
    },
    {
      "cell_type": "code",
      "source": [
        "Bucles III 16\n",
        "Tipo range\n",
        "Notaciones especiales con print"
      ],
      "metadata": {
        "id": "R3QdVxxrCzW0"
      },
      "execution_count": null,
      "outputs": []
    },
    {
      "cell_type": "code",
      "source": [
        "for i in range(3):\n",
        "  print(f\"valor de la variable {i}\")\n",
        "  #print(\"Valor de la variable\", i)\n",
        "\n",
        "for i in range(5,10):\n",
        "  print(i)"
      ],
      "metadata": {
        "colab": {
          "base_uri": "https://localhost:8080/"
        },
        "id": "kdB0_zuOEzye",
        "outputId": "be3a4519-8a3a-4f69-9a75-343ae753cdab"
      },
      "execution_count": null,
      "outputs": [
        {
          "output_type": "stream",
          "name": "stdout",
          "text": [
            "valor de la variable 0\n",
            "valor de la variable 1\n",
            "valor de la variable 2\n",
            "5\n",
            "6\n",
            "7\n",
            "8\n",
            "9\n"
          ]
        }
      ]
    },
    {
      "cell_type": "code",
      "source": [
        "{ } Funcion de tipo f : nos permiten jugar con formatos de forma diferente"
      ],
      "metadata": {
        "colab": {
          "base_uri": "https://localhost:8080/"
        },
        "id": "7VFIeOpjFV_R",
        "outputId": "f6efd1f0-29e7-4d65-e921-ae035d81ca06"
      },
      "execution_count": null,
      "outputs": [
        {
          "output_type": "execute_result",
          "data": {
            "text/plain": [
              "{}"
            ]
          },
          "metadata": {},
          "execution_count": 4
        }
      ]
    },
    {
      "cell_type": "code",
      "source": [
        "for tabladel5 in range(5,50,5):\n",
        "  print( tabladel5 )\n",
        "\n",
        "#va desde el 5 al 50, saltando de 5 en 5"
      ],
      "metadata": {
        "colab": {
          "base_uri": "https://localhost:8080/"
        },
        "id": "PM38E7EEGKkj",
        "outputId": "ae26661d-6a5e-4322-d16a-9c80791d462a"
      },
      "execution_count": null,
      "outputs": [
        {
          "output_type": "stream",
          "name": "stdout",
          "text": [
            "5\n",
            "10\n",
            "15\n",
            "20\n",
            "25\n",
            "30\n",
            "35\n",
            "40\n",
            "45\n"
          ]
        }
      ]
    },
    {
      "cell_type": "code",
      "source": [
        "contador = 1\n",
        "\n",
        "for tabla in range(5,55,5):\n",
        "  print(\"5 x\", contador, \":\", tabla)\n",
        "  contador = contador + 1"
      ],
      "metadata": {
        "colab": {
          "base_uri": "https://localhost:8080/"
        },
        "id": "DdDz3H1-e33x",
        "outputId": "29c5d1ce-4954-48cd-fe76-579198a533ae"
      },
      "execution_count": 4,
      "outputs": [
        {
          "output_type": "stream",
          "name": "stdout",
          "text": [
            "5 x 1 : 5\n",
            "5 x 2 : 10\n",
            "5 x 3 : 15\n",
            "5 x 4 : 20\n",
            "5 x 5 : 25\n",
            "5 x 6 : 30\n",
            "5 x 7 : 35\n",
            "5 x 8 : 40\n",
            "5 x 9 : 45\n",
            "5 x 10 : 50\n"
          ]
        }
      ]
    },
    {
      "cell_type": "code",
      "source": [
        "contador = 1\n",
        "\n",
        "for tabla in range(2,22,2):\n",
        "  print(\"2 x\", contador, \":\", tabla)\n",
        "  contador = contador + 1"
      ],
      "metadata": {
        "colab": {
          "base_uri": "https://localhost:8080/"
        },
        "id": "NhxMtmJrfXvi",
        "outputId": "313530f3-5d68-469f-9f88-e1231aeb9f9f"
      },
      "execution_count": 6,
      "outputs": [
        {
          "output_type": "stream",
          "name": "stdout",
          "text": [
            "2 x 1 : 2\n",
            "2 x 2 : 4\n",
            "2 x 3 : 6\n",
            "2 x 4 : 8\n",
            "2 x 5 : 10\n",
            "2 x 6 : 12\n",
            "2 x 7 : 14\n",
            "2 x 8 : 16\n",
            "2 x 9 : 18\n",
            "2 x 10 : 20\n"
          ]
        }
      ]
    },
    {
      "cell_type": "code",
      "source": [
        "contador = 1\n",
        "salto = 19\n",
        "\n",
        "for tabla in (1,2,3,4,5,6,7,8,9,10):\n",
        "  tabla = salto * tabla\n",
        "  print(\"19 x\", contador, \":\", tabla)\n",
        "  contador = contador + 1"
      ],
      "metadata": {
        "colab": {
          "base_uri": "https://localhost:8080/"
        },
        "id": "lkHXOYsbf1L2",
        "outputId": "bcade587-873f-4258-a56d-793e7d7345e3"
      },
      "execution_count": 12,
      "outputs": [
        {
          "output_type": "stream",
          "name": "stdout",
          "text": [
            "19 x 1 : 19\n",
            "19 x 2 : 38\n",
            "19 x 3 : 57\n",
            "19 x 4 : 76\n",
            "19 x 5 : 95\n",
            "19 x 6 : 114\n",
            "19 x 7 : 133\n",
            "19 x 8 : 152\n",
            "19 x 9 : 171\n",
            "19 x 10 : 190\n"
          ]
        }
      ]
    },
    {
      "cell_type": "code",
      "source": [
        "contador = 1\n",
        "salto = 8\n",
        "\n",
        "for tabla in (\"a\",\"b\",\"c\",\"d\",\"e\",\"f\",\"g\",\"h\",\"i\",\"j\"):\n",
        "  tabla = salto * tabla\n",
        "  print(\"8 x\", contador, \":\", tabla)\n",
        "  contador = contador + 1"
      ],
      "metadata": {
        "colab": {
          "base_uri": "https://localhost:8080/"
        },
        "id": "HHYy3f4lgmPa",
        "outputId": "c41c12c5-45ac-47a7-d868-5ea3c8804c3f"
      },
      "execution_count": 13,
      "outputs": [
        {
          "output_type": "stream",
          "name": "stdout",
          "text": [
            "8 x 1 : aaaaaaaa\n",
            "8 x 2 : bbbbbbbb\n",
            "8 x 3 : cccccccc\n",
            "8 x 4 : dddddddd\n",
            "8 x 5 : eeeeeeee\n",
            "8 x 6 : ffffffff\n",
            "8 x 7 : gggggggg\n",
            "8 x 8 : hhhhhhhh\n",
            "8 x 9 : iiiiiiii\n",
            "8 x 10 : jjjjjjjj\n"
          ]
        }
      ]
    },
    {
      "cell_type": "code",
      "source": [
        "valido = False\n",
        "\n",
        "email = input(\"Introduce tu email: \")\n",
        "\n",
        "for i in range(len(email)):\n",
        "  if email[i] == \"@\":\n",
        "    valido = True\n",
        "\n",
        "if valido:\n",
        "  print(\"Email correcto\")\n",
        "\n",
        "else:\n",
        "  print(\"Email incorrecto\")\n",
        "\n"
      ],
      "metadata": {
        "colab": {
          "base_uri": "https://localhost:8080/"
        },
        "id": "az1xZoA_h-Y2",
        "outputId": "41575d35-f1dd-49dd-ba93-7ae750aa2eb6"
      },
      "execution_count": 14,
      "outputs": [
        {
          "output_type": "stream",
          "name": "stdout",
          "text": [
            "Introduce tu email: mica@gmail.com\n",
            "Email correcto\n"
          ]
        }
      ]
    },
    {
      "cell_type": "code",
      "source": [
        "valido = False\n",
        "\n",
        "email = input(\"Introduce tu email: \")\n",
        "\n",
        "for i in range(len(email)):\n",
        "  print(len(email))\n"
      ],
      "metadata": {
        "colab": {
          "base_uri": "https://localhost:8080/"
        },
        "id": "qkZXlgAZkRNp",
        "outputId": "5dfbaee5-0c06-4e59-d3e0-7affc12a21bb"
      },
      "execution_count": 19,
      "outputs": [
        {
          "output_type": "stream",
          "name": "stdout",
          "text": [
            "Introduce tu email: micaela\n",
            "7\n",
            "7\n",
            "7\n",
            "7\n",
            "7\n",
            "7\n",
            "7\n"
          ]
        }
      ]
    }
  ]
}