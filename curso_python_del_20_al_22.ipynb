{
  "nbformat": 4,
  "nbformat_minor": 0,
  "metadata": {
    "colab": {
      "provenance": [],
      "authorship_tag": "ABX9TyMItWtGTdIstLlFKIe29gJX",
      "include_colab_link": true
    },
    "kernelspec": {
      "name": "python3",
      "display_name": "Python 3"
    },
    "language_info": {
      "name": "python"
    }
  },
  "cells": [
    {
      "cell_type": "markdown",
      "metadata": {
        "id": "view-in-github",
        "colab_type": "text"
      },
      "source": [
        "<a href=\"https://colab.research.google.com/github/MikaelaGit/CursoPython/blob/main/curso_python_del_20_al_22.ipynb\" target=\"_parent\"><img src=\"https://colab.research.google.com/assets/colab-badge.svg\" alt=\"Open In Colab\"/></a>"
      ]
    },
    {
      "cell_type": "code",
      "execution_count": null,
      "metadata": {
        "id": "U07FLXYUQYHZ"
      },
      "outputs": [],
      "source": [
        "#Curso Python 20 Generadores II"
      ]
    },
    {
      "cell_type": "code",
      "source": [
        "#Generadores Yield From : Utilidad, simplificar el codigo de los generadores en el caso de utilizar bucles anidados \n",
        "#Def miGenerador():\n",
        "#Yield Elementos - for elem in elementos - for subelem in elem "
      ],
      "metadata": {
        "id": "rvAKVwsqRPUR"
      },
      "execution_count": null,
      "outputs": []
    },
    {
      "cell_type": "code",
      "source": [
        "def devuelveciudades(*ciudades):\n",
        "  #cuando se pone un asterisco delante de la palabra se indica que se va a recibir un numero indeterminado de argumentos \n",
        "  #y esos argumentos van a ser en forma de tupla \n",
        "  for elemento in ciudades:\n",
        "    yield elemento\n",
        "\n",
        "ciudadesdevueltas = devuelveciudades('Madrid', 'Barcelona','Bilbao', 'Valencia')\n",
        "print(next(ciudadesdevueltas))\n",
        "\n",
        "print(next(ciudadesdevueltas))\n"
      ],
      "metadata": {
        "colab": {
          "base_uri": "https://localhost:8080/"
        },
        "id": "yJWglYziSIa_",
        "outputId": "2808631c-6345-474d-d3fa-531641be0d8a"
      },
      "execution_count": 1,
      "outputs": [
        {
          "output_type": "stream",
          "name": "stdout",
          "text": [
            "Madrid\n",
            "Barcelona\n"
          ]
        }
      ]
    },
    {
      "cell_type": "code",
      "source": [
        "def devuelveciudades(*ciudades):\n",
        "  for elemento in ciudades:\n",
        "    for subElemento in elemento:\n",
        "      yield subElemento\n",
        "\n",
        "ciudadesdevueltas = devuelveciudades('Madrid', 'Barcelona','Bilbao', 'Valencia')\n",
        "print(next(ciudadesdevueltas))\n",
        "\n",
        "print(next(ciudadesdevueltas))"
      ],
      "metadata": {
        "colab": {
          "base_uri": "https://localhost:8080/"
        },
        "id": "fvbQE2c7TaA_",
        "outputId": "448af3cd-b039-43f2-ceb8-41dde91c53ad"
      },
      "execution_count": 4,
      "outputs": [
        {
          "output_type": "stream",
          "name": "stdout",
          "text": [
            "M\n",
            "a\n"
          ]
        }
      ]
    },
    {
      "cell_type": "code",
      "source": [
        "def devuelveciudades(*ciudades):\n",
        "  for elemento in ciudades:\n",
        "    #for subElemento in elemento:\n",
        "      yield from elemento\n",
        "\n",
        "ciudadesdevueltas = devuelveciudades('Madrid', 'Barcelona','Bilbao', 'Valencia')\n",
        "print(next(ciudadesdevueltas))\n",
        "\n",
        "print(next(ciudadesdevueltas))"
      ],
      "metadata": {
        "colab": {
          "base_uri": "https://localhost:8080/"
        },
        "id": "tHCIGkhBUDXy",
        "outputId": "a031e07d-2718-4709-8530-1c31281267cd"
      },
      "execution_count": 5,
      "outputs": [
        {
          "output_type": "stream",
          "name": "stdout",
          "text": [
            "M\n",
            "a\n"
          ]
        }
      ]
    },
    {
      "cell_type": "code",
      "source": [
        "#Curso python 21 Excepciones I \n"
      ],
      "metadata": {
        "id": "G1ODPt7XUVab"
      },
      "execution_count": null,
      "outputs": []
    },
    {
      "cell_type": "markdown",
      "source": [
        "Que es una excepción\n",
        "\n",
        "\n",
        "las expeciones son errores que ocurren durante la ejecución del programa.La sintaxis del codigo es correcta pero durante la ejecución ha ocurrido 'algo inesperado'\n",
        "\n",
        "Este tipo de errores de ejecución se pueden controlar para que la ejecución del programa continúe. Es lo que se conoce como Manejo o control de excepciones. \n",
        "\n",
        "captura o control de excepción \n",
        "\n",
        "intenta realizar esta excepción y en el caso de que no puedas ejecuta el programa igual \n",
        "\n",
        "\n",
        "-pila de llamadas \n",
        "\n",
        "\n",
        "-descripción del error \n",
        "\n",
        "- bloque try: except Zero divisionError\n",
        "\n",
        "\n",
        "Como manejar excepciones "
      ],
      "metadata": {
        "id": "AsurlXMYU9hh"
      }
    },
    {
      "cell_type": "code",
      "source": [
        "#curso python 22 excepciones II\n",
        "#capturas de varias excepciones\n",
        "#cláusula finally \n",
        "#"
      ],
      "metadata": {
        "id": "TbXNQiFxZifJ"
      },
      "execution_count": null,
      "outputs": []
    },
    {
      "cell_type": "code",
      "source": [
        "#codigo original \n",
        "def suma(num1, num2):\n",
        "\treturn num1+num2\n",
        "\n",
        "def resta(num1, num2):\n",
        "\treturn num1-num2\n",
        "\n",
        "def multiplica(num1, num2):\n",
        "\treturn num1*num2\n",
        "\n",
        "def divide(num1,num2):\t\t\n",
        "\treturn num1/num2\n",
        "\t\n",
        "\n",
        "op1=(int(input(\"Introduce el primer número: \")))\n",
        "\n",
        "op2=(int(input(\"Introduce el segundo número: \")))\t\t\n",
        "\t\n",
        "operacion=input(\"Introduce la operación a realizar (suma,resta,multiplica,divide): \")\n",
        "\n",
        "if operacion==\"suma\":\n",
        "\tprint(suma(op1,op2))\n",
        "\n",
        "elif operacion==\"resta\":\n",
        "\tprint(resta(op1,op2))\n",
        "\n",
        "elif operacion==\"multiplica\":\n",
        "\tprint(multiplica(op1,op2))\n",
        "\n",
        "elif operacion==\"divide\":\n",
        "\tprint(divide(op1,op2))\n",
        "\n",
        "else:\n",
        "\tprint (\"Operación no contemplada\")\n",
        "\n",
        "\n",
        "print(\"Operación ejecutada. Continuación de ejecución del programa \")"
      ],
      "metadata": {
        "colab": {
          "base_uri": "https://localhost:8080/"
        },
        "id": "Sk3-7ZL5Zqc5",
        "outputId": "461ff921-4cfe-4f19-bc3a-c18f02bfea71"
      },
      "execution_count": 6,
      "outputs": [
        {
          "output_type": "stream",
          "name": "stdout",
          "text": [
            "Introduce el primer número: 4\n",
            "Introduce el segundo número: 5\n",
            "Introduce la operación a realizar (suma,resta,multiplica,divide): suma\n",
            "9\n",
            "Operación ejecutada. Continuación de ejecución del programa \n"
          ]
        }
      ]
    },
    {
      "cell_type": "code",
      "source": [
        "#codigo con la excepción \n",
        "def suma(num1, num2):\n",
        "\treturn num1+num2\n",
        "\n",
        "def resta(num1, num2):\n",
        "\treturn num1-num2\n",
        "\n",
        "def multiplica(num1, num2):\n",
        "\treturn num1*num2\n",
        "\n",
        "def divide(num1,num2):\t\t\n",
        "  try:\n",
        "      return num1/num2\n",
        "    \n",
        "  except ZeroDivisionError:\n",
        "      print('No se puede dividir entre 0')\n",
        "      return 'Operación errónea'\n",
        "\t\n",
        "\n",
        "op1=(int(input(\"Introduce el primer número: \")))\n",
        "\n",
        "op2=(int(input(\"Introduce el segundo número: \")))\t\t\n",
        "\t\n",
        "operacion=input(\"Introduce la operación a realizar (suma,resta,multiplica,divide): \")\n",
        "\n",
        "if operacion==\"suma\":\n",
        "\tprint(suma(op1,op2))\n",
        "\n",
        "elif operacion==\"resta\":\n",
        "\tprint(resta(op1,op2))\n",
        "\n",
        "elif operacion==\"multiplica\":\n",
        "\tprint(multiplica(op1,op2))\n",
        "\n",
        "elif operacion==\"divide\":\n",
        "\tprint(divide(op1,op2))\n",
        "\n",
        "else:\n",
        "\tprint (\"Operación no contemplada\")\n",
        "\n",
        "\n",
        "print(\"Operación ejecutada. Continuación de ejecución del programa \")"
      ],
      "metadata": {
        "colab": {
          "base_uri": "https://localhost:8080/"
        },
        "id": "g2ZHQGj6bCKX",
        "outputId": "7748281a-efbd-496f-e893-36ee6c9d18c2"
      },
      "execution_count": 11,
      "outputs": [
        {
          "output_type": "stream",
          "name": "stdout",
          "text": [
            "Introduce el primer número: 8\n",
            "Introduce el segundo número: 0\n",
            "Introduce la operación a realizar (suma,resta,multiplica,divide): divide\n",
            "No se puede dividir entre 0\n",
            "Operación errónea\n",
            "Operación ejecutada. Continuación de ejecución del programa \n"
          ]
        }
      ]
    },
    {
      "cell_type": "code",
      "source": [
        "#otro error capturar varias excepciones\n",
        "def suma(num1, num2):\n",
        "\treturn num1+num2\n",
        "\n",
        "def resta(num1, num2):\n",
        "\treturn num1-num2\n",
        "\n",
        "def multiplica(num1, num2):\n",
        "\treturn num1*num2\n",
        "\n",
        "def divide(num1,num2):\t\t\n",
        "  try:\n",
        "      return num1/num2\n",
        "    \n",
        "  except ZeroDivisionError:\n",
        "      print('No se puede dividir entre 0')\n",
        "      return 'Operación errónea'\n",
        "while True:\n",
        "  try:\n",
        "    op1=(int(input(\"Introduce el primer número: \")))\n",
        "\n",
        "    op2=(int(input(\"Introduce el segundo número: \")))\t\n",
        "\n",
        "    break\n",
        "\n",
        "  except ValueError:\n",
        "    print('Los valores introducidos no son correctos. Inténtalo de nuevo')\t\n",
        "\t\n",
        "operacion=input(\"Introduce la operación a realizar (suma,resta,multiplica,divide): \")\n",
        "\n",
        "if operacion==\"suma\":\n",
        "\tprint(suma(op1,op2))\n",
        "\n",
        "elif operacion==\"resta\":\n",
        "\tprint(resta(op1,op2))\n",
        "\n",
        "elif operacion==\"multiplica\":\n",
        "\tprint(multiplica(op1,op2))\n",
        "\n",
        "elif operacion==\"divide\":\n",
        "\tprint(divide(op1,op2))\n",
        "\n",
        "else:\n",
        "\tprint (\"Operación no contemplada\")\n",
        "\n",
        "\n",
        "print(\"Operación ejecutada. Continuación de ejecución del programa \")"
      ],
      "metadata": {
        "colab": {
          "base_uri": "https://localhost:8080/"
        },
        "id": "cVICTUgncMRl",
        "outputId": "8c87e081-8954-4a09-cb3e-b9b16a15158b"
      },
      "execution_count": 13,
      "outputs": [
        {
          "output_type": "stream",
          "name": "stdout",
          "text": [
            "Introduce el primer número: fjlaljsñ\n",
            "Los valores introducidos no son correctos. Inténtalo de nuevo\n",
            "Introduce el primer número: 8\n",
            "Introduce el segundo número: 0\n",
            "Introduce la operación a realizar (suma,resta,multiplica,divide): divide\n",
            "No se puede dividir entre 0\n",
            "Operación errónea\n",
            "Operación ejecutada. Continuación de ejecución del programa \n"
          ]
        }
      ]
    },
    {
      "cell_type": "code",
      "source": [
        "#codigo original\n",
        "def divide():\n",
        "  \n",
        "  op1 = (float(input('introduce el primer numero ')))\n",
        "\n",
        "  op2 = (float(input('introduce el segundo numero ')))\n",
        "\n",
        "  print('La división es: ' + str(op1/op2))\n",
        "\n",
        "  print('Cálculo finalizado')\n",
        "\n",
        "divide()\n",
        "  "
      ],
      "metadata": {
        "colab": {
          "base_uri": "https://localhost:8080/"
        },
        "id": "dgacw6HyehOs",
        "outputId": "c31aee9c-40f2-4764-a5e7-5382603f71a7"
      },
      "execution_count": 15,
      "outputs": [
        {
          "output_type": "stream",
          "name": "stdout",
          "text": [
            "introduce el primer numero 8\n",
            "introduce el segundo numero 2\n",
            "La división es: 4.0\n",
            "Cálculo finalizado\n"
          ]
        }
      ]
    },
    {
      "cell_type": "code",
      "source": [
        "#excepciones continuas\n",
        "def divide():\n",
        "  try:\n",
        "    op1 = (float(input('introduce el primer numero ')))\n",
        "\n",
        "    op2 = (float(input('introduce el segundo numero ')))\n",
        "\n",
        "    print('La división es: ' + str(op1/op2))\n",
        "\n",
        "  except ValueError: \n",
        "\n",
        "    print('El valor introducido es erróneo')\n",
        "\n",
        "  except ZeroDivisionError:\n",
        "\n",
        "    print('No se puede dividir entre 0')\n",
        "\n",
        "  print('Cálculo finalizado')\n",
        "\n",
        "divide()"
      ],
      "metadata": {
        "colab": {
          "base_uri": "https://localhost:8080/"
        },
        "id": "_9Epa7V2flvQ",
        "outputId": "4d9afd62-f955-4915-8db0-66e8a9281167"
      },
      "execution_count": 17,
      "outputs": [
        {
          "output_type": "stream",
          "name": "stdout",
          "text": [
            "introduce el primer numero 8\n",
            "introduce el segundo numero 0\n",
            "No se puede dividir entre 0\n",
            "Cálculo finalizado\n"
          ]
        }
      ]
    },
    {
      "cell_type": "code",
      "source": [
        "#excepción general \n",
        "def divide():\n",
        "  try:\n",
        "    op1 = (float(input('introduce el primer numero ')))\n",
        "\n",
        "    op2 = (float(input('introduce el segundo numero ')))\n",
        "\n",
        "    print('La división es: ' + str(op1/op2))\n",
        "\n",
        "  except: \n",
        "\n",
        "    print('Ha ocurrido un error')\n",
        "\n",
        "  print('Cálculo finalizado')\n",
        "\n",
        "divide()"
      ],
      "metadata": {
        "colab": {
          "base_uri": "https://localhost:8080/"
        },
        "id": "MHVCVYi_gs75",
        "outputId": "9fde3808-a2f9-4f8b-fd29-8cf702c9654f"
      },
      "execution_count": 18,
      "outputs": [
        {
          "output_type": "stream",
          "name": "stdout",
          "text": [
            "introduce el primer numero kjffa\n",
            "Ha ocurrido un error\n",
            "Cálculo finalizado\n"
          ]
        }
      ]
    },
    {
      "cell_type": "code",
      "source": [
        "6#finally\n",
        "def divide():\n",
        "  try:\n",
        "    op1 = (float(input('introduce el primer numero ')))\n",
        "\n",
        "    op2 = (float(input('introduce el segundo numero ')))\n",
        "\n",
        "    print('La división es: ' + str(op1/op2))\n",
        "\n",
        "  except ValueError: \n",
        "\n",
        "    print('El valor introducido es erróneo')\n",
        "\n",
        "  except ZeroDivisionError:\n",
        "\n",
        "    print('No se puede dividir entre 0')\n",
        "  \n",
        "  finally: #lo que introduzcas dentro del finally se va a ejecutar siempre\n",
        "\n",
        "    print('Cálculo finalizado')\n",
        "\n",
        "divide()"
      ],
      "metadata": {
        "colab": {
          "base_uri": "https://localhost:8080/"
        },
        "id": "zHC7TnnRhBqt",
        "outputId": "9b01db2f-f67d-41ea-a1f5-749c3d4cc223"
      },
      "execution_count": 19,
      "outputs": [
        {
          "output_type": "stream",
          "name": "stdout",
          "text": [
            "introduce el primer numero 6\n",
            "introduce el segundo numero 10\n",
            "La división es: 0.6\n",
            "Cálculo finalizado\n"
          ]
        }
      ]
    },
    {
      "cell_type": "code",
      "source": [
        "#se ejecuta el finally igual y es necesario \n",
        "def divide():\n",
        "  try:\n",
        "    op1 = (float(input('introduce el primer numero ')))\n",
        "\n",
        "    op2 = (float(input('introduce el segundo numero ')))\n",
        "\n",
        "    print('La división es: ' + str(op1/op2))\n",
        "\n",
        "  finally:\n",
        "\n",
        "    print('Cálculo finalizado')\n",
        "\n",
        "divide()"
      ],
      "metadata": {
        "colab": {
          "base_uri": "https://localhost:8080/",
          "height": 356
        },
        "id": "pR11RjZOh6yE",
        "outputId": "e8264b32-070b-453b-d4dd-71f3419cdfa5"
      },
      "execution_count": 20,
      "outputs": [
        {
          "output_type": "stream",
          "name": "stdout",
          "text": [
            "introduce el primer numero jgslj\n",
            "Cálculo finalizado\n"
          ]
        },
        {
          "output_type": "error",
          "ename": "ValueError",
          "evalue": "ignored",
          "traceback": [
            "\u001b[0;31m---------------------------------------------------------------------------\u001b[0m",
            "\u001b[0;31mValueError\u001b[0m                                Traceback (most recent call last)",
            "\u001b[0;32m<ipython-input-20-43384f261f99>\u001b[0m in \u001b[0;36m<module>\u001b[0;34m\u001b[0m\n\u001b[1;32m     12\u001b[0m     \u001b[0mprint\u001b[0m\u001b[0;34m(\u001b[0m\u001b[0;34m'Cálculo finalizado'\u001b[0m\u001b[0;34m)\u001b[0m\u001b[0;34m\u001b[0m\u001b[0;34m\u001b[0m\u001b[0m\n\u001b[1;32m     13\u001b[0m \u001b[0;34m\u001b[0m\u001b[0m\n\u001b[0;32m---> 14\u001b[0;31m \u001b[0mdivide\u001b[0m\u001b[0;34m(\u001b[0m\u001b[0;34m)\u001b[0m\u001b[0;34m\u001b[0m\u001b[0;34m\u001b[0m\u001b[0m\n\u001b[0m",
            "\u001b[0;32m<ipython-input-20-43384f261f99>\u001b[0m in \u001b[0;36mdivide\u001b[0;34m()\u001b[0m\n\u001b[1;32m      2\u001b[0m \u001b[0;32mdef\u001b[0m \u001b[0mdivide\u001b[0m\u001b[0;34m(\u001b[0m\u001b[0;34m)\u001b[0m\u001b[0;34m:\u001b[0m\u001b[0;34m\u001b[0m\u001b[0;34m\u001b[0m\u001b[0m\n\u001b[1;32m      3\u001b[0m   \u001b[0;32mtry\u001b[0m\u001b[0;34m:\u001b[0m\u001b[0;34m\u001b[0m\u001b[0;34m\u001b[0m\u001b[0m\n\u001b[0;32m----> 4\u001b[0;31m     \u001b[0mop1\u001b[0m \u001b[0;34m=\u001b[0m \u001b[0;34m(\u001b[0m\u001b[0mfloat\u001b[0m\u001b[0;34m(\u001b[0m\u001b[0minput\u001b[0m\u001b[0;34m(\u001b[0m\u001b[0;34m'introduce el primer numero '\u001b[0m\u001b[0;34m)\u001b[0m\u001b[0;34m)\u001b[0m\u001b[0;34m)\u001b[0m\u001b[0;34m\u001b[0m\u001b[0;34m\u001b[0m\u001b[0m\n\u001b[0m\u001b[1;32m      5\u001b[0m \u001b[0;34m\u001b[0m\u001b[0m\n\u001b[1;32m      6\u001b[0m     \u001b[0mop2\u001b[0m \u001b[0;34m=\u001b[0m \u001b[0;34m(\u001b[0m\u001b[0mfloat\u001b[0m\u001b[0;34m(\u001b[0m\u001b[0minput\u001b[0m\u001b[0;34m(\u001b[0m\u001b[0;34m'introduce el segundo numero '\u001b[0m\u001b[0;34m)\u001b[0m\u001b[0;34m)\u001b[0m\u001b[0;34m)\u001b[0m\u001b[0;34m\u001b[0m\u001b[0;34m\u001b[0m\u001b[0m\n",
            "\u001b[0;31mValueError\u001b[0m: could not convert string to float: 'jgslj'"
          ]
        }
      ]
    }
  ]
}