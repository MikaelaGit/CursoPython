{
  "nbformat": 4,
  "nbformat_minor": 0,
  "metadata": {
    "colab": {
      "name": "Práctica de 9 a 15 python .ipynb",
      "provenance": [],
      "authorship_tag": "ABX9TyP6SaLPv5T2Qj9YVkniufYq",
      "include_colab_link": true
    },
    "kernelspec": {
      "name": "python3",
      "display_name": "Python 3"
    },
    "language_info": {
      "name": "python"
    }
  },
  "cells": [
    {
      "cell_type": "markdown",
      "metadata": {
        "id": "view-in-github",
        "colab_type": "text"
      },
      "source": [
        "<a href=\"https://colab.research.google.com/github/MikaelaGit/CursoPython/blob/main/Pr%C3%A1ctica_de_9_a_15_python_.ipynb\" target=\"_parent\"><img src=\"https://colab.research.google.com/assets/colab-badge.svg\" alt=\"Open In Colab\"/></a>"
      ]
    },
    {
      "cell_type": "code",
      "execution_count": null,
      "metadata": {
        "id": "uMeEbv2bCS7B"
      },
      "outputs": [],
      "source": [
        "#Diccionarios - clave: valor "
      ]
    },
    {
      "cell_type": "code",
      "source": [
        "blackpink = {'Main Dancer':'Lisa','Main rapper':'Jennie','Vocaist':'Rosé', 'Visual':'Jisoo'}\n",
        "print(blackpink['Main Dancer'])\n",
        "print(blackpink)"
      ],
      "metadata": {
        "colab": {
          "base_uri": "https://localhost:8080/"
        },
        "id": "IpJaYm6dC9a6",
        "outputId": "68b6efd2-4e02-453b-8536-12788bdafe14"
      },
      "execution_count": 2,
      "outputs": [
        {
          "output_type": "stream",
          "name": "stdout",
          "text": [
            "Lisa\n",
            "{'Main Dancer': 'Lisa', 'Main rapper': 'Jennie', 'Vocaist': 'Rosé', 'Visual': 'Jisoo'}\n"
          ]
        }
      ]
    },
    {
      "cell_type": "code",
      "source": [
        "blackpink = {'Main Dancer':'Lisa','Main rapper':'Jennie','Vocaist':'Rosé', 'Visual':'Jisoo'}\n",
        "blackpink['Bias'] = 'Rosé'\n",
        "print(blackpink)\n",
        "blackpink['Bias'] = 'Lisa'\n",
        "print(blackpink)\n",
        "del blackpink['Bias']\n",
        "print(blackpink)"
      ],
      "metadata": {
        "colab": {
          "base_uri": "https://localhost:8080/"
        },
        "id": "CNh7CKi3D7bT",
        "outputId": "f40a2808-211a-47b3-f73b-a218d57f3757"
      },
      "execution_count": 4,
      "outputs": [
        {
          "output_type": "stream",
          "name": "stdout",
          "text": [
            "{'Main Dancer': 'Lisa', 'Main rapper': 'Jennie', 'Vocaist': 'Rosé', 'Visual': 'Jisoo', 'Bias': 'Rosé'}\n",
            "{'Main Dancer': 'Lisa', 'Main rapper': 'Jennie', 'Vocaist': 'Rosé', 'Visual': 'Jisoo', 'Bias': 'Lisa'}\n",
            "{'Main Dancer': 'Lisa', 'Main rapper': 'Jennie', 'Vocaist': 'Rosé', 'Visual': 'Jisoo'}\n"
          ]
        }
      ]
    },
    {
      "cell_type": "code",
      "source": [
        "#utilizar tupla para asignar las claves a los valores\n",
        "miembros = ['Lisa', 'Jisoo', 'Jennie', 'Rosé']\n",
        "blackpink = {miembros[0]: 'Dancer', miembros[1]: 'Visual', miembros[2]: 'Rapper', miembros[3]: 'Vocal' } \n",
        "print(blackpink)\n",
        "print(blackpink['Lisa'])"
      ],
      "metadata": {
        "colab": {
          "base_uri": "https://localhost:8080/"
        },
        "id": "HsZRuzudEvKu",
        "outputId": "b5c0822f-f593-4013-accd-552460913172"
      },
      "execution_count": 5,
      "outputs": [
        {
          "output_type": "stream",
          "name": "stdout",
          "text": [
            "{'Lisa': 'Dancer', 'Jisoo': 'Visual', 'Jennie': 'Rapper', 'Rosé': 'Vocal'}\n",
            "Dancer\n"
          ]
        }
      ]
    },
    {
      "cell_type": "code",
      "source": [
        "[] {} ¿?"
      ],
      "metadata": {
        "id": "LtwySI2QCsrs"
      },
      "execution_count": null,
      "outputs": []
    },
    {
      "cell_type": "code",
      "source": [
        "#Un diccionario almacene dentro todo una tupla junto con otros valores \n",
        "mybias = {'blonde': 'sana' , 'princes': 'nayeon', 'mochine': 'momo', 'edades' : [25, 26, 25]}\n",
        "print(mybias)\n",
        "#como acceder a la clave de miembros, es decir que tiene varios valores\n",
        "print(mybias['edades'])\n",
        "#guardar un diccionario, dentro de otro diccionario, y tambien tiene una tupla\n",
        "ggfans = {'Twice': 'Once' , 'Blackpink': 'Blinks', 'Gidle': 'Neverland', 'Miembros' :{'Cantidad':[9, 4, 5]}}\n",
        "print(ggfans['Miembros'])\n",
        "#metodo keys, nos devuelve las claves del diccionario\n",
        "print(ggfans.keys())\n",
        "#metodo values, nos devuelve los valores \n",
        "print(ggfans.values())\n",
        "#metodo len, nos devuelve la longitud\n",
        "print(len(mybias))"
      ],
      "metadata": {
        "colab": {
          "base_uri": "https://localhost:8080/"
        },
        "id": "BFCg9_IHFx63",
        "outputId": "99af19b9-0e0f-4cb4-c293-e4bc39c0ff61"
      },
      "execution_count": 7,
      "outputs": [
        {
          "output_type": "stream",
          "name": "stdout",
          "text": [
            "{'blonde': 'sana', 'princes': 'nayeon', 'mochine': 'momo', 'edades': [25, 26, 25]}\n",
            "[25, 26, 25]\n",
            "{'Cantidad': [9, 4, 5]}\n",
            "dict_keys(['Twice', 'Blackpink', 'Gidle', 'Miembros'])\n",
            "dict_values(['Once', 'Blinks', 'Neverland', {'Cantidad': [9, 4, 5]}])\n",
            "4\n"
          ]
        }
      ]
    },
    {
      "cell_type": "code",
      "source": [
        "#Cantidad de miembros \n",
        "def bandas(miembros):\n",
        "  valoracion = 'Twice'\n",
        "  if miembros <= 4: \n",
        "    valoracion = 'Blackpink'\n",
        "  return valoracion \n",
        "\n",
        "print(bandas(4))\n",
        "print(bandas(9))"
      ],
      "metadata": {
        "colab": {
          "base_uri": "https://localhost:8080/"
        },
        "id": "77BJ1iFzGOY1",
        "outputId": "d1160178-21fe-4ffb-8efb-3ae2acb7eb8e"
      },
      "execution_count": 9,
      "outputs": [
        {
          "output_type": "stream",
          "name": "stdout",
          "text": [
            "Blackpink\n",
            "Twice\n"
          ]
        }
      ]
    },
    {
      "cell_type": "code",
      "source": [
        "print('Programa de evalución de notas de alumnos')\n",
        "\n",
        "nota_alumno = input('Introduce la nota del alumno: ') \n",
        "def evaluacion(nota):\n",
        "  valoracion = 'Aprobado'\n",
        "  if nota <= 5: \n",
        "    valoracion = 'Suspenso'\n",
        "  return valoracion \n",
        "\n",
        "print(evaluacion(int(nota_alumno)))"
      ],
      "metadata": {
        "colab": {
          "base_uri": "https://localhost:8080/"
        },
        "id": "Zbu2FWPZIHPm",
        "outputId": "c5aca700-1ddc-4d22-ad92-500ba114126d"
      },
      "execution_count": 11,
      "outputs": [
        {
          "output_type": "stream",
          "name": "stdout",
          "text": [
            "Programa de evalución de notas de alumnos\n",
            "Introduce la nota del alumno: 5\n",
            "Suspenso\n"
          ]
        }
      ]
    },
    {
      "cell_type": "code",
      "source": [
        "print('Verificación de acceso')\n",
        "edad_usuario = int(input('Introduzca su edad: '))\n",
        "\n",
        "if edad_usuario < 18:\n",
        "  print('No puedes pasar')\n",
        "else:\n",
        "  print('Puedes pasar') \n",
        "\n",
        "print('El programa a finalizado')"
      ],
      "metadata": {
        "colab": {
          "base_uri": "https://localhost:8080/"
        },
        "id": "Ft0ziCzkIZiE",
        "outputId": "ed9f1359-6e9d-4967-acec-98f34b1531ef"
      },
      "execution_count": 12,
      "outputs": [
        {
          "output_type": "stream",
          "name": "stdout",
          "text": [
            "Verificación de acceso\n",
            "Introduzca su edad: 15\n",
            "No puedes pasar\n",
            "El programa a finalizado\n"
          ]
        }
      ]
    },
    {
      "cell_type": "code",
      "source": [
        "#concatenación de operadores de comparación \n",
        "\n",
        "edad = int(input('Introduzca su edad: '))\n",
        "\n",
        "if 0 <edad < 100:\n",
        "  print('Edad es correcta')\n",
        "else: \n",
        "  print('Edad incorrecta')"
      ],
      "metadata": {
        "colab": {
          "base_uri": "https://localhost:8080/"
        },
        "id": "G-vpkZqYIn-R",
        "outputId": "2910e060-1ed1-4316-8a12-37c1fa050fb5"
      },
      "execution_count": 13,
      "outputs": [
        {
          "output_type": "stream",
          "name": "stdout",
          "text": [
            "Introduzca su edad: 104\n",
            "Edad incorrecta\n"
          ]
        }
      ]
    },
    {
      "cell_type": "code",
      "source": [
        "for i in ['Pildoras', 'Informaticas', 'Hola']:\n",
        "  print(i, end=\" \")\n",
        "#Función end para que imprima todo en una linea \n",
        "for i in 'martinez@gmail.com':\n",
        "  print('Correo')"
      ],
      "metadata": {
        "colab": {
          "base_uri": "https://localhost:8080/"
        },
        "id": "fhn06uSEJXEB",
        "outputId": "27243dc2-1c1c-486b-b42e-35e3a1e18d14"
      },
      "execution_count": 14,
      "outputs": [
        {
          "output_type": "stream",
          "name": "stdout",
          "text": [
            "Pildoras Informaticas Hola Correo\n",
            "Correo\n",
            "Correo\n",
            "Correo\n",
            "Correo\n",
            "Correo\n",
            "Correo\n",
            "Correo\n",
            "Correo\n",
            "Correo\n",
            "Correo\n",
            "Correo\n",
            "Correo\n",
            "Correo\n",
            "Correo\n",
            "Correo\n",
            "Correo\n",
            "Correo\n"
          ]
        }
      ]
    },
    {
      "cell_type": "code",
      "source": [
        ""
      ],
      "metadata": {
        "id": "VnEZEVUWKa6U"
      },
      "execution_count": null,
      "outputs": []
    }
  ]
}