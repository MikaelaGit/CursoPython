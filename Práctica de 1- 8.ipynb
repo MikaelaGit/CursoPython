{
  "nbformat": 4,
  "nbformat_minor": 0,
  "metadata": {
    "colab": {
      "name": "Untitled12.ipynb",
      "provenance": [],
      "authorship_tag": "ABX9TyMDjiYWD3XrRcX1HWtPf+HI",
      "include_colab_link": true
    },
    "kernelspec": {
      "name": "python3",
      "display_name": "Python 3"
    },
    "language_info": {
      "name": "python"
    }
  },
  "cells": [
    {
      "cell_type": "markdown",
      "metadata": {
        "id": "view-in-github",
        "colab_type": "text"
      },
      "source": [
        "<a href=\"https://colab.research.google.com/github/MikaelaGit/CursoPython/blob/main/Pr%C3%A1ctica%20de%201-%208.ipynb\" target=\"_parent\"><img src=\"https://colab.research.google.com/assets/colab-badge.svg\" alt=\"Open In Colab\"/></a>"
      ]
    },
    {
      "cell_type": "code",
      "execution_count": 1,
      "metadata": {
        "colab": {
          "base_uri": "https://localhost:8080/"
        },
        "id": "k9PWdqPRsEdv",
        "outputId": "a99b7b29-d415-4870-90ee-357ea48061c5"
      },
      "outputs": [
        {
          "output_type": "stream",
          "name": "stdout",
          "text": [
            "Best gg ever\n",
            "Prueba\n",
            "Best gg ever\n"
          ]
        }
      ],
      "source": [
        "#Función \n",
        "def twice ():\n",
        "  print('Best gg ever')\n",
        "\n",
        "twice()\n",
        "\n",
        "print('Prueba')\n",
        "\n",
        "twice()"
      ]
    },
    {
      "cell_type": "code",
      "source": [
        "def twice():\n",
        "  sana = 'Te '\n",
        "  momo = 'Amo'\n",
        "  print(sana + momo)\n",
        "\n",
        "twice()"
      ],
      "metadata": {
        "colab": {
          "base_uri": "https://localhost:8080/"
        },
        "id": "XBGR7ZhRsgYU",
        "outputId": "bd26134a-fa52-440c-e11d-bfa4a01a2ac9"
      },
      "execution_count": 3,
      "outputs": [
        {
          "output_type": "stream",
          "name": "stdout",
          "text": [
            "Te Amo\n"
          ]
        }
      ]
    },
    {
      "cell_type": "code",
      "source": [
        "def twice (sana, momo):\n",
        "  print(sana + momo)\n",
        "\n",
        "twice('Mis ', 'Amores')"
      ],
      "metadata": {
        "colab": {
          "base_uri": "https://localhost:8080/"
        },
        "id": "OrHNNUzAszaC",
        "outputId": "a3c602fd-42e3-425f-ca87-32082f18a6a6"
      },
      "execution_count": 4,
      "outputs": [
        {
          "output_type": "stream",
          "name": "stdout",
          "text": [
            "Mis Amores\n"
          ]
        }
      ]
    },
    {
      "cell_type": "code",
      "source": [
        "def twice(dayhun, nayeon):\n",
        "  hottes = dayhun + nayeon \n",
        "  return hottes\n",
        "\n",
        "print(twice('Las mas ', 'lindas'))"
      ],
      "metadata": {
        "colab": {
          "base_uri": "https://localhost:8080/"
        },
        "id": "xP3zgazmtEq1",
        "outputId": "78227253-2382-4315-ef4f-27154bd4a9e4"
      },
      "execution_count": 6,
      "outputs": [
        {
          "output_type": "stream",
          "name": "stdout",
          "text": [
            "Las mas lindas\n"
          ]
        }
      ]
    },
    {
      "cell_type": "code",
      "source": [
        "def twice(dayhun, nayeon):\n",
        "  hottes = dayhun + nayeon \n",
        "  return hottes\n",
        "almacena_hottes = twice('Las mas ', 'lindas')\n",
        "print(almacena_hottes)"
      ],
      "metadata": {
        "colab": {
          "base_uri": "https://localhost:8080/"
        },
        "id": "j3T8vNkxtjQd",
        "outputId": "8c7d7c41-70eb-4878-fbd8-d8483b87f98b"
      },
      "execution_count": 7,
      "outputs": [
        {
          "output_type": "stream",
          "name": "stdout",
          "text": [
            "Las mas lindas\n"
          ]
        }
      ]
    },
    {
      "cell_type": "code",
      "source": [
        "#Listas \n",
        "Twice = ['Nayeon', 'Jeonyeon','Momo', 'Sana']\n",
        "print(Twice)\n",
        "print(Twice[:])\n",
        "print(Twice[2] + ' DanceMochine')"
      ],
      "metadata": {
        "colab": {
          "base_uri": "https://localhost:8080/"
        },
        "id": "AxuLBymntzss",
        "outputId": "d026028d-7c38-4935-8611-2f187bdd4b77"
      },
      "execution_count": 11,
      "outputs": [
        {
          "output_type": "stream",
          "name": "stdout",
          "text": [
            "['Nayeon', 'Jeonyeon', 'Momo', 'Sana']\n",
            "['Nayeon', 'Jeonyeon', 'Momo', 'Sana']\n",
            "Momo DanceMochine\n"
          ]
        }
      ]
    },
    {
      "cell_type": "code",
      "source": [
        "#agregar elementos a la lista \n",
        "#append - extend - insert \n",
        "Twice = ['Nayeon', 'Jeonyeon','Momo', 'Sana']\n",
        "Twice.append('Jihyo')\n",
        "print(Twice)\n",
        "Twice.insert(3, 'Mina')\n",
        "print(Twice)\n",
        "Twice.extend(['Chaeyoung', 'Tzuyu', 'Dahyun'])\n",
        "print(Twice)"
      ],
      "metadata": {
        "colab": {
          "base_uri": "https://localhost:8080/"
        },
        "id": "iSWabf_YuhOE",
        "outputId": "0ef3f11e-0283-4067-d225-b3938a31a39f"
      },
      "execution_count": 13,
      "outputs": [
        {
          "output_type": "stream",
          "name": "stdout",
          "text": [
            "['Nayeon', 'Jeonyeon', 'Momo', 'Sana', 'Jihyo']\n",
            "['Nayeon', 'Jeonyeon', 'Momo', 'Mina', 'Sana', 'Jihyo']\n",
            "['Nayeon', 'Jeonyeon', 'Momo', 'Mina', 'Sana', 'Jihyo', 'Chaeyoung', 'Tzuyu', 'Dahyun']\n"
          ]
        }
      ]
    },
    {
      "cell_type": "code",
      "source": [
        "#buscar un elemento \n",
        "#in - index\n",
        "\n",
        "twice = ['Nayeon', 'Jeonyeon', 'Momo', 'Mina', 'Sana', 'Jihyo', 'Chaeyoung', 'Tzuyu', 'Dahyun']\n",
        "print(twice.index('Sana'))\n",
        "print('Momo' in twice)\n",
        "print('Lisa' in twice)"
      ],
      "metadata": {
        "colab": {
          "base_uri": "https://localhost:8080/"
        },
        "id": "Jhsz4fbTucut",
        "outputId": "98896205-d5cf-444d-80d5-0140315ffb06"
      },
      "execution_count": 15,
      "outputs": [
        {
          "output_type": "stream",
          "name": "stdout",
          "text": [
            "4\n",
            "True\n",
            "False\n"
          ]
        }
      ]
    },
    {
      "cell_type": "code",
      "source": [
        "#remover un elemento \n",
        "#remove, cualquier elemento - pop, el ultimo \n",
        "twice = ['Nayeon', 'Jeonyeon', 'Momo', 'Mina', 'Sana', 'Jihyo', 'Chaeyoung', 'Tzuyu', 'Dahyun']\n",
        "twice.remove('Tzuyu')\n",
        "print(twice)\n",
        "twice.pop()\n",
        "print(twice)"
      ],
      "metadata": {
        "colab": {
          "base_uri": "https://localhost:8080/"
        },
        "id": "_uBwEB-Dw36H",
        "outputId": "3151697e-f2e6-4254-fcf5-c4b54ac8e2b7"
      },
      "execution_count": 16,
      "outputs": [
        {
          "output_type": "stream",
          "name": "stdout",
          "text": [
            "['Nayeon', 'Jeonyeon', 'Momo', 'Mina', 'Sana', 'Jihyo', 'Chaeyoung', 'Dahyun']\n",
            "['Nayeon', 'Jeonyeon', 'Momo', 'Mina', 'Sana', 'Jihyo', 'Chaeyoung']\n"
          ]
        }
      ]
    },
    {
      "cell_type": "code",
      "source": [
        "twice_maknaes = ['Chaeyoung', 'Tzuyu', 'Dahyun']\n",
        "twice_jline = ['Momo', 'Sana', 'Mina']\n",
        "twice_girlfriends = twice_maknaes + twice_jline \n",
        "print(twice_girlfriends) "
      ],
      "metadata": {
        "colab": {
          "base_uri": "https://localhost:8080/"
        },
        "id": "skkvYaTyxUsl",
        "outputId": "d7a87943-fa9c-4d01-d4f5-5d4108a4b04d"
      },
      "execution_count": 17,
      "outputs": [
        {
          "output_type": "stream",
          "name": "stdout",
          "text": [
            "['Chaeyoung', 'Tzuyu', 'Dahyun', 'Momo', 'Sana', 'Mina']\n"
          ]
        }
      ]
    },
    {
      "cell_type": "markdown",
      "source": [
        "[ ] { } ¿?\n",
        "\n",
        "'Chaeyoung', 'Tzuyu', 'Dahyun'"
      ],
      "metadata": {
        "id": "q0IuTYoLuILy"
      }
    },
    {
      "cell_type": "code",
      "source": [
        "#Tuplas \n",
        "blackpink = ('Lisa', 'Rose', 'Jennie', 'Jisoo')\n",
        "print(blackpink)\n",
        "#convertir tupla en lista \n",
        "bp = list(blackpink)\n",
        "print(bp)\n",
        "#convertir lista a tupla\n",
        "bornpink = tuple(bp)\n",
        "print(bornpink)\n",
        "#comprobar si hay un elemento \n",
        "print('Rose' in blackpink)"
      ],
      "metadata": {
        "colab": {
          "base_uri": "https://localhost:8080/"
        },
        "id": "g658Sqxzxz-Q",
        "outputId": "2696c6c8-06b3-4dcc-d9d9-2d2f99f392cb"
      },
      "execution_count": 23,
      "outputs": [
        {
          "output_type": "stream",
          "name": "stdout",
          "text": [
            "('Lisa', 'Rose', 'Jennie', 'Jisoo')\n",
            "['Lisa', 'Rose', 'Jennie', 'Jisoo']\n",
            "('Lisa', 'Rose', 'Jennie', 'Jisoo')\n",
            "True\n"
          ]
        }
      ]
    },
    {
      "cell_type": "code",
      "source": [
        "#metodo count - lend \n",
        "blackpink = ('Lisa', 'Rose', 'Jennie', 'Jisoo')\n",
        "print(blackpink.count('Rose'))\n",
        "print(len(blackpink))"
      ],
      "metadata": {
        "colab": {
          "base_uri": "https://localhost:8080/"
        },
        "id": "wWD14XWDye8b",
        "outputId": "9665399d-f0f1-474e-aa9c-f91cd1729032"
      },
      "execution_count": 25,
      "outputs": [
        {
          "output_type": "stream",
          "name": "stdout",
          "text": [
            "1\n",
            "4\n"
          ]
        }
      ]
    },
    {
      "cell_type": "code",
      "source": [
        "#desempaquetado de tupla \n",
        "bestDancer = ('Lisa', 24, 'Marzo', 'Aries')\n",
        "nombre, edad, mes, signo = bestDancer\n",
        "print(nombre)\n",
        "print(edad)\n",
        "print(mes)\n",
        "print(signo)"
      ],
      "metadata": {
        "colab": {
          "base_uri": "https://localhost:8080/"
        },
        "id": "x3HwtHARzI2S",
        "outputId": "96ec19c2-12ac-4271-835c-a0893ff1f0a5"
      },
      "execution_count": 26,
      "outputs": [
        {
          "output_type": "stream",
          "name": "stdout",
          "text": [
            "Lisa\n",
            "24\n",
            "Marzo\n",
            "Aries\n"
          ]
        }
      ]
    }
  ]
}