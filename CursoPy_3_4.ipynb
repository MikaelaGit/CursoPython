{
  "nbformat": 4,
  "nbformat_minor": 0,
  "metadata": {
    "colab": {
      "provenance": [],
      "authorship_tag": "ABX9TyMDVgs5E2rBTyQcuk7iYj2z",
      "include_colab_link": true
    },
    "kernelspec": {
      "name": "python3",
      "display_name": "Python 3"
    },
    "language_info": {
      "name": "python"
    }
  },
  "cells": [
    {
      "cell_type": "markdown",
      "metadata": {
        "id": "view-in-github",
        "colab_type": "text"
      },
      "source": [
        "<a href=\"https://colab.research.google.com/github/MikaelaGit/CursoPython/blob/main/CursoPy_3_4.ipynb\" target=\"_parent\"><img src=\"https://colab.research.google.com/assets/colab-badge.svg\" alt=\"Open In Colab\"/></a>"
      ]
    },
    {
      "cell_type": "markdown",
      "source": [
        "Fecha 04/09\n",
        "Sintaxis básica I\n",
        "Sintaxis básica II\n",
        "Tipos, operadores y variables"
      ],
      "metadata": {
        "id": "012-i7pfmSjH"
      }
    },
    {
      "cell_type": "markdown",
      "source": [
        "Operadores python\n",
        "Aritméticos\n",
        "Comparación\n",
        "Lógicos\n",
        "Asignación\n",
        "Especiales\n",
        "\n",
        "python todo es un objeto"
      ],
      "metadata": {
        "id": "rnpNd381oDgl"
      }
    },
    {
      "cell_type": "code",
      "execution_count": 1,
      "metadata": {
        "colab": {
          "base_uri": "https://localhost:8080/"
        },
        "id": "H87G09v0jWml",
        "outputId": "62af50b0-bc6b-4998-9b67-b9af213d0624"
      },
      "outputs": [
        {
          "output_type": "execute_result",
          "data": {
            "text/plain": [
              "float"
            ]
          },
          "metadata": {},
          "execution_count": 1
        }
      ],
      "source": [
        "nombre = 5\n",
        "type(nombre)\n",
        "nombre2 = 'Bada Lee'\n",
        "type(nombre2)\n",
        "nombre3 = 5.2\n",
        "type(nombre3)\n",
        "#puta_madre = \"hola\"\n",
        "#print(puta_madre)"
      ]
    },
    {
      "cell_type": "code",
      "source": [
        "numero1 = 7\n",
        "numero2 = 4\n",
        "if numero1 > numero2:\n",
        "  print(\"el numero 1 es mayor\")\n",
        "else:\n",
        "  print(\"el numero 2 es mayor\")"
      ],
      "metadata": {
        "colab": {
          "base_uri": "https://localhost:8080/"
        },
        "id": "DJ63BVzotc9f",
        "outputId": "bf953b15-8c67-4f48-87d4-41b5a67645d2"
      },
      "execution_count": 2,
      "outputs": [
        {
          "output_type": "stream",
          "name": "stdout",
          "text": [
            "el numero 1 es mayor\n"
          ]
        }
      ]
    },
    {
      "cell_type": "markdown",
      "source": [
        "Fecha 5/09 Curso python 5\n",
        "\n",
        "Sintaxis básica III funciones I\n",
        "\n",
        "Que son\n",
        "\n",
        "Utilidad\n",
        "\n",
        "Sintaxis\n",
        "\n",
        "Ejecución"
      ],
      "metadata": {
        "id": "5upgNCVdZEn5"
      }
    },
    {
      "cell_type": "code",
      "source": [
        "#Sintaxis\n",
        "\n",
        "def nombre_función():\n",
        "  instrucciones de la función\n",
        "  return(opcional)\n",
        "\n",
        "def nombre_función(parámetros):\n",
        "  intrucciones de la función\n",
        "  return(opcional)"
      ],
      "metadata": {
        "id": "qaQBcVbOZaU-"
      },
      "execution_count": null,
      "outputs": []
    },
    {
      "cell_type": "code",
      "source": [
        "#Ejecución\n",
        "\n",
        "nombre_función()\n",
        "\n",
        "nombre_función(parámetros)"
      ],
      "metadata": {
        "id": "di-_rG6ra7eu"
      },
      "execution_count": null,
      "outputs": []
    },
    {
      "cell_type": "code",
      "source": [
        "def mensaje():  #declaración\n",
        "\n",
        "  print(\"estamos aprendiendo python me cago en la pu\")\n",
        "  print(\"estamos aprendiendo instrucciones básicas\")    #cuerpo de la función\n",
        "  print(\"poco a poco iremos avanzando\")\n",
        "\n",
        "mensaje()   #llamada\n",
        "\n",
        "print(\"más codigo\")\n",
        "\n",
        "mensaje()"
      ],
      "metadata": {
        "colab": {
          "base_uri": "https://localhost:8080/"
        },
        "id": "A6-cm1f6goBn",
        "outputId": "2cf37d69-2327-4477-e87e-b9fd143c1d27"
      },
      "execution_count": 5,
      "outputs": [
        {
          "output_type": "stream",
          "name": "stdout",
          "text": [
            "estamos aprendiendo python me cago en la pu\n",
            "estamos aprendiendo instrucciones básicas\n",
            "poco a poco iremos avanzando\n",
            "más codigo\n",
            "estamos aprendiendo python me cago en la pu\n",
            "estamos aprendiendo instrucciones básicas\n",
            "poco a poco iremos avanzando\n"
          ]
        }
      ]
    },
    {
      "cell_type": "markdown",
      "source": [
        "Curso pyhton 6 Sintaxis básica IV Funciones II\n",
        "\n",
        "\n",
        "funciones:\n",
        "  \n",
        "  paso de parámetros"
      ],
      "metadata": {
        "id": "YJD6lW0jjosz"
      }
    },
    {
      "cell_type": "code",
      "source": [
        "def suma(num1, num2):\n",
        "  #num1 = 5\n",
        "  #num2 = 7\n",
        "  print(num1 + num2)\n",
        "\n",
        "suma()"
      ],
      "metadata": {
        "colab": {
          "base_uri": "https://localhost:8080/"
        },
        "id": "q6p3QiPuk8p9",
        "outputId": "bc7254d8-dce8-469d-dc52-1da6f8b050bc"
      },
      "execution_count": 6,
      "outputs": [
        {
          "output_type": "stream",
          "name": "stdout",
          "text": [
            "12\n"
          ]
        }
      ]
    }
  ]
}