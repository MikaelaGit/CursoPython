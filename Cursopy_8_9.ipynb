{
  "nbformat": 4,
  "nbformat_minor": 0,
  "metadata": {
    "colab": {
      "provenance": [],
      "authorship_tag": "ABX9TyMkMuvHrqftkiaq5y/Ni9Xu",
      "include_colab_link": true
    },
    "kernelspec": {
      "name": "python3",
      "display_name": "Python 3"
    },
    "language_info": {
      "name": "python"
    }
  },
  "cells": [
    {
      "cell_type": "markdown",
      "metadata": {
        "id": "view-in-github",
        "colab_type": "text"
      },
      "source": [
        "<a href=\"https://colab.research.google.com/github/MikaelaGit/CursoPython/blob/main/Cursopy_8_9.ipynb\" target=\"_parent\"><img src=\"https://colab.research.google.com/assets/colab-badge.svg\" alt=\"Open In Colab\"/></a>"
      ]
    },
    {
      "cell_type": "code",
      "execution_count": null,
      "metadata": {
        "id": "oJYtq4MNZTS2"
      },
      "outputs": [],
      "source": [
        "Curso python sintaxis básica tuplas []"
      ]
    },
    {
      "cell_type": "code",
      "source": [
        "tupla = (\"bada\", \"lee\", \"tema bebe\", 28, \"virgo\")\n",
        "\n",
        "print(tupla[2]) #acceder a un elemento"
      ],
      "metadata": {
        "colab": {
          "base_uri": "https://localhost:8080/"
        },
        "id": "TMBR-KgfZYPI",
        "outputId": "033fe296-d827-45c7-b329-ac4796fa6c89"
      },
      "execution_count": 1,
      "outputs": [
        {
          "output_type": "stream",
          "name": "stdout",
          "text": [
            "tema bebe\n"
          ]
        }
      ]
    },
    {
      "cell_type": "code",
      "source": [
        "#Convertir una tupla en una lista mediante .list\n",
        "\n",
        "tupla = (\"bada\", \"lee\", \"tema bebe\", 28, \"virgo\")\n",
        "lista = list(tupla)\n",
        "print(lista) #se imprime con corchete\n"
      ],
      "metadata": {
        "colab": {
          "base_uri": "https://localhost:8080/"
        },
        "id": "ySTtpAmraM3t",
        "outputId": "c092bcb2-fd75-417e-a7fd-3442dec90e8e"
      },
      "execution_count": 2,
      "outputs": [
        {
          "output_type": "stream",
          "name": "stdout",
          "text": [
            "['bada', 'lee', 'tema bebe', 28, 'virgo']\n"
          ]
        }
      ]
    },
    {
      "cell_type": "code",
      "source": [
        "#Convertir una lista en una tupla mediante.tuple\n",
        "\n",
        "lista = ['bada', 'lee', 'tema bebe', 28, 'virgo']\n",
        "\n",
        "tupla = tuple(lista)\n",
        "\n",
        "print(tupla)\n",
        "print(\"lee\" in tupla) #si un elemento se encuentra en la lista\n",
        "print(tupla.count(\"lee\")) #cuantas veces se encuentra ese elemento\n",
        "print(len(tupla)) #cuantos elemento hay en la tupla"
      ],
      "metadata": {
        "colab": {
          "base_uri": "https://localhost:8080/"
        },
        "id": "lXS7BHudajhH",
        "outputId": "136b7f61-dd94-44d8-ae36-cb6364b7bed4"
      },
      "execution_count": 6,
      "outputs": [
        {
          "output_type": "stream",
          "name": "stdout",
          "text": [
            "('bada', 'lee', 'tema bebe', 28, 'virgo')\n",
            "True\n",
            "1\n",
            "5\n"
          ]
        }
      ]
    },
    {
      "cell_type": "code",
      "source": [
        "#Tupla unitaria\n",
        "\n",
        "tuplaunitaria = (\"bada lee\",) #tiene que llevar la coma\n",
        "print(len(tuplaunitaria))"
      ],
      "metadata": {
        "colab": {
          "base_uri": "https://localhost:8080/"
        },
        "id": "a8tvWrXdbtxr",
        "outputId": "899eb1ba-4f7e-4282-b866-460f693f8053"
      },
      "execution_count": 7,
      "outputs": [
        {
          "output_type": "stream",
          "name": "stdout",
          "text": [
            "1\n"
          ]
        }
      ]
    },
    {
      "cell_type": "code",
      "source": [
        "#las tuplas se pueden crear sin parentesis\n",
        "#se conoce como empaquetado de tupla\n",
        "\n",
        "bada = \"mi amor\", \"virgo\", \"te amo\"\n",
        "print(bada)"
      ],
      "metadata": {
        "colab": {
          "base_uri": "https://localhost:8080/"
        },
        "id": "f0CS2mOob61Q",
        "outputId": "abac55f3-87b9-417d-b265-10763a56ad0b"
      },
      "execution_count": 8,
      "outputs": [
        {
          "output_type": "stream",
          "name": "stdout",
          "text": [
            "('mi amor', 'virgo', 'te amo')\n"
          ]
        }
      ]
    },
    {
      "cell_type": "code",
      "source": [
        "#también se puede hacer lo inverso, que se llama desempaquetado de tupla\n",
        "\n",
        "twice = (9, \"fancy\", \"hot\", \"nayeon\", \"sana\", \"momo\")\n",
        "miembros, cancion, cancion2, unnie, japonesa, dacinemachine = twice\n",
        "\n",
        "print(miembros)\n",
        "print(japonesa)\n",
        "print(cancion2)"
      ],
      "metadata": {
        "colab": {
          "base_uri": "https://localhost:8080/"
        },
        "id": "K20zuJ7ncOof",
        "outputId": "9ec2c1f3-09e6-49f7-e9f3-61dfe65e005e"
      },
      "execution_count": 9,
      "outputs": [
        {
          "output_type": "stream",
          "name": "stdout",
          "text": [
            "9\n",
            "sana\n",
            "hot\n"
          ]
        }
      ]
    },
    {
      "cell_type": "code",
      "source": [
        "Curso python 9 Sintaxis básica Diccionarios"
      ],
      "metadata": {
        "id": "ryCtIONzeDAd"
      },
      "execution_count": null,
      "outputs": []
    },
    {
      "cell_type": "code",
      "source": [
        "diccionario = {\"bada\" : \"lee\", \"edad\" : 28, \"signo\": \"virgo\"}\n",
        "diccionario[\"Nacionalidad\"] = \"Japonesa\" #añadir un elemento\n",
        "print(diccionario)\n",
        "\n",
        "diccionario[\"Nacionalidad\"] = \"Coreana\" #modificar el valor de una clave\n",
        "print(diccionario[\"bada\"]) #acceder a un elemento\n",
        "print(diccionario)\n",
        "\n",
        "del diccionario[\"edad\"] #eliminar un elemento\n",
        "print(diccionario)\n"
      ],
      "metadata": {
        "colab": {
          "base_uri": "https://localhost:8080/"
        },
        "id": "FpnpMJYueIW3",
        "outputId": "c82ce024-eb83-4e63-bf42-ebea9c615f0f"
      },
      "execution_count": 14,
      "outputs": [
        {
          "output_type": "stream",
          "name": "stdout",
          "text": [
            "{'bada': 'lee', 'edad': 28, 'signo': 'virgo', 'Nacionalidad': 'Japonesa'}\n",
            "lee\n",
            "{'bada': 'lee', 'edad': 28, 'signo': 'virgo', 'Nacionalidad': 'Coreana'}\n",
            "{'bada': 'lee', 'signo': 'virgo', 'Nacionalidad': 'Coreana'}\n"
          ]
        }
      ]
    },
    {
      "cell_type": "code",
      "source": [
        "diccionario2 = {\"alemania\": \"berlín\", 23 : \"jordan\", \"mosqueteros\":3}\n",
        "print(diccionario2)"
      ],
      "metadata": {
        "colab": {
          "base_uri": "https://localhost:8080/"
        },
        "id": "_bAGpzjvg6lV",
        "outputId": "1ae692da-6b40-44d2-a852-833c7c393a61"
      },
      "execution_count": 15,
      "outputs": [
        {
          "output_type": "stream",
          "name": "stdout",
          "text": [
            "{'alemania': 'berlín', 23: 'jordan', 'mosqueteros': 3}\n"
          ]
        }
      ]
    },
    {
      "cell_type": "code",
      "source": [
        "#utilizar una tupla para asignar las claves a los valores\n",
        "\n",
        "tupla = [\"España\", \"francia\", \"reino unida\", \"alemania\"]\n",
        "diccionario3 = {tupla [0]: \"madrid\", tupla[1]: \"parís\", tupla[2]: \"londres\", tupla[3]: \"berlín\"}\n",
        "print(diccionario3)\n",
        "print(diccionario3[\"francia\"]) #acceder a un elemento"
      ],
      "metadata": {
        "colab": {
          "base_uri": "https://localhost:8080/"
        },
        "id": "G41y2HgRhNJI",
        "outputId": "c34174ef-1940-4657-c219-60b2e62a24f2"
      },
      "execution_count": 17,
      "outputs": [
        {
          "output_type": "stream",
          "name": "stdout",
          "text": [
            "{'España': 'madrid', 'francia': 'parís', 'reino unida': 'londres', 'alemania': 'berlín'}\n",
            "parís\n"
          ]
        }
      ]
    },
    {
      "cell_type": "code",
      "source": [
        "#un diccionario almacene en su interior una tupla\n",
        "\n",
        "diccionario = {\"sana\": \"lead vocal\", \"momo\": \"dacingmachine\", 9 : [\"nayeon\", \"jeonyeon\", \"momo\", \"sana\"]}\n",
        "print(diccionario )\n",
        "print(diccionario[\"momo\"])\n",
        "print(diccionario[9])"
      ],
      "metadata": {
        "colab": {
          "base_uri": "https://localhost:8080/"
        },
        "id": "d-M2YCLmiaRK",
        "outputId": "3a318277-58fc-4e9b-adfb-f4de7d313a0e"
      },
      "execution_count": 19,
      "outputs": [
        {
          "output_type": "stream",
          "name": "stdout",
          "text": [
            "{'sana': 'lead vocal', 'momo': 'dacingmachine', 9: ['nayeon', 'jeonyeon', 'momo', 'sana']}\n",
            "dacingmachine\n",
            "['nayeon', 'jeonyeon', 'momo', 'sana']\n"
          ]
        }
      ]
    },
    {
      "cell_type": "code",
      "source": [
        "diccionario = {\"sana\": \"lead vocal\", \"momo\": \"dacingmachine\", 9 :{\"miembros\" :[\"nayeon\", \"jeonyeon\", \"momo\", \"sana\"]}}\n",
        "\n",
        "#diccionario dentro de un diccionario y a su vez el 2 diccionario tiene una tupla adentro\n",
        "print(diccionario[9])\n",
        "print(diccionario)"
      ],
      "metadata": {
        "colab": {
          "base_uri": "https://localhost:8080/"
        },
        "id": "MIdInvJMjYNr",
        "outputId": "13a18ca9-a412-4ac5-c953-a65d97ff7f24"
      },
      "execution_count": 22,
      "outputs": [
        {
          "output_type": "stream",
          "name": "stdout",
          "text": [
            "{'miembros': ['nayeon', 'jeonyeon', 'momo', 'sana']}\n",
            "{'sana': 'lead vocal', 'momo': 'dacingmachine', 9: {'miembros': ['nayeon', 'jeonyeon', 'momo', 'sana']}}\n"
          ]
        }
      ]
    },
    {
      "cell_type": "code",
      "source": [
        "#metodo key, value, len\n",
        "diccionario = {\"sana\": \"lead vocal\", \"momo\": \"dacingmachine\", 9 :{\"miembros\" :[\"nayeon\", \"jeonyeon\", \"momo\", \"sana\"]}}\n",
        "[]\n",
        "print(diccionario.keys()) #claves del diccionario\n",
        "print(diccionario.values()) #valores de las claves\n",
        "print(len(diccionario))"
      ],
      "metadata": {
        "colab": {
          "base_uri": "https://localhost:8080/"
        },
        "id": "DlddwRixkO_u",
        "outputId": "98615368-bf79-42cc-db8d-fc252cd64343"
      },
      "execution_count": 25,
      "outputs": [
        {
          "output_type": "stream",
          "name": "stdout",
          "text": [
            "dict_keys(['sana', 'momo', 9])\n",
            "dict_values(['lead vocal', 'dacingmachine', {'miembros': ['nayeon', 'jeonyeon', 'momo', 'sana']}])\n",
            "3\n"
          ]
        }
      ]
    }
  ]
}