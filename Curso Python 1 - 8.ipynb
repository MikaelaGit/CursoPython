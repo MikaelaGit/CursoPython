{
  "nbformat": 4,
  "nbformat_minor": 0,
  "metadata": {
    "colab": {
      "name": "Untitled4.ipynb",
      "provenance": [],
      "authorship_tag": "ABX9TyP6OGmwWf7fAb7F1YhqYiGk",
      "include_colab_link": true
    },
    "kernelspec": {
      "name": "python3",
      "display_name": "Python 3"
    },
    "language_info": {
      "name": "python"
    }
  },
  "cells": [
    {
      "cell_type": "markdown",
      "metadata": {
        "id": "view-in-github",
        "colab_type": "text"
      },
      "source": [
        "<a href=\"https://colab.research.google.com/github/MikaelaGit/CursoPython/blob/main/Curso%20Python%201%20-%208.ipynb\" target=\"_parent\"><img src=\"https://colab.research.google.com/assets/colab-badge.svg\" alt=\"Open In Colab\"/></a>"
      ]
    },
    {
      "cell_type": "code",
      "execution_count": null,
      "metadata": {
        "colab": {
          "base_uri": "https://localhost:8080/"
        },
        "id": "1DYkzM07l-aF",
        "outputId": "8fd3260e-5068-45a9-ea1e-4f04b068c97d"
      },
      "outputs": [
        {
          "output_type": "stream",
          "name": "stdout",
          "text": [
            "Esto es un mensaje\n",
            " con tres saltos \n",
            " de lineas\n"
          ]
        }
      ],
      "source": [
        "#Curso Python pildorasinformaticas \n",
        "mensaje = '''Esto es un mensaje\n",
        " con tres saltos \n",
        " de lineas'''\n",
        "print(mensaje)\n"
      ]
    },
    {
      "cell_type": "code",
      "source": [
        "#Curso Pytho clase 5\n",
        "#Funciones, que son, utilidad, sintaxis, ejecución\n"
      ],
      "metadata": {
        "id": "wSlWdGvZqn0N"
      },
      "execution_count": null,
      "outputs": []
    },
    {
      "cell_type": "markdown",
      "source": [
        "Las funciones son:\n",
        "Conjunto de lineas de codigo agrupadas (bloque de código) que funcionan como una unidad realizando una tarea especifica. \n",
        "Las funciones en Python pueden devolver valores. \n",
        "Las funciones en Python pueden tener parametros/Argumentos. \n",
        "A las funciones tambien se las denomina \"Métodos\" cuando se encuentran definidas dentro de una clase. \n",
        "Utilidad: \n",
        "Reutilizacion de código (cuando sea necesario o si es necesario).\n",
        "Sintaxis\n",
        "*   def nombre_función(): a los parentesis se los denomina zona de parametros ().\n",
        "      Instrucciones de la funciones\n",
        "      return(opcional)\n",
        "*   def nombre_funcion(parametros)\n",
        "      Instrucciones de la funcion \n",
        "      return (opcional)\n",
        "Ejecución\n",
        "\n",
        "nombre_funcion()\n",
        "nombre_funcion(parametros)"
      ],
      "metadata": {
        "id": "WmuP3as1rLT-"
      }
    },
    {
      "cell_type": "code",
      "source": [
        "#funciones \n",
        "def mensaje(): #declaración de la función\n",
        "  print('No rompas la cadena')\n",
        "  print('No rompas la cadena')  #cuerpo de la función \n",
        "  print('No rompas la cadena')\n",
        "#llamar a una fución \n",
        "mensaje()\n",
        "\n",
        "print('Ejecutando codigo fuera de función')\n",
        "\n",
        "mensaje()\n"
      ],
      "metadata": {
        "colab": {
          "base_uri": "https://localhost:8080/"
        },
        "id": "6qQzwiDGtpMB",
        "outputId": "41f2d3b4-3c29-4a94-df5f-595df1e5bd30"
      },
      "execution_count": null,
      "outputs": [
        {
          "output_type": "stream",
          "name": "stdout",
          "text": [
            "No rompas la cadena\n",
            "No rompas la cadena\n",
            "No rompas la cadena\n",
            "Ejecutando codigo fuera de función\n",
            "No rompas la cadena\n",
            "No rompas la cadena\n",
            "No rompas la cadena\n"
          ]
        }
      ]
    },
    {
      "cell_type": "code",
      "source": [
        "#Curso python sintaxis basica 4 funciones 2\n",
        "#Funciones - Paso  de parametros \n",
        "def suma():   #puede no recibir parametros o recibir muchos\n",
        "  num1 = 5\n",
        "  num2 = 7\n",
        "  print(num1 + num2)\n",
        "\n",
        "suma()\n",
        "suma()\n",
        "suma()"
      ],
      "metadata": {
        "colab": {
          "base_uri": "https://localhost:8080/"
        },
        "id": "k8GlE2kkxhS9",
        "outputId": "9826f998-1530-499a-e98f-c118778bc701"
      },
      "execution_count": null,
      "outputs": [
        {
          "output_type": "stream",
          "name": "stdout",
          "text": [
            "12\n",
            "12\n",
            "12\n"
          ]
        }
      ]
    },
    {
      "cell_type": "code",
      "source": [
        "def suma(num1, num2):\n",
        "  print(num1 + num2)\n",
        "\n",
        "suma(2, 4)\n",
        "suma(878, 643)\n",
        "suma(7,7)"
      ],
      "metadata": {
        "colab": {
          "base_uri": "https://localhost:8080/"
        },
        "id": "zl0GpFEfzVsP",
        "outputId": "63248d4d-c463-4edb-ce90-2bef8bab3112"
      },
      "execution_count": null,
      "outputs": [
        {
          "output_type": "stream",
          "name": "stdout",
          "text": [
            "6\n",
            "1521\n",
            "14\n"
          ]
        }
      ]
    },
    {
      "cell_type": "markdown",
      "source": [
        "def suma(num1, num2):\n",
        "  resultado : num1 + num2\n",
        "  return resultado "
      ],
      "metadata": {
        "id": "7iOovW900_T3"
      }
    },
    {
      "cell_type": "code",
      "source": [
        "def suma(num1, num2):\n",
        "  resultado = num1 + num2\n",
        "  return resultado \n",
        "print(suma(2, 4))\n",
        "print(suma(878, 643))\n",
        "print(suma(7,7))"
      ],
      "metadata": {
        "colab": {
          "base_uri": "https://localhost:8080/"
        },
        "id": "S3a_2cEq1Am7",
        "outputId": "166f29d0-031b-4c81-c3eb-04200eebc995"
      },
      "execution_count": null,
      "outputs": [
        {
          "output_type": "stream",
          "name": "stdout",
          "text": [
            "6\n",
            "1521\n",
            "14\n"
          ]
        }
      ]
    },
    {
      "cell_type": "code",
      "source": [
        "def suma(num1, num2):\n",
        "  resultado = num1 + num2\n",
        "  return resultado \n",
        "almacena_resultado = suma(5, 8)\n",
        "print(almacena_resultado)"
      ],
      "metadata": {
        "colab": {
          "base_uri": "https://localhost:8080/"
        },
        "id": "Sgg4eyp913fa",
        "outputId": "117ec045-ad98-4d83-e61d-cde17ecac722"
      },
      "execution_count": null,
      "outputs": [
        {
          "output_type": "stream",
          "name": "stdout",
          "text": [
            "13\n"
          ]
        }
      ]
    },
    {
      "cell_type": "code",
      "source": [
        "#Curso python 7 sintaxis básica listas \n",
        "#Sintaxis de las listas \n",
        "#nombreLista = [elem1, elem2, elem3... ] elem1 = posicion 0 ç\n",
        "miLista = ['June', 'Julieta', 'Pepe', 'Kiara'] \n",
        "print(miLista[:]) #todo la lista"
      ],
      "metadata": {
        "colab": {
          "base_uri": "https://localhost:8080/"
        },
        "id": "MdgkBzeE4qij",
        "outputId": "c414af05-ce58-4a18-ac4a-ed249421d9dc"
      },
      "execution_count": null,
      "outputs": [
        {
          "output_type": "stream",
          "name": "stdout",
          "text": [
            "['June', 'Julieta', 'Pepe', 'Kiara']\n"
          ]
        }
      ]
    },
    {
      "cell_type": "code",
      "source": [
        "miLista = ['June', 'Julieta', 'Pepe', 'Kiara'] \n",
        "print(miLista[2]) #acceder a un elemento"
      ],
      "metadata": {
        "colab": {
          "base_uri": "https://localhost:8080/"
        },
        "id": "I-riT46d61p0",
        "outputId": "88d18551-5a61-44d9-a2b0-5cecdfb05229"
      },
      "execution_count": null,
      "outputs": [
        {
          "output_type": "stream",
          "name": "stdout",
          "text": [
            "Pepe\n"
          ]
        }
      ]
    },
    {
      "cell_type": "code",
      "source": [
        "miLista = ['June', 'Julieta', 'Pepe', 'Kiara'] \n",
        "print(miLista[-2]) #da vuelta la lista y empieza de 1"
      ],
      "metadata": {
        "colab": {
          "base_uri": "https://localhost:8080/"
        },
        "id": "oGV6TeGB7YUQ",
        "outputId": "b0b06834-56b8-4139-b505-49de46cfb937"
      },
      "execution_count": null,
      "outputs": [
        {
          "output_type": "stream",
          "name": "stdout",
          "text": [
            "Pepe\n"
          ]
        }
      ]
    },
    {
      "cell_type": "code",
      "source": [
        "#acceder a una porción de lista \n",
        "miLista = ['June', 'Julieta', 'Pepe', 'Kiara'] \n",
        "print(miLista[:3]) #el 3 lo excluye\n",
        "miLista = ['June', 'Julieta', 'Pepe', 'Kiara'] \n",
        "print(miLista[1:3]) #solo 1 y 2\n",
        "miLista = ['June', 'Julieta', 'Pepe', 'Kiara'] \n",
        "print(miLista[2:])  #accede desde el 2 hasta el final, sin incluir el 2"
      ],
      "metadata": {
        "colab": {
          "base_uri": "https://localhost:8080/"
        },
        "id": "RFciEyze7i7R",
        "outputId": "7d1f28e4-f65f-4a3c-f16d-d7858fb2b617"
      },
      "execution_count": null,
      "outputs": [
        {
          "output_type": "stream",
          "name": "stdout",
          "text": [
            "['June', 'Julieta', 'Pepe']\n",
            "['Julieta', 'Pepe']\n",
            "['Pepe', 'Kiara']\n"
          ]
        }
      ]
    },
    {
      "cell_type": "code",
      "source": [
        "#agregar elementos a la lista\n",
        "miLista = ['June', 'Julieta', 'Pepe', 'Kiara'] \n",
        "miLista.append('Sara') #append agrega el elemento al final \n",
        "print(miLista[:])\n",
        "miLista.insert(2,'Sandra')\n",
        "print(miLista[:]) #agregar el elemento en el indice de 2\n",
        "miLista.extend(['No', 'termina', 'más']) #extiende la lista, agrega muchos elementos \n",
        "print(miLista[:])"
      ],
      "metadata": {
        "colab": {
          "base_uri": "https://localhost:8080/"
        },
        "id": "vVoTl35L8Bjc",
        "outputId": "2e3f1550-ff5c-4cf2-92e1-fc984b2cfd79"
      },
      "execution_count": null,
      "outputs": [
        {
          "output_type": "stream",
          "name": "stdout",
          "text": [
            "['June', 'Julieta', 'Pepe', 'Kiara', 'Sara']\n",
            "['June', 'Julieta', 'Sandra', 'Pepe', 'Kiara', 'Sara']\n",
            "['June', 'Julieta', 'Sandra', 'Pepe', 'Kiara', 'Sara', 'No', 'termina', 'más']\n"
          ]
        }
      ]
    },
    {
      "cell_type": "code",
      "source": [
        "miLista = ['June', 'Julieta', 'Pepe', 'Kiara'] \n",
        "print(miLista.index('Julieta')) #para saber en que lugar esta ese elemento\n",
        "miLista = ['June', 'Julieta', 'Julieta', 'Kiara'] \n",
        "print(miLista.index('Julieta')) #si esta repetido solo imprime el primer elemento"
      ],
      "metadata": {
        "colab": {
          "base_uri": "https://localhost:8080/"
        },
        "id": "-NiX4NlJ-LtY",
        "outputId": "5f69909f-8a14-458d-9b61-af82ff45b079"
      },
      "execution_count": null,
      "outputs": [
        {
          "output_type": "stream",
          "name": "stdout",
          "text": [
            "1\n",
            "1\n"
          ]
        }
      ]
    },
    {
      "cell_type": "code",
      "source": [
        "#comprobar si un elemento se encuentra o no la lista\n",
        "miLista = ['June', 'Julieta', 'Pepe', 'Kiara'] \n",
        "print('June' in miLista)"
      ],
      "metadata": {
        "colab": {
          "base_uri": "https://localhost:8080/"
        },
        "id": "rsb7EtQe_V5S",
        "outputId": "0013738c-c08b-478d-9cfe-105662f0622b"
      },
      "execution_count": null,
      "outputs": [
        {
          "output_type": "stream",
          "name": "stdout",
          "text": [
            "True\n"
          ]
        }
      ]
    },
    {
      "cell_type": "code",
      "source": [
        "miLista = ['June', 5, True, 7.5, 'Julieta', 'Pepe', 'Kiara'] \n",
        "print(miLista[3])\n",
        "miLista.remove('June') #remueve un elemento de la lista\n",
        "print(miLista[:])\n",
        "miLista.pop()   #elimina el ultimo elemento de la lista\n",
        "print(miLista[:])"
      ],
      "metadata": {
        "colab": {
          "base_uri": "https://localhost:8080/"
        },
        "id": "cofAi8Dk_90t",
        "outputId": "4ea56a32-3045-4a92-daa8-bdc90af00510"
      },
      "execution_count": null,
      "outputs": [
        {
          "output_type": "stream",
          "name": "stdout",
          "text": [
            "7.5\n",
            "[5, True, 7.5, 'Julieta', 'Pepe', 'Kiara']\n",
            "[5, True, 7.5, 'Julieta', 'Pepe']\n"
          ]
        }
      ]
    },
    {
      "cell_type": "code",
      "source": [
        "miLista = ['June', 5, True, 7.5, 'Julieta', 'Pepe', 'Kiara'] * 3\n",
        "miLista2 = ['Quiero', 'Comeer']\n",
        "miLista3 = miLista + miLista2 #suma las listas \n",
        "print(miLista3 [:])\n",
        "print(miLista [:])"
      ],
      "metadata": {
        "colab": {
          "base_uri": "https://localhost:8080/"
        },
        "id": "DL438H6OAkWp",
        "outputId": "08b082ff-9ded-4b9d-b443-1c0cb624fad2"
      },
      "execution_count": null,
      "outputs": [
        {
          "output_type": "stream",
          "name": "stdout",
          "text": [
            "['June', 5, True, 7.5, 'Julieta', 'Pepe', 'Kiara', 'June', 5, True, 7.5, 'Julieta', 'Pepe', 'Kiara', 'June', 5, True, 7.5, 'Julieta', 'Pepe', 'Kiara', 'Quiero', 'Comeer']\n",
            "['June', 5, True, 7.5, 'Julieta', 'Pepe', 'Kiara', 'June', 5, True, 7.5, 'Julieta', 'Pepe', 'Kiara', 'June', 5, True, 7.5, 'Julieta', 'Pepe', 'Kiara']\n"
          ]
        }
      ]
    },
    {
      "cell_type": "markdown",
      "source": [
        "curso python 8 \n",
        "\n",
        "sintaxis básica tuplas \n",
        "\n",
        "Las tuplas son listas inmutables, es decir, no se pueden modificar despues de su creación. \n",
        "- No permiten añadir, eliminar, mover elemento etc (no append, extend, remove)\n",
        "- No permiten búsquedas (no index), en las ultimas versiones de python si se permite, de la misma forma que en las listas\n",
        "- Si permiten comprobar si un elemento se encuentra en la tupla. \n",
        "\n",
        "\n",
        "¿Que utilidad o ventaja respecto a las listas?\n",
        "\n",
        "- Más rapidas \n",
        "- Menos espacio (mayor optimización)\n",
        "- Formatean Strings \n",
        "- Pueden utilizarse como claves en un diccionatio, (las listas no)\n"
      ],
      "metadata": {
        "id": "cJCSLGJfFgfl"
      }
    },
    {
      "cell_type": "code",
      "source": [
        "#curso python 8 \n",
        "#sintaxis básica tuplas \n",
        "#nombreTupla = (elem1, elem2, elem3...)\n",
        "miTupla = ('La', 'Puta', 'Madre', 3)\n",
        "print(miTupla [2]) #mostrar el elemento"
      ],
      "metadata": {
        "colab": {
          "base_uri": "https://localhost:8080/"
        },
        "id": "Zy_ThQyQFJnS",
        "outputId": "217fe443-029d-4ab1-c6a5-0eaf3b6b859d"
      },
      "execution_count": null,
      "outputs": [
        {
          "output_type": "stream",
          "name": "stdout",
          "text": [
            "Madre\n"
          ]
        }
      ]
    },
    {
      "cell_type": "code",
      "source": [
        "#convertir tuplas en listas \n",
        "milista = list(miTupla)\n",
        "print(milista)"
      ],
      "metadata": {
        "colab": {
          "base_uri": "https://localhost:8080/"
        },
        "id": "sFTuWIJuNqd1",
        "outputId": "9046c894-052f-4725-eaad-fc0e05d156f2"
      },
      "execution_count": null,
      "outputs": [
        {
          "output_type": "stream",
          "name": "stdout",
          "text": [
            "['La', 'Puta', 'Madre', 3]\n"
          ]
        }
      ]
    },
    {
      "cell_type": "code",
      "source": [
        "#convertir lista a tuplas \n",
        "milista = ['La', 'Puta', 'Madre', 3]\n",
        "mitupla = tuple(milista)\n",
        "print(mitupla)"
      ],
      "metadata": {
        "colab": {
          "base_uri": "https://localhost:8080/"
        },
        "id": "QUvW4fD_QVNg",
        "outputId": "b3811c41-9fc0-4771-c239-9bccb2ff6f03"
      },
      "execution_count": null,
      "outputs": [
        {
          "output_type": "stream",
          "name": "stdout",
          "text": [
            "('La', 'Puta', 'Madre', 3)\n"
          ]
        }
      ]
    },
    {
      "cell_type": "code",
      "source": [
        "#comprobar si hay un elemento en la tupla \n",
        "mitupla = ('La', 'Puta', 'Madre', 3, 'Madre')\n",
        "print('Puta' in mitupla)"
      ],
      "metadata": {
        "colab": {
          "base_uri": "https://localhost:8080/"
        },
        "id": "6Tz0xgASQ1A6",
        "outputId": "776e871b-e57c-4341-b3c6-ae9c5647a459"
      },
      "execution_count": null,
      "outputs": [
        {
          "output_type": "stream",
          "name": "stdout",
          "text": [
            "True\n"
          ]
        }
      ]
    },
    {
      "cell_type": "code",
      "source": [
        "#metodo count averiguar cuantos elementos se encuentran dentro de una tupla \n",
        "print(mitupla.count('Madre'))"
      ],
      "metadata": {
        "colab": {
          "base_uri": "https://localhost:8080/"
        },
        "id": "wbkKz9OFRFAj",
        "outputId": "ef40cc0f-1ebe-4e26-a222-05d6ac4ca8e0"
      },
      "execution_count": null,
      "outputs": [
        {
          "output_type": "stream",
          "name": "stdout",
          "text": [
            "2\n"
          ]
        }
      ]
    },
    {
      "cell_type": "code",
      "source": [
        "#metodo lend nos permite averiguar la longitud de una tupla \n",
        "print(len(mitupla))\n",
        "#tuplas unitarias \n",
        "mitupla1 = ('Madre',)\n",
        "print(len(mitupla1))"
      ],
      "metadata": {
        "colab": {
          "base_uri": "https://localhost:8080/"
        },
        "id": "hzdXUnXkR17o",
        "outputId": "72d1b1e0-8e0d-4e8e-c298-feb50b90da35"
      },
      "execution_count": null,
      "outputs": [
        {
          "output_type": "stream",
          "name": "stdout",
          "text": [
            "5\n",
            "1\n"
          ]
        }
      ]
    },
    {
      "cell_type": "markdown",
      "source": [
        "[ ] { } ¿?"
      ],
      "metadata": {
        "id": "f8ztsMkv5i9m"
      }
    },
    {
      "cell_type": "code",
      "source": [
        "#se pueden omitir los parentesis, pero no se recomienda, se llama empaquetado de tupla \n",
        "mitupla3 = 'Juan', 'ramon', 23, 4.5 \n",
        "print(mitupla3)"
      ],
      "metadata": {
        "colab": {
          "base_uri": "https://localhost:8080/"
        },
        "id": "Hf1EDDbMSii2",
        "outputId": "c0b394e7-96e2-44db-c3d6-48d2f0a8e97d"
      },
      "execution_count": null,
      "outputs": [
        {
          "output_type": "stream",
          "name": "stdout",
          "text": [
            "('Juan', 'ramon', 23, 4.5)\n"
          ]
        }
      ]
    },
    {
      "cell_type": "code",
      "source": [
        "#desempaquetado de tupla \n",
        "mitupla3 = ('Juan', 'ramon', 23, 4.5)\n",
        "nombre, dia, mes, nose = mitupla3\n",
        "print(nombre)\n",
        "print(dia)\n",
        "print(nose)\n",
        "print(mes)"
      ],
      "metadata": {
        "colab": {
          "base_uri": "https://localhost:8080/"
        },
        "id": "x0Lh-7RES9xQ",
        "outputId": "9099cee2-d1e9-4806-ca65-7fd1f3f10adf"
      },
      "execution_count": null,
      "outputs": [
        {
          "output_type": "stream",
          "name": "stdout",
          "text": [
            "Juan\n",
            "ramon\n",
            "4.5\n",
            "23\n"
          ]
        }
      ]
    },
    {
      "cell_type": "markdown",
      "source": [
        "Curso Python 9 sintaxis Básica diccionarios \n",
        "\n"
      ],
      "metadata": {
        "id": "b_sPHKOMUFC3"
      }
    }
  ]
}