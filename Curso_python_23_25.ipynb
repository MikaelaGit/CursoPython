{
  "nbformat": 4,
  "nbformat_minor": 0,
  "metadata": {
    "colab": {
      "provenance": [],
      "authorship_tag": "ABX9TyMVVmv1r+5GqFkiosiB8NCM",
      "include_colab_link": true
    },
    "kernelspec": {
      "name": "python3",
      "display_name": "Python 3"
    },
    "language_info": {
      "name": "python"
    }
  },
  "cells": [
    {
      "cell_type": "markdown",
      "metadata": {
        "id": "view-in-github",
        "colab_type": "text"
      },
      "source": [
        "<a href=\"https://colab.research.google.com/github/MikaelaGit/CursoPython/blob/main/Curso_python_23_25.ipynb\" target=\"_parent\"><img src=\"https://colab.research.google.com/assets/colab-badge.svg\" alt=\"Open In Colab\"/></a>"
      ]
    },
    {
      "cell_type": "code",
      "execution_count": null,
      "metadata": {
        "id": "TNsCWcpkFAL0"
      },
      "outputs": [],
      "source": [
        "#Curso python 23 Excepciones III"
      ]
    },
    {
      "cell_type": "markdown",
      "source": [
        "Lanzamiento de excepciones (nosostros la lanzamos de forma intencionada)\n",
        "\n",
        "- Intrucción Raise (base de excepciones propias)\n",
        "\n",
        "- Creacion de excepciones propias (más adelante en el curso cuando veamos la POO)"
      ],
      "metadata": {
        "id": "Hiu-PXniGhXg"
      }
    },
    {
      "cell_type": "code",
      "source": [
        "#Evalua edad\n",
        "\n",
        "def evaluaEdad(edad):\n",
        "  if edad < 0:\n",
        "      raise TypeError ('NO se permiten edades negativas')\n",
        "  if edad < 20:\n",
        "    return 'eres muy joven'\n",
        "  elif edad < 40:\n",
        "    return 'Eres joven'\n",
        "  elif edad < 65:\n",
        "    return 'Ya estas viejo'\n",
        "  elif edad < 100:\n",
        "    return 'Cuídate...'\n",
        "  \n",
        "print(evaluaEdad(-18))\n",
        "#que pasa si ponen una edad -0 "
      ],
      "metadata": {
        "colab": {
          "base_uri": "https://localhost:8080/",
          "height": 339
        },
        "id": "oJYfKscJGcyI",
        "outputId": "341e71f0-9b4a-424d-97e3-43f0d4d2dac3"
      },
      "execution_count": null,
      "outputs": [
        {
          "output_type": "error",
          "ename": "TypeError",
          "evalue": "ignored",
          "traceback": [
            "\u001b[0;31m---------------------------------------------------------------------------\u001b[0m",
            "\u001b[0;31mTypeError\u001b[0m                                 Traceback (most recent call last)",
            "\u001b[0;32m<ipython-input-2-07818dc2d84e>\u001b[0m in \u001b[0;36m<module>\u001b[0;34m\u001b[0m\n\u001b[1;32m     13\u001b[0m     \u001b[0;32mreturn\u001b[0m \u001b[0;34m'Cuídate...'\u001b[0m\u001b[0;34m\u001b[0m\u001b[0;34m\u001b[0m\u001b[0m\n\u001b[1;32m     14\u001b[0m \u001b[0;34m\u001b[0m\u001b[0m\n\u001b[0;32m---> 15\u001b[0;31m \u001b[0mprint\u001b[0m\u001b[0;34m(\u001b[0m\u001b[0mevaluaEdad\u001b[0m\u001b[0;34m(\u001b[0m\u001b[0;34m-\u001b[0m\u001b[0;36m18\u001b[0m\u001b[0;34m)\u001b[0m\u001b[0;34m)\u001b[0m\u001b[0;34m\u001b[0m\u001b[0;34m\u001b[0m\u001b[0m\n\u001b[0m\u001b[1;32m     16\u001b[0m \u001b[0;31m#que pasa si ponen una edad -0\u001b[0m\u001b[0;34m\u001b[0m\u001b[0;34m\u001b[0m\u001b[0;34m\u001b[0m\u001b[0m\n",
            "\u001b[0;32m<ipython-input-2-07818dc2d84e>\u001b[0m in \u001b[0;36mevaluaEdad\u001b[0;34m(edad)\u001b[0m\n\u001b[1;32m      3\u001b[0m \u001b[0;32mdef\u001b[0m \u001b[0mevaluaEdad\u001b[0m\u001b[0;34m(\u001b[0m\u001b[0medad\u001b[0m\u001b[0;34m)\u001b[0m\u001b[0;34m:\u001b[0m\u001b[0;34m\u001b[0m\u001b[0;34m\u001b[0m\u001b[0m\n\u001b[1;32m      4\u001b[0m   \u001b[0;32mif\u001b[0m \u001b[0medad\u001b[0m \u001b[0;34m<\u001b[0m \u001b[0;36m0\u001b[0m\u001b[0;34m:\u001b[0m\u001b[0;34m\u001b[0m\u001b[0;34m\u001b[0m\u001b[0m\n\u001b[0;32m----> 5\u001b[0;31m       \u001b[0;32mraise\u001b[0m \u001b[0mTypeError\u001b[0m \u001b[0;34m(\u001b[0m\u001b[0;34m'NO se permiten edades negativas'\u001b[0m\u001b[0;34m)\u001b[0m\u001b[0;34m\u001b[0m\u001b[0;34m\u001b[0m\u001b[0m\n\u001b[0m\u001b[1;32m      6\u001b[0m   \u001b[0;32mif\u001b[0m \u001b[0medad\u001b[0m \u001b[0;34m<\u001b[0m \u001b[0;36m20\u001b[0m\u001b[0;34m:\u001b[0m\u001b[0;34m\u001b[0m\u001b[0;34m\u001b[0m\u001b[0m\n\u001b[1;32m      7\u001b[0m     \u001b[0;32mreturn\u001b[0m \u001b[0;34m'eres muy joven'\u001b[0m\u001b[0;34m\u001b[0m\u001b[0;34m\u001b[0m\u001b[0m\n",
            "\u001b[0;31mTypeError\u001b[0m: NO se permiten edades negativas"
          ]
        }
      ]
    },
    {
      "cell_type": "code",
      "source": [
        "#evaluar raíz cuadrada\n",
        "import math\n",
        "\n",
        "def calculaRaiz(num1):\n",
        "  if num1 < 0:\n",
        "      raise ValueError ('El número no puede ser negativo')\n",
        "\n",
        "  else:\n",
        "      return math.sqrt(num1)\n",
        "\n",
        "op1 = (int(input('Introduce un número: ')))\n",
        "\n",
        "try:\n",
        "    print(calculaRaiz(op1))\n",
        "\n",
        "except ValueError as ErrorNumeroNegativo:\n",
        "\n",
        "    print(ErrorNumeroNegativo)\n",
        "\n",
        "print('Programa terminado')"
      ],
      "metadata": {
        "colab": {
          "base_uri": "https://localhost:8080/"
        },
        "id": "bBy39CXGJf8I",
        "outputId": "a3fa09a3-84c5-42fa-b5be-b60d6419c153"
      },
      "execution_count": null,
      "outputs": [
        {
          "output_type": "stream",
          "name": "stdout",
          "text": [
            "Introduce un número: -144\n",
            "El número no puede ser negativo\n",
            "Programa terminado\n"
          ]
        }
      ]
    },
    {
      "cell_type": "code",
      "source": [
        "#Curso Python 24 Programacion orientada a objetos"
      ],
      "metadata": {
        "id": "t9Uddjig4U5h"
      },
      "execution_count": null,
      "outputs": []
    },
    {
      "cell_type": "markdown",
      "source": [
        "qué es la POO\n",
        "\n",
        "2 formas de programar (paradigmas)\n",
        "\n",
        "Paradigmas de la programación\n",
        "\n",
        "1. Programación orientada a procedimientos\n",
        "\n",
        "Algunos ejemplos de lenguajes: fortran, cobol, basic,etc.\n",
        "\n",
        "  Desventajas:\n",
        "\n",
        "- Unidades de código muy grandes en aplicaciones complejas.\n",
        "- En aplicaciones complejas el código resultaba dificil de decifrar\n",
        "- Poco reutilizable\n",
        "- Si existe fallo en alguna linea del codigo, es muy probable que el programa caiga.\n",
        "- Aparición frecuente de codigo espaguetti\n",
        "- Dificil de depurar por otros programadores en caso de necesidad o error. \n",
        "\n",
        "2. Programación orientada a objetos \n",
        "\n",
        "Consiste en trasaldar la naturaleza de los objetos de la vida real al codigo de programación \n",
        "\n",
        "Los objetos tienen un estado, un comportamiento y unas propiedades.\n",
        "\n",
        "Por ejemplo: Un coche puede estar parado, circulando, aparcado, tiene un color, peso, tamaño, puede arrancar, frenar, acelerar, girar.\n",
        "\n",
        "Algunos ejemplos de lenguajes: C++, Java, Visual.NET.\n",
        "\n",
        "Ventajas:\n",
        "\n",
        "- Programas divididos en trozos, partes, modulos o clases. Modularización.\n",
        "- Muy reutilizable. Herencia.\n",
        "- Si existe fallo en alguna linea del código, el programa continuará con su funcionamiento. Tratamiento de excepciones. \n",
        "- Encapsulamiento. \n",
        "\n",
        "Vocabulario de la POO\n",
        "\n",
        "- Clase\n",
        "- objeto\n",
        "- Ejemplar de clase. instancia de clase. ejemplarizar una clase. instanciar una clase.\n",
        "- modularización\n",
        "- encapsulamiento / encapsulación\n",
        "- herencia\n",
        "- polimorfismo\n",
        "\n",
        "\n",
        "\n"
      ],
      "metadata": {
        "id": "DbvEXjAI4gc0"
      }
    },
    {
      "cell_type": "code",
      "source": [
        "#Cuso python 25 POO II \n",
        "#Conceptos o términos de la POO"
      ],
      "metadata": {
        "id": "TDAqLEGH_CqM"
      },
      "execution_count": null,
      "outputs": []
    },
    {
      "cell_type": "markdown",
      "source": [
        "Vocabulario de la POO\n",
        "\n",
        "Clase: Modelo donde se redactan las caracteristicas comunes de un grupo de obejtos. \n",
        "\n",
        "Instacia: ejemplar perteneciente a una clase. \n",
        "\n",
        "Modularización: "
      ],
      "metadata": {
        "id": "rdvu8MXL_07u"
      }
    }
  ]
}