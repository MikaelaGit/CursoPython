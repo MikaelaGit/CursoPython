{
  "nbformat": 4,
  "nbformat_minor": 0,
  "metadata": {
    "colab": {
      "provenance": [],
      "authorship_tag": "ABX9TyOQKnCcO3WYeKAWWIJqhTSX",
      "include_colab_link": true
    },
    "kernelspec": {
      "name": "python3",
      "display_name": "Python 3"
    },
    "language_info": {
      "name": "python"
    }
  },
  "cells": [
    {
      "cell_type": "markdown",
      "metadata": {
        "id": "view-in-github",
        "colab_type": "text"
      },
      "source": [
        "<a href=\"https://colab.research.google.com/github/MikaelaGit/CursoPython/blob/main/Curso_python_23_.ipynb\" target=\"_parent\"><img src=\"https://colab.research.google.com/assets/colab-badge.svg\" alt=\"Open In Colab\"/></a>"
      ]
    },
    {
      "cell_type": "code",
      "execution_count": null,
      "metadata": {
        "id": "TNsCWcpkFAL0"
      },
      "outputs": [],
      "source": [
        "#Curso python 23 Excepciones III"
      ]
    },
    {
      "cell_type": "markdown",
      "source": [
        "Lanzamiento de excepciones (nosostros la lanzamos de forma intencionada)\n",
        "\n",
        "- Intrucción Raise (base de excepciones propias)\n",
        "\n",
        "- Creacion de excepciones propias (más adelante en el curso cuando veamos la POO)"
      ],
      "metadata": {
        "id": "Hiu-PXniGhXg"
      }
    },
    {
      "cell_type": "code",
      "source": [
        "#Evalua edad\n",
        "\n",
        "def evaluaEdad(edad):\n",
        "  if edad < 0:\n",
        "      raise TypeError ('NO se permiten edades negativas')\n",
        "  if edad < 20:\n",
        "    return 'eres muy joven'\n",
        "  elif edad < 40:\n",
        "    return 'Eres joven'\n",
        "  elif edad < 65:\n",
        "    return 'Ya estas viejo'\n",
        "  elif edad < 100:\n",
        "    return 'Cuídate...'\n",
        "  \n",
        "print(evaluaEdad(-18))\n",
        "#que pasa si ponen una edad -0 "
      ],
      "metadata": {
        "colab": {
          "base_uri": "https://localhost:8080/",
          "height": 339
        },
        "id": "oJYfKscJGcyI",
        "outputId": "341e71f0-9b4a-424d-97e3-43f0d4d2dac3"
      },
      "execution_count": 2,
      "outputs": [
        {
          "output_type": "error",
          "ename": "TypeError",
          "evalue": "ignored",
          "traceback": [
            "\u001b[0;31m---------------------------------------------------------------------------\u001b[0m",
            "\u001b[0;31mTypeError\u001b[0m                                 Traceback (most recent call last)",
            "\u001b[0;32m<ipython-input-2-07818dc2d84e>\u001b[0m in \u001b[0;36m<module>\u001b[0;34m\u001b[0m\n\u001b[1;32m     13\u001b[0m     \u001b[0;32mreturn\u001b[0m \u001b[0;34m'Cuídate...'\u001b[0m\u001b[0;34m\u001b[0m\u001b[0;34m\u001b[0m\u001b[0m\n\u001b[1;32m     14\u001b[0m \u001b[0;34m\u001b[0m\u001b[0m\n\u001b[0;32m---> 15\u001b[0;31m \u001b[0mprint\u001b[0m\u001b[0;34m(\u001b[0m\u001b[0mevaluaEdad\u001b[0m\u001b[0;34m(\u001b[0m\u001b[0;34m-\u001b[0m\u001b[0;36m18\u001b[0m\u001b[0;34m)\u001b[0m\u001b[0;34m)\u001b[0m\u001b[0;34m\u001b[0m\u001b[0;34m\u001b[0m\u001b[0m\n\u001b[0m\u001b[1;32m     16\u001b[0m \u001b[0;31m#que pasa si ponen una edad -0\u001b[0m\u001b[0;34m\u001b[0m\u001b[0;34m\u001b[0m\u001b[0;34m\u001b[0m\u001b[0m\n",
            "\u001b[0;32m<ipython-input-2-07818dc2d84e>\u001b[0m in \u001b[0;36mevaluaEdad\u001b[0;34m(edad)\u001b[0m\n\u001b[1;32m      3\u001b[0m \u001b[0;32mdef\u001b[0m \u001b[0mevaluaEdad\u001b[0m\u001b[0;34m(\u001b[0m\u001b[0medad\u001b[0m\u001b[0;34m)\u001b[0m\u001b[0;34m:\u001b[0m\u001b[0;34m\u001b[0m\u001b[0;34m\u001b[0m\u001b[0m\n\u001b[1;32m      4\u001b[0m   \u001b[0;32mif\u001b[0m \u001b[0medad\u001b[0m \u001b[0;34m<\u001b[0m \u001b[0;36m0\u001b[0m\u001b[0;34m:\u001b[0m\u001b[0;34m\u001b[0m\u001b[0;34m\u001b[0m\u001b[0m\n\u001b[0;32m----> 5\u001b[0;31m       \u001b[0;32mraise\u001b[0m \u001b[0mTypeError\u001b[0m \u001b[0;34m(\u001b[0m\u001b[0;34m'NO se permiten edades negativas'\u001b[0m\u001b[0;34m)\u001b[0m\u001b[0;34m\u001b[0m\u001b[0;34m\u001b[0m\u001b[0m\n\u001b[0m\u001b[1;32m      6\u001b[0m   \u001b[0;32mif\u001b[0m \u001b[0medad\u001b[0m \u001b[0;34m<\u001b[0m \u001b[0;36m20\u001b[0m\u001b[0;34m:\u001b[0m\u001b[0;34m\u001b[0m\u001b[0;34m\u001b[0m\u001b[0m\n\u001b[1;32m      7\u001b[0m     \u001b[0;32mreturn\u001b[0m \u001b[0;34m'eres muy joven'\u001b[0m\u001b[0;34m\u001b[0m\u001b[0;34m\u001b[0m\u001b[0m\n",
            "\u001b[0;31mTypeError\u001b[0m: NO se permiten edades negativas"
          ]
        }
      ]
    },
    {
      "cell_type": "code",
      "source": [
        "#evaluar raíz cuadrada\n",
        "import math\n",
        "\n",
        "def calculaRaiz(num1):\n",
        "  if num1 < 0:\n",
        "      raise ValueError ('El número no puede ser negativo')\n",
        "\n",
        "  else:\n",
        "      return math.sqrt(num1)\n",
        "\n",
        "op1 = (int(input('Introduce un número: ')))\n",
        "\n",
        "try:\n",
        "    print(calculaRaiz(op1))\n",
        "\n",
        "except ValueError as ErrorNumeroNegativo:\n",
        "\n",
        "    print(ErrorNumeroNegativo)\n",
        "\n",
        "print('Programa terminado')"
      ],
      "metadata": {
        "colab": {
          "base_uri": "https://localhost:8080/"
        },
        "id": "bBy39CXGJf8I",
        "outputId": "a3fa09a3-84c5-42fa-b5be-b60d6419c153"
      },
      "execution_count": 6,
      "outputs": [
        {
          "output_type": "stream",
          "name": "stdout",
          "text": [
            "Introduce un número: -144\n",
            "El número no puede ser negativo\n",
            "Programa terminado\n"
          ]
        }
      ]
    }
  ]
}