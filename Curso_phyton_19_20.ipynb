{
  "nbformat": 4,
  "nbformat_minor": 0,
  "metadata": {
    "colab": {
      "name": "Curso phyton 19-20.ipynb",
      "provenance": [],
      "authorship_tag": "ABX9TyO5/GXwHVcg0+OsCMZocZhw",
      "include_colab_link": true
    },
    "kernelspec": {
      "name": "python3",
      "display_name": "Python 3"
    },
    "language_info": {
      "name": "python"
    }
  },
  "cells": [
    {
      "cell_type": "markdown",
      "metadata": {
        "id": "view-in-github",
        "colab_type": "text"
      },
      "source": [
        "<a href=\"https://colab.research.google.com/github/MikaelaGit/CursoPython/blob/main/Curso_phyton_19_20.ipynb\" target=\"_parent\"><img src=\"https://colab.research.google.com/assets/colab-badge.svg\" alt=\"Open In Colab\"/></a>"
      ]
    },
    {
      "cell_type": "markdown",
      "source": [
        "Generadores I Video 19\n",
        "\n",
        "- estructuras que extraen valores de una funcion y se almacenan en objetos iterables (que se pueden recorrer).\n",
        "\n",
        "- estos valores almacenan de uno en uno. \n",
        "\n",
        "- cada vez que un generador almacena un valor, este permaneces en un estado pausado hasta que se solicita el siguiente. Esta característica es conocida como \"supensión de estado\".\n",
        "\n",
        "Que utilidad tienen\n",
        "\n",
        "- son mas eficientes que las funciones tradicionales \n",
        "\n",
        "- muy utiles con listas de valores infinitos \n",
        "\n",
        "- bajo determinados escenarios, sera muy util que un generador devuelva los valores de uno en uno.\n",
        "\n",
        "Sintaxis\n",
        "\n",
        "def generaNumeros():\n",
        "\n",
        "yield numeros "
      ],
      "metadata": {
        "id": "UnkaIvHZLV7B"
      }
    },
    {
      "cell_type": "code",
      "execution_count": 2,
      "metadata": {
        "colab": {
          "base_uri": "https://localhost:8080/"
        },
        "id": "qFDi9Q6rK9l9",
        "outputId": "44a22662-fcc6-4cb8-de30-03f8f7586dc3"
      },
      "outputs": [
        {
          "output_type": "stream",
          "name": "stdout",
          "text": [
            "[2, 4, 6, 8, 10, 12, 14, 16, 18]\n"
          ]
        }
      ],
      "source": [
        "#Función tradicional\n",
        "\n",
        "def generaPares(limite):\n",
        "  num = 1\n",
        "\n",
        "  miLista = []\n",
        "\n",
        "  while num < limite:\n",
        "    miLista.append(num*2)\n",
        "\n",
        "    num = num + 1\n",
        "  \n",
        "  return miLista\n",
        "\n",
        "print(generaPares(10))"
      ]
    },
    {
      "cell_type": "code",
      "source": [
        "#Función con generador\n",
        "\n",
        "def generaPares(limite):\n",
        "  \n",
        "  num = 1\n",
        "\n",
        "  while num < limite:\n",
        "    \n",
        "    yield num*2\n",
        "\n",
        "    num = num + 1\n",
        "\n",
        "devuelvePares = generaPares(10)\n",
        "\n",
        "for i in devuelvePares: \n",
        "  print(i)"
      ],
      "metadata": {
        "colab": {
          "base_uri": "https://localhost:8080/"
        },
        "id": "wMPXXMkVRKEj",
        "outputId": "e8f70006-575a-44c7-8dfa-9c02ecacb429"
      },
      "execution_count": 3,
      "outputs": [
        {
          "output_type": "stream",
          "name": "stdout",
          "text": [
            "2\n",
            "4\n",
            "6\n",
            "8\n",
            "10\n",
            "12\n",
            "14\n",
            "16\n",
            "18\n"
          ]
        }
      ]
    },
    {
      "cell_type": "code",
      "source": [
        "#Devuelve solo 3 pares\n",
        "\n",
        "def generaPares(limite):\n",
        "  \n",
        "  num = 1\n",
        "\n",
        "  while num < limite:\n",
        "    \n",
        "    yield num*2\n",
        "\n",
        "    num = num + 1\n",
        "\n",
        "devuelvePares = generaPares(10)\n",
        "\n",
        "print(next(devuelvePares))\n",
        "\n",
        "print('Aquí podría ir mas codigo...')\n",
        "\n",
        "print(next(devuelvePares))\n",
        "\n",
        "print('Aquí podría ir mas codigo...')"
      ],
      "metadata": {
        "colab": {
          "base_uri": "https://localhost:8080/"
        },
        "id": "8TZbCglWSFDo",
        "outputId": "bccc05e8-de75-490a-d982-e648f72e5b24"
      },
      "execution_count": 5,
      "outputs": [
        {
          "output_type": "stream",
          "name": "stdout",
          "text": [
            "2\n",
            "Aquí podría ir mas codigo...\n",
            "4\n",
            "Aquí podría ir mas codigo...\n"
          ]
        }
      ]
    },
    {
      "cell_type": "markdown",
      "source": [
        "[ ] { } ¿?"
      ],
      "metadata": {
        "id": "vswNrKa3QgSH"
      }
    },
    {
      "cell_type": "markdown",
      "source": [
        "Generadores II Video 20 \n",
        "\n",
        "\n",
        "Nueva instrucción Yield From \n",
        "\n",
        "Utilidad: simplificar el código de los generadores en el caso de utilizar bucles anidados. \n",
        "\n",
        "def miGenerador():\n",
        "\n",
        "yield elementos"
      ],
      "metadata": {
        "id": "mN7RN5NsTUN8"
      }
    },
    {
      "cell_type": "code",
      "source": [
        "#Función generador ciudades \n",
        "\n",
        "def ciudades(*ciudades): #cuando colocamos un asterisco delante del paramentro\n",
        "#se le indica a python que va a recibir un numero indeterminado de elementos\n",
        "# y que esos argumentos los va a recibir en forma de tupla \n",
        "  for elemento in ciudades: \n",
        "    yield elemento \n",
        "\n",
        "ciudadesDevueltas = ciudades('Madrid', 'Barcelona', 'Valencia')\n",
        "\n",
        "print(next(ciudadesDevueltas))\n",
        "\n",
        "print(next(ciudadesDevueltas))\n"
      ],
      "metadata": {
        "colab": {
          "base_uri": "https://localhost:8080/"
        },
        "id": "wug0OqEHTJEj",
        "outputId": "74526021-5beb-43c7-9f83-db7f29a2fb2e"
      },
      "execution_count": 8,
      "outputs": [
        {
          "output_type": "stream",
          "name": "stdout",
          "text": [
            "Madrid\n",
            "Barcelona\n"
          ]
        }
      ]
    },
    {
      "cell_type": "code",
      "source": [
        "#bucle for anidado \n",
        "\n",
        "def ciudades(*ciudades): \n",
        "  for elemento in ciudades: \n",
        "    for subElemento in elemento:\n",
        "      yield subElemento\n",
        "\n",
        "ciudadesDevueltas = ciudades('Madrid', 'Barcelona', 'Valencia')\n",
        "\n",
        "print(next(ciudadesDevueltas))\n",
        "\n",
        "print(next(ciudadesDevueltas))"
      ],
      "metadata": {
        "colab": {
          "base_uri": "https://localhost:8080/"
        },
        "id": "D2AHx35nTTKr",
        "outputId": "1e1a3023-50a2-4e31-c6b2-dd1fc0950d9d"
      },
      "execution_count": 10,
      "outputs": [
        {
          "output_type": "stream",
          "name": "stdout",
          "text": [
            "M\n",
            "a\n"
          ]
        }
      ]
    },
    {
      "cell_type": "code",
      "source": [
        "#lo mismo pero sin el bucle anidado \n",
        "\n",
        "def ciudades(*ciudades): \n",
        "  for elemento in ciudades: \n",
        "    #for subElemento in elemento:\n",
        "      yield from elemento\n",
        "\n",
        "ciudadesDevueltas = ciudades('Madrid', 'Barcelona', 'Valencia')\n",
        "\n",
        "print(next(ciudadesDevueltas))\n",
        "\n",
        "print(next(ciudadesDevueltas))"
      ],
      "metadata": {
        "colab": {
          "base_uri": "https://localhost:8080/"
        },
        "id": "wV_8BTfdV77C",
        "outputId": "b9a5a2e4-e118-4c6c-8b6d-a91554644995"
      },
      "execution_count": 11,
      "outputs": [
        {
          "output_type": "stream",
          "name": "stdout",
          "text": [
            "M\n",
            "a\n"
          ]
        }
      ]
    }
  ]
}