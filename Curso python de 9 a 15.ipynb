{
  "nbformat": 4,
  "nbformat_minor": 0,
  "metadata": {
    "colab": {
      "name": "Untitled5.ipynb",
      "provenance": [],
      "authorship_tag": "ABX9TyNALBGw8or5fefppMT1uAcG",
      "include_colab_link": true
    },
    "kernelspec": {
      "name": "python3",
      "display_name": "Python 3"
    },
    "language_info": {
      "name": "python"
    }
  },
  "cells": [
    {
      "cell_type": "markdown",
      "metadata": {
        "id": "view-in-github",
        "colab_type": "text"
      },
      "source": [
        "<a href=\"https://colab.research.google.com/github/MikaelaGit/CursoPython/blob/main/Curso%20python%20de%209%20a%2015.ipynb\" target=\"_parent\"><img src=\"https://colab.research.google.com/assets/colab-badge.svg\" alt=\"Open In Colab\"/></a>"
      ]
    },
    {
      "cell_type": "markdown",
      "source": [
        "Curso python  9 sintaxis basicas los diccionarios \n",
        "\n",
        "\n",
        "Estructuras de datos que nos permite almacenar valores de diferente tipo (enteros, cadenas de texto, decimales) e incluso listas y otros diccionarios. \n",
        "\n",
        "La principal caracteristica de los diccionarios es que los datos se almacenan asociados a una clave de tal forma que se crea una asociación de tipo **clave : valor** para cada elemento almacenado. \n",
        "\n",
        "Los elementos almacenados no están ordenados. El orden es indiferente a la hora de almacenar información en un diccionario. "
      ],
      "metadata": {
        "id": "bVWHCY_lYpUQ"
      }
    },
    {
      "cell_type": "code",
      "execution_count": null,
      "metadata": {
        "colab": {
          "base_uri": "https://localhost:8080/"
        },
        "id": "oJtHcXXrW_fd",
        "outputId": "eef43621-824e-463d-8b9d-1fec5efb1d0c"
      },
      "outputs": [
        {
          "output_type": "stream",
          "name": "stdout",
          "text": [
            "Berlín\n",
            "{'Alemania': 'Berlín', 'Francia': 'París', 'Perú': 'Lima', 'Argentina': 'Buenos Aires'}\n"
          ]
        }
      ],
      "source": [
        " #Sintaxis de un diccionario se define entre llaves\n",
        "\n",
        " midiccionario = {'Alemania': 'Berlín', 'Francia': 'París', 'Perú':'Lima', 'Argentina':'Buenos Aires'}\n",
        "#como acceder a un elemento en concreto \n",
        "print(midiccionario['Alemania'])\n",
        "print(midiccionario)"
      ]
    },
    {
      "cell_type": "code",
      "execution_count": null,
      "metadata": {
        "colab": {
          "base_uri": "https://localhost:8080/"
        },
        "outputId": "ab8baf11-909e-4085-fbf5-663b0e18bfb5",
        "id": "vuWbpHIfcSjW"
      },
      "outputs": [
        {
          "output_type": "stream",
          "name": "stdout",
          "text": [
            "{'Alemania': 'Berlín', 'Francia': 'París', 'Perú': 'Lima', 'Argentina': 'Buenos Aires', 'Italia': 'Lisboa'}\n",
            "{'Alemania': 'Berlín', 'Francia': 'París', 'Perú': 'Lima', 'Argentina': 'Buenos Aires', 'Italia': 'Roma'}\n",
            "{'Francia': 'París', 'Perú': 'Lima', 'Argentina': 'Buenos Aires', 'Italia': 'Roma'}\n"
          ]
        }
      ],
      "source": [
        "midiccionario = {'Alemania': 'Berlín', 'Francia': 'París', 'Perú':'Lima', 'Argentina':'Buenos Aires'}\n",
        "#Como agregar elementos \n",
        "midiccionario['Italia'] = 'Lisboa'\n",
        "print(midiccionario)\n",
        "#como corregir el error\n",
        "midiccionario['Italia'] = 'Roma'\n",
        "print(midiccionario)\n",
        "#como eliminar un elemento \n",
        "del midiccionario['Alemania']\n",
        "print(midiccionario)"
      ]
    },
    {
      "cell_type": "code",
      "source": [
        "#Utilizar una tupla para asignar las claves a los valores\n",
        "mitupla = ['Twice','Loona', 'Blackpink', 'Gidle']\n",
        "midiccionario = {mitupla[0]: 'Once', mitupla[1]: 'Orbit', mitupla[2]: 'Blinks', mitupla[3]: 'Neverland'}\n",
        "print(midiccionario)\n",
        "#\n",
        "print(midiccionario['Twice'])"
      ],
      "metadata": {
        "colab": {
          "base_uri": "https://localhost:8080/"
        },
        "id": "XBGoSBwjcInZ",
        "outputId": "c12eb96b-42f7-49ef-92ee-ba6298954564"
      },
      "execution_count": null,
      "outputs": [
        {
          "output_type": "stream",
          "name": "stdout",
          "text": [
            "{'Twice': 'Once', 'Loona': 'Orbit', 'Blackpink': 'Blinks', 'Gidle': 'Neverland'}\n",
            "Once\n"
          ]
        }
      ]
    },
    {
      "cell_type": "code",
      "source": [
        "#Un diccionario almacene dentro todo una tupla junto con otros valores \n",
        "midiccionario = {'Twice': 'Once' , 'Blackpink': 'Blinks', 'Gidle': 'Neverland', 'Miembros' : [9, 4, 5]}\n",
        "print(midiccionario)\n",
        "#como acceder a la clave de miembros, es decir que tiene varios valores\n",
        "print(midiccionario['Miembros'])\n",
        "#guardar un diccionario, dentro de otro diccionario, y tambien tiene una tupla\n",
        "midiccionario = {'Twice': 'Once' , 'Blackpink': 'Blinks', 'Gidle': 'Neverland', 'Miembros' :{'Cantidad':[9, 4, 5]}}\n",
        "print(midiccionario['Miembros'])\n",
        "#metodo keys, nos devuelve las claves del diccionario\n",
        "print(midiccionario.keys())\n",
        "#metodo values, nos devuelve los valores \n",
        "print(midiccionario.values())\n",
        "#metodo len, nos devuelve la longitud\n",
        "print(len(midiccionario))"
      ],
      "metadata": {
        "colab": {
          "base_uri": "https://localhost:8080/"
        },
        "id": "3CaPkkMXgeiY",
        "outputId": "0b490419-7f72-48a7-faf8-c4f9da39881a"
      },
      "execution_count": null,
      "outputs": [
        {
          "output_type": "stream",
          "name": "stdout",
          "text": [
            "{'Twice': 'Once', 'Blackpink': 'Blinks', 'Gidle': 'Neverland', 'Miembros': [9, 4, 5]}\n",
            "[9, 4, 5]\n",
            "{'Cantidad': [9, 4, 5]}\n",
            "dict_keys(['Twice', 'Blackpink', 'Gidle', 'Miembros'])\n",
            "dict_values(['Once', 'Blinks', 'Neverland', {'Cantidad': [9, 4, 5]}])\n",
            "4\n"
          ]
        }
      ]
    },
    {
      "cell_type": "markdown",
      "source": [
        "Curso python 10 condicionales 1\n",
        "\n",
        "Instrucción if\n",
        "\n",
        "Flujo de ejecución de un programa \n",
        "\n",
        "intruccion\n",
        "\n",
        "if condicion evaluar si la condición se cumple o no se cumple, verdadera o falsa \n",
        "\n",
        "- instruccion \n",
        "\n",
        "Intrucción\n"
      ],
      "metadata": {
        "id": "rtzILxu0nAAZ"
      }
    },
    {
      "cell_type": "code",
      "source": [
        "def evaluacion(nota):\n",
        "  valoracion = 'Aprobado'\n",
        "  if nota < 5: \n",
        "    valoracion = 'Suspenso'\n",
        "  return valoracion \n",
        "\n",
        "print(evaluacion(4))\n",
        "print(evaluacion(9))"
      ],
      "metadata": {
        "colab": {
          "base_uri": "https://localhost:8080/"
        },
        "id": "X9qwL2IRpIx3",
        "outputId": "1d2b4fe8-593c-47ab-b2aa-d9413f8fc008"
      },
      "execution_count": null,
      "outputs": [
        {
          "output_type": "stream",
          "name": "stdout",
          "text": [
            "Suspenso\n",
            "Aprobado\n"
          ]
        }
      ]
    },
    {
      "cell_type": "code",
      "source": [
        "print('Programa de evalución de notas de alumnos')\n",
        "\n",
        "nota_alumno = input('Introduce la nota del alumno: ') #cualquier cosa que nosotros introduzcamos por la funcion input\n",
        "                      #va a ser tomado como string, texto \n",
        "def evaluacion(nota):\n",
        "  valoracion = 'Aprobado'\n",
        "  if nota < 5: \n",
        "    valoracion = 'Suspenso'\n",
        "  return valoracion \n",
        "\n",
        "print(evaluacion(int(nota_alumno))) #para lo que introducimos se tome como numero, se pone int"
      ],
      "metadata": {
        "colab": {
          "base_uri": "https://localhost:8080/"
        },
        "id": "eo2sSqCvqjBi",
        "outputId": "5050415e-c181-47a3-96b7-15686e316861"
      },
      "execution_count": null,
      "outputs": [
        {
          "output_type": "stream",
          "name": "stdout",
          "text": [
            "Programa de evalución de notas de alumnos\n",
            "Introduce la nota del alumno: 6\n",
            "Aprobado\n"
          ]
        }
      ]
    },
    {
      "cell_type": "code",
      "source": [
        "#ambito: una variable solo es accesible dentro de un ambito\n",
        "#condicionales 2 \n",
        "#Instrucciones else y elif \n",
        "print('Verificación de acceso')\n",
        "edad_usuario = int(input('Introduzca su edad: '))\n",
        "\n",
        "if edad_usuario < 18:\n",
        "  print('No puedes pasar')\n",
        "else:\n",
        "  print('Puedes pasar') #No puede haber un else sin el if, y no puede haber dos else\n",
        "\n",
        "print('El programa a finalizado')"
      ],
      "metadata": {
        "colab": {
          "base_uri": "https://localhost:8080/"
        },
        "id": "pVp_08HXs5ZJ",
        "outputId": "6332b68a-6e33-4b22-86b0-9a07ca0a4843"
      },
      "execution_count": null,
      "outputs": [
        {
          "output_type": "stream",
          "name": "stdout",
          "text": [
            "Verificación de acceso\n",
            "Introduzca su edad: 14\n",
            "No puedes pasar\n",
            "El programa a finalizado\n"
          ]
        }
      ]
    },
    {
      "cell_type": "code",
      "source": [
        "print('Verificación de acceso')\n",
        "edad_usuario = int(input('Introduzca su edad: '))\n",
        "\n",
        "if edad_usuario < 18:\n",
        "  print('No puedes pasar')\n",
        "elif edad_usuario > 100:\n",
        "  print('Edad incorrecta')\n",
        "else:\n",
        "  print('Puedes pasar')"
      ],
      "metadata": {
        "colab": {
          "base_uri": "https://localhost:8080/"
        },
        "id": "4Mg5f-CYyK2z",
        "outputId": "7dc2c5d4-f3eb-4e15-b2df-4710c88071e4"
      },
      "execution_count": null,
      "outputs": [
        {
          "output_type": "stream",
          "name": "stdout",
          "text": [
            "Verificación de acceso\n",
            "Introduzca su edad: 655\n",
            "Edad incorrecta\n"
          ]
        }
      ]
    },
    {
      "cell_type": "code",
      "source": [
        "print('Verificación de acceso')\n",
        "nota_alumno = int(input('Introduzca su nota: '))\n",
        "\n",
        "if nota_alumno < 5:\n",
        "  print('Insuficiente')\n",
        "elif nota_alumno < 6:\n",
        "  print('Suficiente')\n",
        "elif nota_alumno < 7:\n",
        "  print('Bien')\n",
        "elif nota_alumno < 9:\n",
        "  print('Notable')\n",
        "else:\n",
        "  print('Sobresaliente')"
      ],
      "metadata": {
        "colab": {
          "base_uri": "https://localhost:8080/"
        },
        "id": "vwcAVAnDzeIi",
        "outputId": "6a7e8acd-9150-437f-f01e-837e7b23b072"
      },
      "execution_count": null,
      "outputs": [
        {
          "output_type": "stream",
          "name": "stdout",
          "text": [
            "Verificación de acceso\n",
            "Introduzca su nota: 7\n",
            "Notable\n"
          ]
        }
      ]
    },
    {
      "cell_type": "code",
      "source": [
        "#curso python 12 condicional 3\n",
        "#Switch - no existe\n",
        "#concatenación de operadores de comparación \n",
        "#stackoverflow foro de programación \n",
        "\n",
        "#concatenación de operadores de comparación \n",
        "\n",
        "edad = int(input('Introduzca su edad: '))\n",
        "\n",
        "if 0 <edad < 100:\n",
        "  print('Edad es correcta')\n",
        "else: \n",
        "  print('Edad incorrecta')"
      ],
      "metadata": {
        "colab": {
          "base_uri": "https://localhost:8080/"
        },
        "id": "ZJXFYYkD3GB1",
        "outputId": "8e1907b3-063a-475b-90f9-098d50501d24"
      },
      "execution_count": null,
      "outputs": [
        {
          "output_type": "stream",
          "name": "stdout",
          "text": [
            "Introduzca su edad: -1\n",
            "Edad incorrecta\n"
          ]
        }
      ]
    },
    {
      "cell_type": "markdown",
      "source": [
        "[ ] { } ¿?"
      ],
      "metadata": {
        "id": "vrBLFB61agbM"
      }
    },
    {
      "cell_type": "code",
      "source": [
        "print('Evaluar el salario')\n",
        "\n",
        "salario_pre = int(input('Introduce tu salario pre: '))\n",
        "print('Salario presidente: ' + str(salario_pre))\n",
        "\n",
        "salario_dic = int(input('Introduce tu salario dic: '))\n",
        "print('Salario director: ' + str(salario_dic))\n",
        "\n",
        "salario_jefe = int(input('Introduce tu salario jefe: '))\n",
        "print('Salario jefe: ' + str(salario_jefe))\n",
        "\n",
        "salario_adm = int(input('Introduce tu salario adm: '))\n",
        "print('Salario adm: ' + str(salario_adm))\n",
        "\n",
        "if salario_adm < salario_jefe < salario_dic < salario_pre:\n",
        "  print('Todo funciona correctamente')\n",
        "else:\n",
        "  print('Algo falla en esta empresa')"
      ],
      "metadata": {
        "colab": {
          "base_uri": "https://localhost:8080/"
        },
        "id": "cqCInI2M6CXp",
        "outputId": "dba83e88-495b-4d0b-a1f2-0c337e02fbb7"
      },
      "execution_count": null,
      "outputs": [
        {
          "output_type": "stream",
          "name": "stdout",
          "text": [
            "Evaluar el salario\n",
            "Introduce tu salario pre: 3500\n",
            "Salario presidente: 3500\n",
            "Introduce tu salario dic: 2500\n",
            "Salario director: 2500\n",
            "Introduce tu salario jefe: 2000\n",
            "Salario jefe: 2000\n",
            "Introduce tu salario adm: 1500\n",
            "Salario adm: 1500\n",
            "Todo funciona correctamente\n"
          ]
        }
      ]
    },
    {
      "cell_type": "code",
      "source": [
        "#operadores lógicos 'and' y 'or'\n",
        "#operador 'In'\n",
        "#Clase 13 \n",
        "\n",
        "#and = y si ademas \n",
        "#or = o si no \n",
        "\n",
        "#distancia > 40km \n",
        "#numero de hermanos > 2\n",
        "#salario familiar <= 20.000\n"
      ],
      "metadata": {
        "id": "dmU9L7vG-Nzc"
      },
      "execution_count": null,
      "outputs": []
    },
    {
      "cell_type": "code",
      "source": [
        "print('Programa de becas año 2022')\n",
        "\n",
        "distancia_esc = int(input('Introduce la distancia a la escuela en Km: '))\n",
        "print(distancia_esc)\n",
        "numero_hermanos = int(input('Introduce numero de hermanos: '))\n",
        "print(numero_hermanos)\n",
        "salario_familiar = int(input('Introduce salario anual bruto: '))\n",
        "print(salario_familiar)\n",
        "\n",
        "if distancia_esc > 40 and numero_hermanos > 2 and salario_familiar <= 20000:\n",
        "  print('Tienes derecho a Beca')\n",
        "else:\n",
        "  print('No tienes derecho a Beca')"
      ],
      "metadata": {
        "colab": {
          "base_uri": "https://localhost:8080/"
        },
        "id": "_W7JCO3BPDza",
        "outputId": "2c750fe1-9789-4418-bb81-97665399d93f"
      },
      "execution_count": 5,
      "outputs": [
        {
          "output_type": "stream",
          "name": "stdout",
          "text": [
            "Programa de becas año 2022\n",
            "Introduce la distancia a la escuela en Km: 40\n",
            "40\n",
            "Introduce numero de hermanos: 1\n",
            "1\n",
            "Introduce salario anual bruto: 20000\n",
            "20000\n",
            "No tienes derecho a Beca\n"
          ]
        }
      ]
    },
    {
      "cell_type": "code",
      "source": [
        "print('Programa de becas año 2022 - 2')\n",
        "\n",
        "distancia_esc = int(input('Introduce la distancia a la escuela en Km: '))\n",
        "print(distancia_esc)\n",
        "numero_hermanos = int(input('Introduce numero de hermanos: '))\n",
        "print(numero_hermanos)\n",
        "salario_familiar = int(input('Introduce salario anual bruto: '))\n",
        "print(salario_familiar)\n",
        "\n",
        "if distancia_esc > 40 and numero_hermanos > 2 or salario_familiar <= 20000:\n",
        "  print('Tienes derecho a Beca')\n",
        "else:\n",
        "  print('No tienes derecho a Beca')"
      ],
      "metadata": {
        "colab": {
          "base_uri": "https://localhost:8080/"
        },
        "id": "69i0kZAkTCCK",
        "outputId": "80c274e6-c829-400e-b7fd-d968a2714554"
      },
      "execution_count": 6,
      "outputs": [
        {
          "output_type": "stream",
          "name": "stdout",
          "text": [
            "Programa de becas año 2022 - 2\n",
            "Introduce la distancia a la escuela en Km: 2\n",
            "2\n",
            "Introduce numero de hermanos: 0\n",
            "0\n",
            "Introduce salario anual bruto: 7000\n",
            "7000\n",
            "Tienes derecho a Beca\n"
          ]
        }
      ]
    },
    {
      "cell_type": "code",
      "source": [
        "print('Asignaturas optativas año 2022')\n",
        "print('Informatica gráfica - Pruebas de software - Utibilidad y accesibilidad')\n",
        "opcion = input('Escribe la asignatura escogida: ') \n",
        "\n",
        "asignatura = opcion.lower()\n",
        "\n",
        "if asignatura in ('informática gráfica', 'pruebas de software', 'utibilidad y accesibilidad'):\n",
        "  print('Asignatura elegida: ' + asignatura)\n",
        "else: \n",
        "  print('La asignatura escogida no esta contemplada')"
      ],
      "metadata": {
        "colab": {
          "base_uri": "https://localhost:8080/"
        },
        "id": "BVhDJFThT0Ag",
        "outputId": "4494598a-d41d-4fd4-88ad-3b8d977db9f8"
      },
      "execution_count": 13,
      "outputs": [
        {
          "output_type": "stream",
          "name": "stdout",
          "text": [
            "Asignaturas optativas año 2022\n",
            "Informatica gráfica - Pruebas de software - Utibilidad y accesibilidad\n",
            "Escribe la asignatura escogida: Pruebas de software\n",
            "Asignatura elegida: pruebas de software\n"
          ]
        }
      ]
    },
    {
      "cell_type": "code",
      "source": [
        "#[ ] { } ¿? case sensitive \n",
        "#lower(transforma las letras en minusculas) upper(transforma las pruebas en mayusculas)"
      ],
      "metadata": {
        "id": "TwQZpLNTSxbV"
      },
      "execution_count": null,
      "outputs": []
    },
    {
      "cell_type": "markdown",
      "source": [
        "Curso python \n",
        "\n",
        "Bucles 1\n",
        "\n",
        "For \n",
        "\n",
        "Determinados \n",
        "\n",
        "- Se ejecutan un número determinado de veces \n",
        "- Se sabe a priori cuantas veces se va a ejecutar el código del interior del bucle \n",
        "\n",
        "Indeterminados \n",
        "\n",
        "- Se ejecutan un número indeterminado de veces \n",
        "- No se sabe a priori cuantas veces se va a ejecutar el código del interior del bucle. \n",
        "- El número de veces que se ejecutará dependerá de las circunstancias durante la ejecución del programa. \n",
        "\n",
        "\n",
        "Bucle for (determinado).Sintaxis \n",
        "\n",
        "**for** variable ***in*** elemento a recorrer: \n",
        "\n",
        "      cuerpo del bucle "
      ],
      "metadata": {
        "id": "XNuNSrx6XHGm"
      }
    },
    {
      "cell_type": "code",
      "source": [
        "for i in [1, 2, 3]:\n",
        "  print('Hola')\n",
        "for i in ['Hola','Chau','Mi', 'Reina']:\n",
        "  print('Jeju')\n",
        "#Funcionamiento interno i = 1, imprime hola, despues i = 2, imprime hola, y asi sucesivamente\n",
        "for i in [1, 2, 3]:\n",
        "  print(i)\n",
        "for estaciones in ['Primavera', 'Verano', 'Invierno', 'Otoño']:\n",
        "  print(estaciones)"
      ],
      "metadata": {
        "colab": {
          "base_uri": "https://localhost:8080/"
        },
        "id": "xM2d4VG3bQWs",
        "outputId": "ad5291b7-2489-4654-e289-a4791c968fa7"
      },
      "execution_count": 17,
      "outputs": [
        {
          "output_type": "stream",
          "name": "stdout",
          "text": [
            "Hola\n",
            "Hola\n",
            "Hola\n",
            "Jeju\n",
            "Jeju\n",
            "Jeju\n",
            "Jeju\n",
            "1\n",
            "2\n",
            "3\n",
            "Primavera\n",
            "Verano\n",
            "Invierno\n",
            "Otoño\n"
          ]
        }
      ]
    },
    {
      "cell_type": "code",
      "source": [
        "#Curso python 15 bucle for \n",
        "#Recorriendo strings\n",
        "#Tipo range \n",
        "#Notaciones especiales con print \n",
        "\n",
        "for i in ['Pildoras', 'Informaticas', 'Hola']:\n",
        "  print(i, end=\" \")\n",
        "#Función end para que imprima todo en una linea \n",
        "for i in 'martinez@gmail.com':\n",
        "  print('Jeju Island')"
      ],
      "metadata": {
        "colab": {
          "base_uri": "https://localhost:8080/"
        },
        "id": "VikfxRNKderr",
        "outputId": "74d3bdf0-a0f8-4919-a306-1f5eca414a3f"
      },
      "execution_count": 20,
      "outputs": [
        {
          "output_type": "stream",
          "name": "stdout",
          "text": [
            "Pildoras Informaticas Hola Jeju Island\n",
            "Jeju Island\n",
            "Jeju Island\n",
            "Jeju Island\n",
            "Jeju Island\n",
            "Jeju Island\n",
            "Jeju Island\n",
            "Jeju Island\n",
            "Jeju Island\n",
            "Jeju Island\n",
            "Jeju Island\n",
            "Jeju Island\n",
            "Jeju Island\n",
            "Jeju Island\n",
            "Jeju Island\n",
            "Jeju Island\n",
            "Jeju Island\n",
            "Jeju Island\n"
          ]
        }
      ]
    },
    {
      "cell_type": "code",
      "source": [
        "email = False \n",
        "\n",
        "for i in 'martinezmicaela@gmail.com':\n",
        "  #va recorriendo str por str, es decir, en algun momento i = @\n",
        "  if(i == '@'):\n",
        "    email = True\n",
        "if email == True:\n",
        "  print('Email correcto')\n",
        "else:\n",
        "  print('Email incorrecto')"
      ],
      "metadata": {
        "colab": {
          "base_uri": "https://localhost:8080/"
        },
        "id": "shLxKFQchFw6",
        "outputId": "81e5f597-a6ab-40b5-9ecc-e0455eac0500"
      },
      "execution_count": 21,
      "outputs": [
        {
          "output_type": "stream",
          "name": "stdout",
          "text": [
            "Email correcto\n"
          ]
        }
      ]
    },
    {
      "cell_type": "code",
      "source": [
        "email = False \n",
        "\n",
        "for i in 'martinezmicaela@gmail.com':\n",
        "  if(i == '@'):\n",
        "    email = True\n",
        "if email:\n",
        "  #Aunque no ponga el igual a True, python lo toma como si email es igual a true entonces \n",
        "  print('Email correcto')\n",
        "else:\n",
        "  print('Email incorrecto')"
      ],
      "metadata": {
        "colab": {
          "base_uri": "https://localhost:8080/"
        },
        "id": "Vt2Vq74Zic1T",
        "outputId": "40a8de2d-359e-4bab-c69b-389cb27ac2e6"
      },
      "execution_count": 22,
      "outputs": [
        {
          "output_type": "stream",
          "name": "stdout",
          "text": [
            "Email correcto\n"
          ]
        }
      ]
    },
    {
      "cell_type": "code",
      "source": [
        "email = False \n",
        "miEmail = input('Introduce tu email: ')\n",
        "for i in miEmail:\n",
        "  if(i == '@'):\n",
        "    email = True\n",
        "if email:\n",
        "  print('Email correcto')\n",
        "else:\n",
        "  print('Email incorrecto')"
      ],
      "metadata": {
        "colab": {
          "base_uri": "https://localhost:8080/"
        },
        "id": "R4bzVo8ki-2B",
        "outputId": "fab82c91-ecfb-453d-eb32-1238442825b6"
      },
      "execution_count": 25,
      "outputs": [
        {
          "output_type": "stream",
          "name": "stdout",
          "text": [
            "Introduce tu email: martinez@gmail.com\n",
            "Email correcto\n"
          ]
        }
      ]
    },
    {
      "cell_type": "code",
      "source": [
        "contador = 0 \n",
        "email = False \n",
        "miEmail = input('Introduce tu email: ')\n",
        "for i in miEmail:\n",
        "  if(i == '@' or i == '.'):\n",
        "    contador = contador + 1\n",
        "if contador ==2:\n",
        "  print('Email correcto')\n",
        "else:\n",
        "  print('Email incorrecto')"
      ],
      "metadata": {
        "colab": {
          "base_uri": "https://localhost:8080/"
        },
        "id": "MaVZGij7jdS3",
        "outputId": "ac290862-106d-4b34-ff27-c1f4f12e262c"
      },
      "execution_count": 26,
      "outputs": [
        {
          "output_type": "stream",
          "name": "stdout",
          "text": [
            "Introduce tu email: miwdindw@kef.com\n",
            "Email correcto\n"
          ]
        }
      ]
    },
    {
      "cell_type": "markdown",
      "source": [
        "[ ] { }"
      ],
      "metadata": {
        "id": "YI63l8MPbTbQ"
      }
    },
    {
      "cell_type": "code",
      "source": [
        "for i in range(5):\n",
        "  #range es un tipo, crear una lista va del 0 al 4 \n",
        "  print('Bola')"
      ],
      "metadata": {
        "colab": {
          "base_uri": "https://localhost:8080/"
        },
        "id": "qbzblG01lDrB",
        "outputId": "d04dbdc0-3ad5-4786-c82c-5da2b9cd2b8b"
      },
      "execution_count": 27,
      "outputs": [
        {
          "output_type": "stream",
          "name": "stdout",
          "text": [
            "Bola\n",
            "Bola\n",
            "Bola\n",
            "Bola\n",
            "Bola\n"
          ]
        }
      ]
    },
    {
      "cell_type": "code",
      "source": [
        "#curso python video 16 no mire"
      ],
      "metadata": {
        "id": "FaaG-ExPlqXy"
      },
      "execution_count": null,
      "outputs": []
    }
  ]
}