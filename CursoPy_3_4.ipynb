{
  "nbformat": 4,
  "nbformat_minor": 0,
  "metadata": {
    "colab": {
      "provenance": [],
      "authorship_tag": "ABX9TyN00rK5Yjdymq6BOA7fUh1x",
      "include_colab_link": true
    },
    "kernelspec": {
      "name": "python3",
      "display_name": "Python 3"
    },
    "language_info": {
      "name": "python"
    }
  },
  "cells": [
    {
      "cell_type": "markdown",
      "metadata": {
        "id": "view-in-github",
        "colab_type": "text"
      },
      "source": [
        "<a href=\"https://colab.research.google.com/github/MikaelaGit/CursoPython/blob/main/CursoPy_3_4.ipynb\" target=\"_parent\"><img src=\"https://colab.research.google.com/assets/colab-badge.svg\" alt=\"Open In Colab\"/></a>"
      ]
    },
    {
      "cell_type": "markdown",
      "source": [
        "Fecha 04/09\n",
        "Sintaxis básica I\n",
        "Sintaxis básica II\n",
        "Tipos, operadores y variables"
      ],
      "metadata": {
        "id": "012-i7pfmSjH"
      }
    },
    {
      "cell_type": "markdown",
      "source": [
        "Operadores python\n",
        "Aritméticos\n",
        "Comparación\n",
        "Lógicos\n",
        "Asignación\n",
        "Especiales\n",
        "\n",
        "python todo es un objeto"
      ],
      "metadata": {
        "id": "rnpNd381oDgl"
      }
    },
    {
      "cell_type": "code",
      "execution_count": 14,
      "metadata": {
        "colab": {
          "base_uri": "https://localhost:8080/"
        },
        "id": "H87G09v0jWml",
        "outputId": "8d4de7a3-daa2-4b26-af70-1fb6ad3637ad"
      },
      "outputs": [
        {
          "output_type": "execute_result",
          "data": {
            "text/plain": [
              "float"
            ]
          },
          "metadata": {},
          "execution_count": 14
        }
      ],
      "source": [
        "nombre = 5\n",
        "type(nombre)\n",
        "nombre2 = \"Bada Lee\"\n",
        "type(nombre2)\n",
        "nombre3 = 5.2\n",
        "type(nombre3)\n",
        "#puta_madre = \"hola\"\n",
        "#print(puta_madre)"
      ]
    },
    {
      "cell_type": "code",
      "source": [
        "numero1 = 7\n",
        "numero2 = 4\n",
        "if numero1 > numero2:\n",
        "  print(\"el numero 1 es mayor\")\n",
        "else:\n",
        "  print(\"el numero 2 es mayor\")"
      ],
      "metadata": {
        "colab": {
          "base_uri": "https://localhost:8080/",
          "height": 210
        },
        "id": "DJ63BVzotc9f",
        "outputId": "d4b15ae1-2eae-4356-8b91-e09b43741a6d"
      },
      "execution_count": 17,
      "outputs": [
        {
          "output_type": "error",
          "ename": "TypeError",
          "evalue": "ignored",
          "traceback": [
            "\u001b[0;31m---------------------------------------------------------------------------\u001b[0m",
            "\u001b[0;31mTypeError\u001b[0m                                 Traceback (most recent call last)",
            "\u001b[0;32m<ipython-input-17-5e6909771faa>\u001b[0m in \u001b[0;36m<cell line: 3>\u001b[0;34m()\u001b[0m\n\u001b[1;32m      2\u001b[0m \u001b[0mnumero2\u001b[0m \u001b[0;34m=\u001b[0m \u001b[0;36m4\u001b[0m\u001b[0;34m\u001b[0m\u001b[0;34m\u001b[0m\u001b[0m\n\u001b[1;32m      3\u001b[0m \u001b[0;32mif\u001b[0m \u001b[0mnumero1\u001b[0m \u001b[0;34m>\u001b[0m \u001b[0mnumero2\u001b[0m\u001b[0;34m:\u001b[0m\u001b[0;34m\u001b[0m\u001b[0;34m\u001b[0m\u001b[0m\n\u001b[0;32m----> 4\u001b[0;31m   \u001b[0mprint\u001b[0m\u001b[0;34m(\u001b[0m\u001b[0;34m\"el numero 1 es mayor\"\u001b[0m\u001b[0;34m)\u001b[0m\u001b[0;34m\u001b[0m\u001b[0;34m\u001b[0m\u001b[0m\n\u001b[0m",
            "\u001b[0;31mTypeError\u001b[0m: 'str' object is not callable"
          ]
        }
      ]
    }
  ]
}