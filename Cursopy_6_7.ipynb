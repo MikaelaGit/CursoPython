{
  "nbformat": 4,
  "nbformat_minor": 0,
  "metadata": {
    "colab": {
      "provenance": [],
      "authorship_tag": "ABX9TyMjD5apFOqD/qZrCnXqtM9x",
      "include_colab_link": true
    },
    "kernelspec": {
      "name": "python3",
      "display_name": "Python 3"
    },
    "language_info": {
      "name": "python"
    }
  },
  "cells": [
    {
      "cell_type": "markdown",
      "metadata": {
        "id": "view-in-github",
        "colab_type": "text"
      },
      "source": [
        "<a href=\"https://colab.research.google.com/github/MikaelaGit/CursoPython/blob/main/Cursopy_6_7.ipynb\" target=\"_parent\"><img src=\"https://colab.research.google.com/assets/colab-badge.svg\" alt=\"Open In Colab\"/></a>"
      ]
    },
    {
      "cell_type": "code",
      "execution_count": null,
      "metadata": {
        "id": "2uMgcHQSd6tO"
      },
      "outputs": [],
      "source": [
        "Curso python 6\n",
        "Sintaxis básica IV Funciones II\n",
        "Funciones: paso de parametros"
      ]
    },
    {
      "cell_type": "code",
      "source": [
        "#def suma(): sin parametros\n",
        "  #num1 = 10\n",
        "  #num2 = 29\n",
        "  #print(num1 + num2)\n",
        "\n",
        "def suma(num1, num2): #con parametros\n",
        "  print(num1 + num2)\n",
        "\n",
        "suma(29, 10)\n",
        "\n",
        "suma(45, 5)\n",
        "\n",
        "suma(20, 10)"
      ],
      "metadata": {
        "colab": {
          "base_uri": "https://localhost:8080/"
        },
        "id": "s70G--oteGYB",
        "outputId": "d9353dec-96d8-4493-9b40-b6739aafc400"
      },
      "execution_count": 5,
      "outputs": [
        {
          "output_type": "stream",
          "name": "stdout",
          "text": [
            "39\n",
            "50\n",
            "30\n"
          ]
        }
      ]
    },
    {
      "cell_type": "code",
      "source": [
        "def suma(num1, num2):\n",
        "  resultado = num1 + num2\n",
        "  return resultado\n",
        "\n",
        "print(suma(5,7))\n",
        "\n",
        "print(suma(45, 6))\n",
        "\n",
        "print(suma(23, 4943))\n"
      ],
      "metadata": {
        "colab": {
          "base_uri": "https://localhost:8080/"
        },
        "id": "sTLcieTPheIQ",
        "outputId": "f19fac6c-80d5-4186-9a06-5fd32df73807"
      },
      "execution_count": 6,
      "outputs": [
        {
          "output_type": "stream",
          "name": "stdout",
          "text": [
            "12\n",
            "51\n",
            "4966\n"
          ]
        }
      ]
    },
    {
      "cell_type": "code",
      "source": [
        "def suma(num1, num2):\n",
        "  resultado = num1 + num2\n",
        "  return resultado\n",
        "\n",
        "almacena_resultado = suma(5, 9)\n",
        "\n",
        "print(almacena_resultado)"
      ],
      "metadata": {
        "colab": {
          "base_uri": "https://localhost:8080/"
        },
        "outputId": "036c5fe9-7ca9-47c4-ce64-156f5ace32ab",
        "id": "enY4mPPLjsAN"
      },
      "execution_count": 7,
      "outputs": [
        {
          "output_type": "stream",
          "name": "stdout",
          "text": [
            "14\n"
          ]
        }
      ]
    },
    {
      "cell_type": "code",
      "source": [
        "Curso python 7\n",
        "Sintaxis básica listas\n",
        "\n",
        "Sintaxis de las listas\n",
        "\n",
        "nombreLista =  [elem1, elem2, elem3... ]"
      ],
      "metadata": {
        "id": "k-6VVOqBkL9l"
      },
      "execution_count": null,
      "outputs": []
    },
    {
      "cell_type": "code",
      "source": [
        "miLista = [\"bada lee\", \"noze\", \"unholy\", \"swf\", \"you got it\" ]\n",
        "\n",
        "print(miLista[:]) #lista completa\n",
        "print(miLista [0]) #un elemento\n",
        "print(miLista [1])\n",
        "print(miLista [2])\n",
        "print(miLista [3])\n",
        "print(miLista [-4])\n",
        "print(miLista [4])\n",
        "print(miLista [-1])\n",
        "print(miLista [0:3]) #una porción de la lista, el 3 se excluye\n",
        "print(miLista [:3])\n",
        "print(miLista [2:]) #accede desde el 2 hasta el final"
      ],
      "metadata": {
        "colab": {
          "base_uri": "https://localhost:8080/"
        },
        "id": "1qkRz-cSl5S3",
        "outputId": "b87b59d7-1d99-4d25-b656-920574a22c7e"
      },
      "execution_count": 15,
      "outputs": [
        {
          "output_type": "stream",
          "name": "stdout",
          "text": [
            "['bada lee', 'noze', 'unholy', 'swf', 'you got it']\n",
            "bada lee\n",
            "noze\n",
            "unholy\n",
            "swf\n",
            "noze\n",
            "you got it\n",
            "you got it\n",
            "['bada lee', 'noze', 'unholy']\n",
            "['bada lee', 'noze', 'unholy']\n",
            "['unholy', 'swf', 'you got it']\n"
          ]
        }
      ]
    },
    {
      "cell_type": "code",
      "source": [
        "miLista = [\"bada lee\", \"noze\", \"unholy\", \"swf\", \"you got it\" ]\n",
        "\n",
        "miLista.append(\"Only\") #agrega el elemento al final\n",
        "miLista.insert(2, \"MyBoo\") #agrega un elemento donde se dice\n",
        "miLista.extend([28, \"virgo\", True, 1.5]) #agrega varios elementos\n",
        "print(miLista.index(\"unholy\")) #nos dice el índice del elemento, si hay elementos repetidos, nos devuelve el indice del primero\n",
        "print(\"noze\" in miLista) #comprueba si ese elemento se encuentra en la lista\n",
        "miLista.remove(\"swf\") #elimina un elemento\n",
        "miLista.pop() #elimina el ultimo elemento de la lista en este caso 1.5\n",
        "print(miLista[:])\n"
      ],
      "metadata": {
        "colab": {
          "base_uri": "https://localhost:8080/"
        },
        "id": "zhXOPUESnkNj",
        "outputId": "1bd2bf69-d2ea-4a63-f7c9-47478e50b8fa"
      },
      "execution_count": 25,
      "outputs": [
        {
          "output_type": "stream",
          "name": "stdout",
          "text": [
            "3\n",
            "True\n",
            "['bada lee', 'noze', 'MyBoo', 'unholy', 'you got it', 'Only', 28, 'virgo', True]\n"
          ]
        }
      ]
    },
    {
      "cell_type": "code",
      "source": [
        "miLista = [\"bada lee\", \"noze\", \"unholy\", \"swf\", \"you got it\" ]\n",
        "\n",
        "miLista2 = [ \"sana\", \"momo\", \"mina\"]\n",
        "\n",
        "miLista3 = miLista + miLista2 #une las dos listas\n",
        "\n",
        "print(miLista3[:])"
      ],
      "metadata": {
        "colab": {
          "base_uri": "https://localhost:8080/"
        },
        "id": "TIgyEYKxq3C9",
        "outputId": "c03a7e19-3055-4227-8414-66c431df925b"
      },
      "execution_count": 26,
      "outputs": [
        {
          "output_type": "stream",
          "name": "stdout",
          "text": [
            "['bada lee', 'noze', 'unholy', 'swf', 'you got it', 'sana', 'momo', 'mina']\n"
          ]
        }
      ]
    },
    {
      "cell_type": "code",
      "source": [
        "[]"
      ],
      "metadata": {
        "id": "BRUYcqNNnuNo"
      },
      "execution_count": null,
      "outputs": []
    },
    {
      "cell_type": "code",
      "source": [
        "miLista2 = [ \"sana\", \"momo\", \"mina\"] * 3  #repite la lista por 3\n",
        "\n",
        "print(miLista2[:])"
      ],
      "metadata": {
        "colab": {
          "base_uri": "https://localhost:8080/"
        },
        "id": "6t5lQ67prV1-",
        "outputId": "0b33ce5d-86eb-46c6-c5f3-24193c0dfe8b"
      },
      "execution_count": 28,
      "outputs": [
        {
          "output_type": "stream",
          "name": "stdout",
          "text": [
            "['sana', 'momo', 'mina', 'sana', 'momo', 'mina', 'sana', 'momo', 'mina']\n"
          ]
        }
      ]
    }
  ]
}