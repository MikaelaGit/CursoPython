{
  "nbformat": 4,
  "nbformat_minor": 0,
  "metadata": {
    "colab": {
      "provenance": [],
      "authorship_tag": "ABX9TyOcrNA6Bz+CgIh6m30yHv00",
      "include_colab_link": true
    },
    "kernelspec": {
      "name": "python3",
      "display_name": "Python 3"
    },
    "language_info": {
      "name": "python"
    }
  },
  "cells": [
    {
      "cell_type": "markdown",
      "metadata": {
        "id": "view-in-github",
        "colab_type": "text"
      },
      "source": [
        "<a href=\"https://colab.research.google.com/github/MikaelaGit/CursoPython/blob/main/CP%2032%20%20polimorfismo%20-%2033%20metodos.ipynb\" target=\"_parent\"><img src=\"https://colab.research.google.com/assets/colab-badge.svg\" alt=\"Open In Colab\"/></a>"
      ]
    },
    {
      "cell_type": "code",
      "execution_count": null,
      "metadata": {
        "id": "ajjEKHxfUwPW"
      },
      "outputs": [],
      "source": [
        "#Curso pthon 32 POO IX Polimorfismo "
      ]
    },
    {
      "cell_type": "markdown",
      "source": [
        "Polimorfismo = muchas formas \n",
        "\n",
        "el objeto puede cambiar de forma dependiendo del contexto "
      ],
      "metadata": {
        "id": "ccZq8N_UZNtl"
      }
    },
    {
      "cell_type": "code",
      "source": [
        "class coche():\n",
        "\n",
        "  def desplazamiento(self):\n",
        "      print('Me desplazo utilizando cuatro ruedas')\n",
        "  \n",
        "class moto():\n",
        "\n",
        "  def desplazamiento(self):\n",
        "      print('Me desplazo utilizando dos ruedas')\n",
        "\n",
        "class camion():\n",
        "\n",
        "  def desplazamiento(self):\n",
        "      print('Me desplazo utilizando seis ruedas')\n",
        "\n",
        "\n",
        "miVehiculo = moto()\n",
        "miVehiculo.desplazamiento()\n",
        "\n",
        "miCoche = coche()\n",
        "miCoche.desplazamiento()\n",
        "\n",
        "#miCami = camion()\n",
        "#miCami.desplazamiento()\n",
        "\n",
        "def desplazamientoVehiculo(vehiculo): \n",
        "    vehiculo.desplazamiento()\n",
        "\n",
        "miCami2 = camion()\n",
        "desplazamientoVehiculo(miCami2)"
      ],
      "metadata": {
        "colab": {
          "base_uri": "https://localhost:8080/"
        },
        "id": "8luY-0xFZof5",
        "outputId": "d4401c06-63b1-4742-8034-af9d31df1a9d"
      },
      "execution_count": 5,
      "outputs": [
        {
          "output_type": "stream",
          "name": "stdout",
          "text": [
            "Me desplazo utilizando dos ruedas\n",
            "Me desplazo utilizando cuatro ruedas\n",
            "Me desplazo utilizando seis ruedas\n"
          ]
        }
      ]
    },
    {
      "cell_type": "code",
      "source": [
        "#Curso python 33 Métodos de cadenas "
      ],
      "metadata": {
        "id": "fX484E3dcQsb"
      },
      "execution_count": null,
      "outputs": []
    },
    {
      "cell_type": "markdown",
      "source": [
        "Uso de método de cadenas \n",
        "\n",
        "string \n",
        "\n",
        "metodos \n",
        "\n",
        "\n",
        "upper() lower() capitalize() count()\n",
        "\n",
        "find() isdigit() isalum()  isalpha()\n",
        "\n",
        "slip() strip() replace() rfind()"
      ],
      "metadata": {
        "id": "0J5gdCaxcZg6"
      }
    },
    {
      "cell_type": "code",
      "source": [
        "nombreUsuario = input('Introduce tu nombre de usuario: ')\n",
        "\n",
        "print('El nombre es: ', nombreUsuario.upper())\n",
        "print('El nombre es: ', nombreUsuario.lower())\n",
        "print('El nombre es: ', nombreUsuario.capitalize())"
      ],
      "metadata": {
        "colab": {
          "base_uri": "https://localhost:8080/"
        },
        "id": "AIqZaMmdeFCS",
        "outputId": "e22d6e8c-b770-4458-9128-37b2e1e53a17"
      },
      "execution_count": 9,
      "outputs": [
        {
          "output_type": "stream",
          "name": "stdout",
          "text": [
            "Introduce tu nombre de usuario: miks\n",
            "El nombre es:  MIKS\n",
            "El nombre es:  miks\n",
            "El nombre es:  Miks\n"
          ]
        }
      ]
    },
    {
      "cell_type": "code",
      "source": [
        "edad = input('Introduce la edad: ')\n",
        "\n",
        "while(edad.isdigit()== False):\n",
        "    \n",
        "    print('Por favor introduce un valor numérico')\n",
        "\n",
        "    edad = input('Introduce la edad: ')\n",
        "\n",
        "if (int(edad) < 18):\n",
        "    print('No puede pasar')\n",
        "else:\n",
        "    print('Si puede pasar')"
      ],
      "metadata": {
        "colab": {
          "base_uri": "https://localhost:8080/"
        },
        "id": "rmglo_STfwF8",
        "outputId": "5a883b58-1458-403c-91ab-02333f24b400"
      },
      "execution_count": 14,
      "outputs": [
        {
          "output_type": "stream",
          "name": "stdout",
          "text": [
            "Introduce la edad: nffnf\n",
            "Por favor introduce un valor numérico\n",
            "Introduce la edad: 13\n",
            "No puede pasar\n"
          ]
        }
      ]
    }
  ]
}