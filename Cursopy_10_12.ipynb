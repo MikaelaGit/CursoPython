{
  "nbformat": 4,
  "nbformat_minor": 0,
  "metadata": {
    "colab": {
      "provenance": [],
      "authorship_tag": "ABX9TyMPTrM0RF/Aqvj18cExuGpt",
      "include_colab_link": true
    },
    "kernelspec": {
      "name": "python3",
      "display_name": "Python 3"
    },
    "language_info": {
      "name": "python"
    }
  },
  "cells": [
    {
      "cell_type": "markdown",
      "metadata": {
        "id": "view-in-github",
        "colab_type": "text"
      },
      "source": [
        "<a href=\"https://colab.research.google.com/github/MikaelaGit/CursoPython/blob/main/Cursopy_10_12.ipynb\" target=\"_parent\"><img src=\"https://colab.research.google.com/assets/colab-badge.svg\" alt=\"Open In Colab\"/></a>"
      ]
    },
    {
      "cell_type": "code",
      "execution_count": 1,
      "metadata": {
        "colab": {
          "base_uri": "https://localhost:8080/",
          "height": 0
        },
        "id": "CgrrPMcynk61",
        "outputId": "b5e63fd5-c7fb-4e22-9a45-8fd570b29834"
      },
      "outputs": [
        {
          "output_type": "stream",
          "name": "stdout",
          "text": [
            "i love you bada lee\n"
          ]
        }
      ],
      "source": [
        "print(\"i love you bada lee\")"
      ]
    },
    {
      "cell_type": "code",
      "source": [
        "Curso python 10\n",
        "Condicionales I\n",
        "Estructuras de control de flujo: condicionales y flujos\n",
        "\n",
        "Estructura condicional IF\n",
        "\n",
        "operadores comparacionales\n",
        "\n",
        "> mayor que\n",
        "< menor que\n",
        "== igual que\n",
        ">= mayor o igual\n",
        "<= menor o igual\n",
        "!= diferente"
      ],
      "metadata": {
        "id": "X3qGWuEDr6la"
      },
      "execution_count": null,
      "outputs": []
    },
    {
      "cell_type": "code",
      "source": [
        "def evalucion(nota):\n",
        "  valoración = \"aprobado\"\n",
        "  if nota < 5:\n",
        "    valoración = \"suspenso\"\n",
        "  return valoración\n",
        "\n",
        "print(evalucion(6))"
      ],
      "metadata": {
        "colab": {
          "base_uri": "https://localhost:8080/",
          "height": 0
        },
        "id": "8EPPJoL5tjbs",
        "outputId": "20448b30-c468-494d-fa5a-5c590773e345"
      },
      "execution_count": 4,
      "outputs": [
        {
          "output_type": "stream",
          "name": "stdout",
          "text": [
            "aprobado\n"
          ]
        }
      ]
    },
    {
      "cell_type": "code",
      "source": [
        "print(\"Programa de evalución de notas de alumnos\")\n",
        "\n",
        "nota_alumno = input(\"Introduce la nota del alumno: \")\n",
        "\n",
        "def evalucion(nota):\n",
        "  valoración = \"aprobado\"\n",
        "  if nota < 5:\n",
        "    valoración = \"suspenso\"\n",
        "  return valoración\n",
        "\n",
        "print(evalucion(int(nota_alumno))) #la variable int. cambia el valor de texto a entero"
      ],
      "metadata": {
        "colab": {
          "base_uri": "https://localhost:8080/",
          "height": 0
        },
        "id": "CDpvrFIEu37V",
        "outputId": "e2c72280-b133-47fe-b32d-1ea72d9e4bbb"
      },
      "execution_count": 5,
      "outputs": [
        {
          "output_type": "stream",
          "name": "stdout",
          "text": [
            "Programa de evalución de notas de alumnos\n",
            "5\n",
            "aprobado\n"
          ]
        }
      ]
    },
    {
      "cell_type": "code",
      "source": [
        "Cualquier cosa que introduzcamos en input() sera considerado como texto str.\n",
        "La función input puede admitir parametros.\n",
        "\n",
        "Ambito: una variable solo es accesible dentro de un ambito. Por ejemplo, la variable \"valoracion\", fuera de la función \"evalucion(nota)\"no es alcanzable.\n",
        "no se puede manipular ni leer."
      ],
      "metadata": {
        "id": "T_kpojhxw2a6"
      },
      "execution_count": null,
      "outputs": []
    },
    {
      "cell_type": "code",
      "source": [
        "Curso python 11\n",
        "Condicionales II\n",
        "\n",
        "Intrucción If. Introcciones else o elif"
      ],
      "metadata": {
        "id": "Ldt0oq0ZyYvX"
      },
      "execution_count": null,
      "outputs": []
    },
    {
      "cell_type": "code",
      "source": [
        "print(\"Verificación de acceso\")\n",
        "\n",
        "edad_usuario = int(input(\"Introduce tu edad por favor: \"))\n",
        "\n",
        "if edad_usuario < 18:\n",
        "  print(\"No puedes pasar\")\n",
        "else:\n",
        "  print(\"Puedes pasar\")\n",
        "\n",
        "print(\"El programa ha finalizado\")"
      ],
      "metadata": {
        "colab": {
          "base_uri": "https://localhost:8080/",
          "height": 0
        },
        "id": "KbjXifVqyjbb",
        "outputId": "db5e296a-4264-4a7f-de10-2d0e936e0be6"
      },
      "execution_count": 8,
      "outputs": [
        {
          "output_type": "stream",
          "name": "stdout",
          "text": [
            "Verificación de acceso\n",
            "Introduce tu edad por favor: 10\n",
            "No puedes pasar\n",
            "El programa ha finalizado\n"
          ]
        }
      ]
    },
    {
      "cell_type": "code",
      "source": [
        "print(\"Verificación de acceso\")\n",
        "\n",
        "edad_usuario = int(input(\"Introduce tu edad por favor: \"))\n",
        "\n",
        "if edad_usuario < 18:\n",
        "  print(\"No puedes pasar\")\n",
        "elif edad_usuario < 100:\n",
        "  print(\"edad incorrecta\")\n",
        "else:\n",
        "  print(\"Puedes pasar\")\n",
        "\n",
        "print(\"El programa ha finalizado\")"
      ],
      "metadata": {
        "colab": {
          "base_uri": "https://localhost:8080/",
          "height": 0
        },
        "outputId": "170636f0-009f-44eb-c204-204045bef178",
        "id": "RqHenX8z2eB4"
      },
      "execution_count": 11,
      "outputs": [
        {
          "output_type": "stream",
          "name": "stdout",
          "text": [
            "Verificación de acceso\n",
            "Introduce tu edad por favor: 24\n",
            "edad incorrecta\n",
            "El programa ha finalizado\n"
          ]
        }
      ]
    },
    {
      "cell_type": "code",
      "source": [
        "print(\"Nota alumno\")\n",
        "\n",
        "nota_alumno = int(input(\"Introduce tu nota: \"))\n",
        "\n",
        "if nota_alumno < 5:\n",
        "  print(\"Insuficiente\")\n",
        "\n",
        "elif nota_alumno < 6:  #si solo se pone if, no funciona como bloque\n",
        "  print(\"suficiente\")   #sino como funciones separadas\n",
        "\n",
        "elif nota_alumno < 7:\n",
        "  print(\"Bien\")\n",
        "\n",
        "elif nota_alumno < 9:\n",
        "  print(\"Notable\")\n",
        "\n",
        "else:\n",
        "  print(\"Sobresaliente\")"
      ],
      "metadata": {
        "colab": {
          "base_uri": "https://localhost:8080/",
          "height": 0
        },
        "id": "A46l5Lsb27Aa",
        "outputId": "3468023e-e1c3-49cc-d65e-410a405a203d"
      },
      "execution_count": 16,
      "outputs": [
        {
          "output_type": "stream",
          "name": "stdout",
          "text": [
            "Nota alumno\n",
            "Introduce tu nota: 3\n",
            "Insuficiente\n"
          ]
        }
      ]
    },
    {
      "cell_type": "code",
      "source": [
        "Curso python 12\n",
        "Condicionales III\n",
        "\n",
        "- Switch ¿? No existe\n",
        "- Concatenación de operadores de comparación\n",
        "- Operadores lógicos \"and\" y \"or\"\n",
        "- Operador \"in\"\n"
      ],
      "metadata": {
        "id": "er1KH6KA6iIf"
      },
      "execution_count": null,
      "outputs": []
    },
    {
      "cell_type": "code",
      "source": [
        "edad = 145\n",
        "\n",
        "if 0 < edad < 100:\n",
        "  print(\"Edad es correcta\")\n",
        "else:\n",
        "  print(\"Edad incorrecta\")\n"
      ],
      "metadata": {
        "colab": {
          "base_uri": "https://localhost:8080/",
          "height": 0
        },
        "id": "c32735A-9Az0",
        "outputId": "15754dbf-da69-45f8-d12d-cdd138a8d479"
      },
      "execution_count": 20,
      "outputs": [
        {
          "output_type": "stream",
          "name": "stdout",
          "text": [
            "Edad incorrecta\n"
          ]
        }
      ]
    },
    {
      "cell_type": "code",
      "source": [
        "print(\"Programa comparación de salarios\")\n",
        "\n",
        "sal_pre = int(input(\"Salario presidente: \"))\n",
        "#print(\"Salario presidente: \", sal_pre)_ver 1\n",
        "#print(\"Salario presidente: \" + str(sal_pre))_ver 2\n",
        "\n",
        "sal_dic = int(input(\"Salario director: \"))\n",
        "#print(\"Salario director: \", sal_dic) no hace falta poner porque ya queda impreso en pantalla\n",
        "\n",
        "sal_jefea = int(input(\"Salario jefe de area: \"))\n",
        "#print(\"Salario jefe de area: \", sal_jefea)\n",
        "\n",
        "sal_adm = int(input(\"Salario administrativo: \"))\n",
        "#print(\"Salario administrativo: \", sal_adm)\n",
        "\n",
        "if sal_adm < sal_jefea < sal_dic < sal_pre:\n",
        "  print(\"Todo funciona perfectamente\")\n",
        "else:\n",
        "  print(\"Algo ha fallado\")"
      ],
      "metadata": {
        "colab": {
          "base_uri": "https://localhost:8080/",
          "height": 0
        },
        "id": "YBoebSRD-mYP",
        "outputId": "14989d44-3748-416a-e35b-0f5cdbe39685"
      },
      "execution_count": 30,
      "outputs": [
        {
          "output_type": "stream",
          "name": "stdout",
          "text": [
            "Comparación de salarios\n",
            "Salario presidente: 1500\n",
            "Salario director: 1200\n",
            "Salario jefe de area: 1100\n",
            "Salario administrativo: 1000\n",
            "Todo funciona perfectamente\n"
          ]
        }
      ]
    }
  ]
}