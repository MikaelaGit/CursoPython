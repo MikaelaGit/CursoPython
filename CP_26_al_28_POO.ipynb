{
  "nbformat": 4,
  "nbformat_minor": 0,
  "metadata": {
    "colab": {
      "provenance": [],
      "authorship_tag": "ABX9TyPW4SwHjJBs30/F0hGVvfiK",
      "include_colab_link": true
    },
    "kernelspec": {
      "name": "python3",
      "display_name": "Python 3"
    },
    "language_info": {
      "name": "python"
    }
  },
  "cells": [
    {
      "cell_type": "markdown",
      "metadata": {
        "id": "view-in-github",
        "colab_type": "text"
      },
      "source": [
        "<a href=\"https://colab.research.google.com/github/MikaelaGit/CursoPython/blob/main/CP_26_al_28_POO.ipynb\" target=\"_parent\"><img src=\"https://colab.research.google.com/assets/colab-badge.svg\" alt=\"Open In Colab\"/></a>"
      ]
    },
    {
      "cell_type": "code",
      "execution_count": null,
      "metadata": {
        "id": "0sSZXSsWkyws"
      },
      "outputs": [],
      "source": [
        "#Curso Python 26 POO III"
      ]
    },
    {
      "cell_type": "code",
      "source": [
        "#Crear clase\n",
        "\n",
        "class Coche():\n",
        "  #propiedades\n",
        "  largoChasis = 250\n",
        "  anchoChasis = 120\n",
        "  ruedas = 4\n",
        "  enmarcha = False #coche detenido por defecto \n",
        "\n",
        "  #comportamiento de la clase - crear un metodo para establecer comportamientos \n",
        "  #crear un metodo - función especial de una clase \n",
        "  def arrancar(self): #este metodo cambie la propiedad de enmarcha que esta en false\n",
        "    self.enmarcha = True\n",
        "  \n",
        "  def estado(self):\n",
        "    if(self.enmarcha): #True\n",
        "      return 'El coche está en marcha'\n",
        "    \n",
        "    else:\n",
        "      return 'El coche está parado '\n",
        "#construir un objeto - crear objeto/ejemplar/instancia\n",
        "\n",
        "miCoche = Coche() #instanciar una clase \n",
        "#acceder a las propiedades del objeto \n",
        "print('El largo del coche es: ', miCoche.largoChasis)\n",
        "print('El coche tiene ', miCoche.ruedas, 'ruedas')\n",
        "miCoche.arrancar() #llamada a este metodo \n",
        "print(miCoche.estado())"
      ],
      "metadata": {
        "colab": {
          "base_uri": "https://localhost:8080/"
        },
        "id": "65EXwhkWmc5v",
        "outputId": "a9153a8f-b307-4d52-b46e-835f4e7eb90b"
      },
      "execution_count": 3,
      "outputs": [
        {
          "output_type": "stream",
          "name": "stdout",
          "text": [
            "El largo del coche es:  250\n",
            "El coche tiene  4 ruedas\n",
            "El coche está en marcha\n"
          ]
        }
      ]
    },
    {
      "cell_type": "code",
      "source": [
        "#Cuso Python 27 POO IV\n",
        "#Crear una segunda instancia u objeto\n",
        "\n",
        "class Coche():\n",
        " \n",
        "  largoChasis = 250\n",
        "  anchoChasis = 120\n",
        "  ruedas = 4\n",
        "  enmarcha = False \n",
        "  #las cuatro propiedades son el estado inicial\n",
        "\n",
        "#hacer que el primer metodo haga la función de informar como el segundo metodo\n",
        "  \n",
        "  def arrancar(self,arrancamos): \n",
        "    self.enmarcha = arrancamos\n",
        "    \n",
        "    if(self.enmarcha):\n",
        "      return 'El coche está en marcha'\n",
        "    \n",
        "    else:\n",
        "      return 'El coche está parado'\n",
        "\n",
        "#nos va a informar de las propiedades que tiene nuestro objeto \n",
        "\n",
        "  def estado(self):\n",
        "    print('El coche tiene', self.ruedas, 'ruedas. Un ancho de ',self.anchoChasis, 'y un largo de ',\n",
        "    self.largoChasis)\n",
        "  \n",
        "miCoche = Coche() \n",
        "\n",
        "#print('El largo del coche es: ', miCoche.largoChasis)\n",
        "#print('El coche tiene ', miCoche.ruedas, 'ruedas')\n",
        "print(miCoche.arrancar(True))\n",
        "miCoche.estado()\n",
        "\n",
        "print('-------------------Creamos un segundo objeto---------------------')\n",
        "\n",
        "miAuto = Coche() #segunda instancia\n",
        "\n",
        "#print('El largo del coche es: ', miCoche.largoChasis)\n",
        "#print('El coche tiene ', miCoche.ruedas, 'ruedas')\n",
        "print(miAuto.arrancar(False))\n",
        "miAuto.estado()\n"
      ],
      "metadata": {
        "colab": {
          "base_uri": "https://localhost:8080/"
        },
        "id": "5GwxhvHVyZvE",
        "outputId": "49080e3f-2a02-4923-d038-4f796449b80d"
      },
      "execution_count": 6,
      "outputs": [
        {
          "output_type": "stream",
          "name": "stdout",
          "text": [
            "El coche está en marcha\n",
            "El coche tiene 4 ruedas. Un ancho de  120 y un largo de  250\n",
            "-------------------Creamos un segundo objeto---------------------\n",
            "El coche está parado\n",
            "El coche tiene 4 ruedas. Un ancho de  120 y un largo de  250\n"
          ]
        }
      ]
    },
    {
      "cell_type": "code",
      "source": [
        "#especificar el estado inicial que tendran los objetos pertenecientes a esa clase \n",
        "#estado inicial = constructor, es lo que le da el estado inicial a los objetos\n",
        "#Creando construtor\n",
        "\n",
        "class Coche():\n",
        "\n",
        "  def __init__(self): #el construtor tiene siempre el nombre init\n",
        "\n",
        "    self.largoChasis = 250\n",
        "    self.anchoChasis = 120\n",
        "    self.__ruedas = 4 #encapsular \n",
        "    self.enmarcha = False \n",
        "\n",
        "  def arrancar(self,arrancamos): \n",
        "      self.enmarcha = arrancamos\n",
        "    \n",
        "      if(self.enmarcha):\n",
        "        return 'El coche está en marcha'\n",
        "    \n",
        "      else:\n",
        "        return 'El coche está parado'\n",
        "\n",
        "  def estado(self):\n",
        "      print('El coche tiene', self.__ruedas, 'ruedas. Un ancho de ',self.anchoChasis, 'y un largo de ',\n",
        "      self.largoChasis)\n",
        "  \n",
        "miCoche = Coche() \n",
        "\n",
        "print(miCoche.arrancar(True))\n",
        "miCoche.estado()\n",
        "\n",
        "print('-------------------Creamos un segundo objeto---------------------')\n",
        "\n",
        "miAuto = Coche() #segunda instancia\n",
        "\n",
        "print(miAuto.arrancar(False))\n",
        "#modificando propiedad \n",
        "#miAuto.ruedas = 2 #no funciona\n",
        "miAuto.estado()\n"
      ],
      "metadata": {
        "colab": {
          "base_uri": "https://localhost:8080/"
        },
        "id": "q2eN8YPg3plK",
        "outputId": "4c2bafe5-4ace-469d-f9aa-cf09e6435a56"
      },
      "execution_count": 15,
      "outputs": [
        {
          "output_type": "stream",
          "name": "stdout",
          "text": [
            "El coche está en marcha\n",
            "El coche tiene 4 ruedas. Un ancho de  120 y un largo de  250\n",
            "-------------------Creamos un segundo objeto---------------------\n",
            "El coche está parado\n",
            "El coche tiene 4 ruedas. Un ancho de  120 y un largo de  250\n"
          ]
        }
      ]
    },
    {
      "cell_type": "code",
      "source": [
        "#Curso Python 28 POO V\n",
        "#Encapsulación de métodos \n",
        "class Coche():\n",
        "\n",
        "  def __init__(self): #el construtor tiene siempre el nombre init\n",
        "\n",
        "    self.__largoChasis = 250\n",
        "    self.__anchoChasis = 120\n",
        "    self.__ruedas = 4 #encapsular se pone si o si __\n",
        "    self.__enmarcha = False \n",
        "\n",
        "  def arrancar(self,arrancamos): \n",
        "      self.__enmarcha = arrancamos\n",
        "\n",
        "      if(self.__enmarcha):\n",
        "        chequeo = self.__chequeoIn()\n",
        "    \n",
        "      if(self.__enmarcha and chequeo):\n",
        "        return 'El coche está en marcha'\n",
        "\n",
        "      elif(self.__enmarcha and chequeo == False):\n",
        "        return 'Algo ha ido mal en el chequeo. No podemos arrancar'\n",
        "\n",
        "      else:\n",
        "        return 'El coche está parado'\n",
        "\n",
        "  def estado(self):\n",
        "      print('El coche tiene', self.__ruedas, 'ruedas. Un ancho de ',self.__anchoChasis, 'y un largo de ',\n",
        "      self.__largoChasis)\n",
        "\n",
        "  #metodo que hace chequeo interno \n",
        " #encapsular el metodo \n",
        "  def __chequeoIn(self):\n",
        "    print('Realizando chequeo interno')\n",
        "\n",
        "    self.gasolina = 'Ok'\n",
        "    self.aceite = 'OK' #'Mal' #tiene que decir ok para que arranque el coche \n",
        "    self.puertas = 'Cerradas'\n",
        "\n",
        "    if(self.gasolina == 'Ok' and self.aceite =='Ok' and self.puertas == 'Cerradas'):\n",
        "      \n",
        "      return True\n",
        "\n",
        "    else:\n",
        "\n",
        "      return False \n",
        "  \n",
        "miCoche = Coche() \n",
        "\n",
        "print(miCoche.arrancar(True))\n",
        "miCoche.estado()\n",
        "#print(miCoche.chequeoIn()) no tiene sentido \n",
        "\n",
        "print('-------------------Creamos un segundo objeto---------------------')\n",
        "\n",
        "miAuto = Coche() #segunda instancia\n",
        "\n",
        "print(miAuto.arrancar(False))\n",
        "miAuto.estado()"
      ],
      "metadata": {
        "colab": {
          "base_uri": "https://localhost:8080/"
        },
        "id": "ZU-1YXR6-VsQ",
        "outputId": "b0a2ad11-795e-42bf-81c0-e0627874eaf7"
      },
      "execution_count": 19,
      "outputs": [
        {
          "output_type": "stream",
          "name": "stdout",
          "text": [
            "Realizando chequeo interno\n",
            "Algo ha ido mal en el chequeo. No podemos arrancar\n",
            "El coche tiene 4 ruedas. Un ancho de  120 y un largo de  250\n",
            "-------------------Creamos un segundo objeto---------------------\n",
            "El coche está parado\n",
            "El coche tiene 4 ruedas. Un ancho de  120 y un largo de  250\n"
          ]
        }
      ]
    }
  ]
}