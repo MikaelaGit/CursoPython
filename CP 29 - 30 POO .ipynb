{
  "nbformat": 4,
  "nbformat_minor": 0,
  "metadata": {
    "colab": {
      "provenance": [],
      "authorship_tag": "ABX9TyMae19d2l8AmBp13JLPxlI9",
      "include_colab_link": true
    },
    "kernelspec": {
      "name": "python3",
      "display_name": "Python 3"
    },
    "language_info": {
      "name": "python"
    }
  },
  "cells": [
    {
      "cell_type": "markdown",
      "metadata": {
        "id": "view-in-github",
        "colab_type": "text"
      },
      "source": [
        "<a href=\"https://colab.research.google.com/github/MikaelaGit/CursoPython/blob/main/CP%2029%20-%2030%20POO%20.ipynb\" target=\"_parent\"><img src=\"https://colab.research.google.com/assets/colab-badge.svg\" alt=\"Open In Colab\"/></a>"
      ]
    },
    {
      "cell_type": "code",
      "execution_count": null,
      "metadata": {
        "id": "TF1KuNTagtim"
      },
      "outputs": [],
      "source": [
        "#Curso Python 29 POO VI Herencia \n",
        "#qué es la herencia\n",
        "#para que sirve\n",
        "#como hacer que las clases hereden"
      ]
    },
    {
      "cell_type": "markdown",
      "source": [
        "qué es la herencia \n",
        "\n",
        "buscar concepto \n",
        "Clase padre o superclase \n",
        "Clase padre subclase o superclase \n",
        "\n",
        "Para que sirve la herencia \n",
        "\n",
        "- para reutilizar código en caso de crear objetos similares \n",
        "- clase padre o superclase: se trata de construir una unica clase con todas las propiedades y metodos en comun de estos objetos \n"
      ],
      "metadata": {
        "id": "EXa1fQVbi7Sk"
      }
    },
    {
      "cell_type": "code",
      "source": [
        "#crear clase padre o superclase \n",
        "class vehiculos ():\n",
        "\n",
        "  def __init__(self,marca, modelo):\n",
        "\n",
        "    self.marca = marca\n",
        "    self.modelo = modelo \n",
        "    self. enmarcha = False \n",
        "    self.acelera = False\n",
        "    self.frena = False \n",
        "  \n",
        "  def arrancar(self):\n",
        "    self.enmarcha = True\n",
        "  \n",
        "  def acelerar(self):\n",
        "    self.acelera = True\n",
        "\n",
        "  def frenar(self):\n",
        "    self.frena = True \n",
        "  #\\n : sirve para hacer un salto de linea\n",
        "\n",
        "  def estado(self):\n",
        "    print('Marca: ', self.marca, '\\nModelo: ', self.modelo, '\\nEn marcha: ',\n",
        "          self.enmarcha, '\\nAcelerando: ', self.acelera, '\\nFrenando: ', self.frena)\n",
        "  \n",
        "\n",
        "#crear un objeto que herede la clase vehiculo \n",
        "\n",
        "class moto(vehiculos): #se pone entre parentesis la clase que hereda\n",
        "  pass\n",
        "\n",
        "#crear una instancia perteneciente a moto y hereda los metodos de vehiculos\n",
        "\n",
        "mimoto = moto('Honda', 'CBR') #parametros marca y modelo \n",
        "mimoto.estado()"
      ],
      "metadata": {
        "colab": {
          "base_uri": "https://localhost:8080/"
        },
        "id": "oDvt64U_ltsF",
        "outputId": "b8f91faf-cac0-409d-e1a8-84dfe776833d"
      },
      "execution_count": 1,
      "outputs": [
        {
          "output_type": "stream",
          "name": "stdout",
          "text": [
            "Marca:  Honda \n",
            "Modelo:  CBR \n",
            "En marcha:  False \n",
            "Acelerando:  False \n",
            "Frenando:  False\n"
          ]
        }
      ]
    },
    {
      "cell_type": "code",
      "source": [
        "#Cuso python 30 POO VII Herencia II\n",
        "#Sobre escritura de metodos \n",
        "#Herencia simple y múltiple "
      ],
      "metadata": {
        "id": "88oywK1nqZtj"
      },
      "execution_count": null,
      "outputs": []
    },
    {
      "cell_type": "code",
      "source": [
        "class vehiculos ():\n",
        "\n",
        "  def __init__(self,marca, modelo):\n",
        "\n",
        "    self.marca = marca\n",
        "    self.modelo = modelo \n",
        "    self. enmarcha = False \n",
        "    self.acelera = False\n",
        "    self.frena = False \n",
        "  \n",
        "  def arrancar(self):\n",
        "    self.enmarcha = True\n",
        "  \n",
        "  def acelerar(self):\n",
        "    self.acelera = True\n",
        "\n",
        "  def frenar(self):\n",
        "    self.frena = True \n",
        "\n",
        "  def estado(self):\n",
        "    print('Marca: ', self.marca, '\\nModelo: ', self.modelo, '\\nEn marcha: ',\n",
        "          self.enmarcha, '\\nAcelerando: ', self.acelera, '\\nFrenando: ', self.frena)\n",
        "   \n",
        "#construir la clase moto con sus propias particularidades\n",
        "class moto(vehiculos): \n",
        "  hcaballito = ''\n",
        "  def caballito(self):\n",
        "    self.hcaballito = 'Voy haciendo el caballito'\n",
        "\n",
        "#sobre escrbir el metodo estado para que informe si la moto esta haciendo caballito o no\n",
        "#copiar el metodo estado de la clase vehiculos \n",
        "#consiste en crear dentro de la clase moto un metodo que indique el estado \n",
        "\n",
        "  def estado(self):\n",
        "    print('Marca: ', self.marca, '\\nModelo: ', self.modelo, '\\nEn marcha: ',\n",
        "          self.enmarcha, '\\nAcelerando: ', self.acelera, '\\nFrenando: ', self.frena, '\\n', self.hcaballito)\n",
        "\n",
        "#objeto\n",
        "mimoto = moto('Honda', 'CBR') \n",
        "mimoto.caballito() #no informa si se hace el caballito o no por si solo hay que sobreescirbir\n",
        "# si lo llamamos una vez que sobre escribimos si informa\n",
        "mimoto.estado() #estamos llamando al metodo de la clase moto, ya que, al sobre escribir el metodo de la clase vehiculos\n",
        "                # lo invalida \n",
        "\n",
        "#otra clase \n",
        "class furgoneta(vehiculos):\n",
        "\n",
        "  def carga(self, cargar):\n",
        "    self.cargado = cargar \n",
        "\n",
        "    if (self.cargado):\n",
        "      return 'La furgoneta esta cargada'\n",
        "    else:\n",
        "      return 'La furgoneta no esta cargada'\n",
        "\n",
        "#otro objeto \n",
        "mifurgoneta = furgoneta('Renault','Kangoo')\n",
        "mifurgoneta.estado()\n",
        "print(mifurgoneta.carga(True))\n",
        "\n",
        "#clase independiente \n",
        "class VElectricos():\n",
        "  def __init__ (self):\n",
        "    self.autonomia = 100\n",
        "  \n",
        "  def cargarenergia(self):\n",
        "    self.cargando = True\n",
        "\n",
        "#herencia múltiple\n",
        "class BicicletaElectrica(VElectricos, vehiculos):\n",
        "  pass\n",
        "\n",
        "#que construtor hereda, al poner VElectricos primero estamos heredando su constructor \n",
        "miBici = BicicletaElectrica()\n",
        "\n",
        "\n"
      ],
      "metadata": {
        "colab": {
          "base_uri": "https://localhost:8080/"
        },
        "id": "5bpjHhEprAzn",
        "outputId": "d3a06ceb-a74c-4c2f-b71e-afdadbd5653c"
      },
      "execution_count": 9,
      "outputs": [
        {
          "output_type": "stream",
          "name": "stdout",
          "text": [
            "Marca:  Honda \n",
            "Modelo:  CBR \n",
            "En marcha:  False \n",
            "Acelerando:  False \n",
            "Frenando:  False \n",
            " Voy haciendo el caballito\n",
            "Marca:  Renault \n",
            "Modelo:  Kangoo \n",
            "En marcha:  False \n",
            "Acelerando:  False \n",
            "Frenando:  False\n",
            "La furgoneta esta cargada\n"
          ]
        }
      ]
    },
    {
      "cell_type": "markdown",
      "source": [
        "si agregamos una clase mas por ejemplo cuatriciclo, que hereda de la clase moto que a su vez hereda de la clase vehiculos, esta clase nueva hereda el metodo estado de la clase moto "
      ],
      "metadata": {
        "id": "rURVYT12vGuv"
      }
    },
    {
      "cell_type": "code",
      "source": [],
      "metadata": {
        "id": "BBMmkPZpuZ9_"
      },
      "execution_count": null,
      "outputs": []
    }
  ]
}