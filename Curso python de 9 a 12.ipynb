{
  "nbformat": 4,
  "nbformat_minor": 0,
  "metadata": {
    "colab": {
      "name": "Untitled5.ipynb",
      "provenance": [],
      "authorship_tag": "ABX9TyOA3+tv6LmD87XTgJsc7Vba",
      "include_colab_link": true
    },
    "kernelspec": {
      "name": "python3",
      "display_name": "Python 3"
    },
    "language_info": {
      "name": "python"
    }
  },
  "cells": [
    {
      "cell_type": "markdown",
      "metadata": {
        "id": "view-in-github",
        "colab_type": "text"
      },
      "source": [
        "<a href=\"https://colab.research.google.com/github/MikaelaGit/CursoPython/blob/main/Curso%20python%20de%209%20a%2012.ipynb\" target=\"_parent\"><img src=\"https://colab.research.google.com/assets/colab-badge.svg\" alt=\"Open In Colab\"/></a>"
      ]
    },
    {
      "cell_type": "markdown",
      "source": [
        "Curso python  9 sintaxis basicas los diccionarios \n",
        "\n",
        "\n",
        "Estructuras de datos que nos permite almacenar valores de diferente tipo (enteros, cadenas de texto, decimales) e incluso listas y otros diccionarios. \n",
        "\n",
        "La principal caracteristica de los diccionarios es que los datos se almacenan asociados a una clave de tal forma que se crea una asociación de tipo **clave : valor** para cada elemento almacenado. \n",
        "\n",
        "Los elementos almacenados no están ordenados. El orden es indiferente a la hora de almacenar información en un diccionario. "
      ],
      "metadata": {
        "id": "bVWHCY_lYpUQ"
      }
    },
    {
      "cell_type": "code",
      "execution_count": 3,
      "metadata": {
        "colab": {
          "base_uri": "https://localhost:8080/"
        },
        "id": "oJtHcXXrW_fd",
        "outputId": "eef43621-824e-463d-8b9d-1fec5efb1d0c"
      },
      "outputs": [
        {
          "output_type": "stream",
          "name": "stdout",
          "text": [
            "Berlín\n",
            "{'Alemania': 'Berlín', 'Francia': 'París', 'Perú': 'Lima', 'Argentina': 'Buenos Aires'}\n"
          ]
        }
      ],
      "source": [
        " #Sintaxis de un diccionario se define entre llaves\n",
        "\n",
        " midiccionario = {'Alemania': 'Berlín', 'Francia': 'París', 'Perú':'Lima', 'Argentina':'Buenos Aires'}\n",
        "#como acceder a un elemento en concreto \n",
        "print(midiccionario['Alemania'])\n",
        "print(midiccionario)"
      ]
    },
    {
      "cell_type": "code",
      "execution_count": 6,
      "metadata": {
        "colab": {
          "base_uri": "https://localhost:8080/"
        },
        "outputId": "ab8baf11-909e-4085-fbf5-663b0e18bfb5",
        "id": "vuWbpHIfcSjW"
      },
      "outputs": [
        {
          "output_type": "stream",
          "name": "stdout",
          "text": [
            "{'Alemania': 'Berlín', 'Francia': 'París', 'Perú': 'Lima', 'Argentina': 'Buenos Aires', 'Italia': 'Lisboa'}\n",
            "{'Alemania': 'Berlín', 'Francia': 'París', 'Perú': 'Lima', 'Argentina': 'Buenos Aires', 'Italia': 'Roma'}\n",
            "{'Francia': 'París', 'Perú': 'Lima', 'Argentina': 'Buenos Aires', 'Italia': 'Roma'}\n"
          ]
        }
      ],
      "source": [
        "midiccionario = {'Alemania': 'Berlín', 'Francia': 'París', 'Perú':'Lima', 'Argentina':'Buenos Aires'}\n",
        "#Como agregar elementos \n",
        "midiccionario['Italia'] = 'Lisboa'\n",
        "print(midiccionario)\n",
        "#como corregir el error\n",
        "midiccionario['Italia'] = 'Roma'\n",
        "print(midiccionario)\n",
        "#como eliminar un elemento \n",
        "del midiccionario['Alemania']\n",
        "print(midiccionario)"
      ]
    },
    {
      "cell_type": "code",
      "source": [
        "#Utilizar una tupla para asignar las claves a los valores\n",
        "mitupla = ['Twice','Loona', 'Blackpink', 'Gidle']\n",
        "midiccionario = {mitupla[0]: 'Once', mitupla[1]: 'Orbit', mitupla[2]: 'Blinks', mitupla[3]: 'Neverland'}\n",
        "print(midiccionario)\n",
        "#\n",
        "print(midiccionario['Twice'])"
      ],
      "metadata": {
        "colab": {
          "base_uri": "https://localhost:8080/"
        },
        "id": "XBGoSBwjcInZ",
        "outputId": "c12eb96b-42f7-49ef-92ee-ba6298954564"
      },
      "execution_count": 10,
      "outputs": [
        {
          "output_type": "stream",
          "name": "stdout",
          "text": [
            "{'Twice': 'Once', 'Loona': 'Orbit', 'Blackpink': 'Blinks', 'Gidle': 'Neverland'}\n",
            "Once\n"
          ]
        }
      ]
    },
    {
      "cell_type": "code",
      "source": [
        "#Un diccionario almacene dentro todo una tupla junto con otros valores \n",
        "midiccionario = {'Twice': 'Once' , 'Blackpink': 'Blinks', 'Gidle': 'Neverland', 'Miembros' : [9, 4, 5]}\n",
        "print(midiccionario)\n",
        "#como acceder a la clave de miembros, es decir que tiene varios valores\n",
        "print(midiccionario['Miembros'])\n",
        "#guardar un diccionario, dentro de otro diccionario, y tambien tiene una tupla\n",
        "midiccionario = {'Twice': 'Once' , 'Blackpink': 'Blinks', 'Gidle': 'Neverland', 'Miembros' :{'Cantidad':[9, 4, 5]}}\n",
        "print(midiccionario['Miembros'])\n",
        "#metodo keys, nos devuelve las claves del diccionario\n",
        "print(midiccionario.keys())\n",
        "#metodo values, nos devuelve los valores \n",
        "print(midiccionario.values())\n",
        "#metodo len, nos devuelve la longitud\n",
        "print(len(midiccionario))"
      ],
      "metadata": {
        "colab": {
          "base_uri": "https://localhost:8080/"
        },
        "id": "3CaPkkMXgeiY",
        "outputId": "0b490419-7f72-48a7-faf8-c4f9da39881a"
      },
      "execution_count": 16,
      "outputs": [
        {
          "output_type": "stream",
          "name": "stdout",
          "text": [
            "{'Twice': 'Once', 'Blackpink': 'Blinks', 'Gidle': 'Neverland', 'Miembros': [9, 4, 5]}\n",
            "[9, 4, 5]\n",
            "{'Cantidad': [9, 4, 5]}\n",
            "dict_keys(['Twice', 'Blackpink', 'Gidle', 'Miembros'])\n",
            "dict_values(['Once', 'Blinks', 'Neverland', {'Cantidad': [9, 4, 5]}])\n",
            "4\n"
          ]
        }
      ]
    },
    {
      "cell_type": "markdown",
      "source": [
        "Curso python 10 condicionales 1\n",
        "\n",
        "Instrucción if\n",
        "\n",
        "Flujo de ejecución de un programa \n",
        "\n",
        "intruccion\n",
        "\n",
        "if condicion evaluar si la condición se cumple o no se cumple, verdadera o falsa \n",
        "\n",
        "- instruccion \n",
        "\n",
        "Intrucción\n"
      ],
      "metadata": {
        "id": "rtzILxu0nAAZ"
      }
    },
    {
      "cell_type": "code",
      "source": [
        "def evaluacion(nota):\n",
        "  valoracion = 'Aprobado'\n",
        "  if nota < 5: \n",
        "    valoracion = 'Suspenso'\n",
        "  return valoracion \n",
        "\n",
        "print(evaluacion(4))\n",
        "print(evaluacion(9))"
      ],
      "metadata": {
        "colab": {
          "base_uri": "https://localhost:8080/"
        },
        "id": "X9qwL2IRpIx3",
        "outputId": "1d2b4fe8-593c-47ab-b2aa-d9413f8fc008"
      },
      "execution_count": 20,
      "outputs": [
        {
          "output_type": "stream",
          "name": "stdout",
          "text": [
            "Suspenso\n",
            "Aprobado\n"
          ]
        }
      ]
    },
    {
      "cell_type": "code",
      "source": [
        "print('Programa de evalución de notas de alumnos')\n",
        "\n",
        "nota_alumno = input('Introduce la nota del alumno: ') #cualquier cosa que nosotros introduzcamos por la funcion input\n",
        "                      #va a ser tomado como string, texto \n",
        "def evaluacion(nota):\n",
        "  valoracion = 'Aprobado'\n",
        "  if nota < 5: \n",
        "    valoracion = 'Suspenso'\n",
        "  return valoracion \n",
        "\n",
        "print(evaluacion(int(nota_alumno))) #para lo que introducimos se tome como numero, se pone int"
      ],
      "metadata": {
        "colab": {
          "base_uri": "https://localhost:8080/"
        },
        "id": "eo2sSqCvqjBi",
        "outputId": "5050415e-c181-47a3-96b7-15686e316861"
      },
      "execution_count": 22,
      "outputs": [
        {
          "output_type": "stream",
          "name": "stdout",
          "text": [
            "Programa de evalución de notas de alumnos\n",
            "Introduce la nota del alumno: 6\n",
            "Aprobado\n"
          ]
        }
      ]
    },
    {
      "cell_type": "code",
      "source": [
        "#ambito: una variable solo es accesible dentro de un ambito\n",
        "#condicionales 2 \n",
        "#Instrucciones else y elif \n",
        "print('Verificación de acceso')\n",
        "edad_usuario = int(input('Introduzca su edad: '))\n",
        "\n",
        "if edad_usuario < 18:\n",
        "  print('No puedes pasar')\n",
        "else:\n",
        "  print('Puedes pasar') #No puede haber un else sin el if, y no puede haber dos else\n",
        "\n",
        "print('El programa a finalizado')"
      ],
      "metadata": {
        "colab": {
          "base_uri": "https://localhost:8080/"
        },
        "id": "pVp_08HXs5ZJ",
        "outputId": "6332b68a-6e33-4b22-86b0-9a07ca0a4843"
      },
      "execution_count": 25,
      "outputs": [
        {
          "output_type": "stream",
          "name": "stdout",
          "text": [
            "Verificación de acceso\n",
            "Introduzca su edad: 14\n",
            "No puedes pasar\n",
            "El programa a finalizado\n"
          ]
        }
      ]
    },
    {
      "cell_type": "code",
      "source": [
        "print('Verificación de acceso')\n",
        "edad_usuario = int(input('Introduzca su edad: '))\n",
        "\n",
        "if edad_usuario < 18:\n",
        "  print('No puedes pasar')\n",
        "elif edad_usuario > 100:\n",
        "  print('Edad incorrecta')\n",
        "else:\n",
        "  print('Puedes pasar')"
      ],
      "metadata": {
        "colab": {
          "base_uri": "https://localhost:8080/"
        },
        "id": "4Mg5f-CYyK2z",
        "outputId": "7dc2c5d4-f3eb-4e15-b2df-4710c88071e4"
      },
      "execution_count": 26,
      "outputs": [
        {
          "output_type": "stream",
          "name": "stdout",
          "text": [
            "Verificación de acceso\n",
            "Introduzca su edad: 655\n",
            "Edad incorrecta\n"
          ]
        }
      ]
    },
    {
      "cell_type": "code",
      "source": [
        "print('Verificación de acceso')\n",
        "nota_alumno = int(input('Introduzca su nota: '))\n",
        "\n",
        "if nota_alumno < 5:\n",
        "  print('Insuficiente')\n",
        "elif nota_alumno < 6:\n",
        "  print('Suficiente')\n",
        "elif nota_alumno < 7:\n",
        "  print('Bien')\n",
        "elif nota_alumno < 9:\n",
        "  print('Notable')\n",
        "else:\n",
        "  print('Sobresaliente')"
      ],
      "metadata": {
        "colab": {
          "base_uri": "https://localhost:8080/"
        },
        "id": "vwcAVAnDzeIi",
        "outputId": "6a7e8acd-9150-437f-f01e-837e7b23b072"
      },
      "execution_count": 27,
      "outputs": [
        {
          "output_type": "stream",
          "name": "stdout",
          "text": [
            "Verificación de acceso\n",
            "Introduzca su nota: 7\n",
            "Notable\n"
          ]
        }
      ]
    },
    {
      "cell_type": "code",
      "source": [
        "#curso python 12 condicional 3\n",
        "#Switch - no existe\n",
        "#concatenación de operadores de comparación \n",
        "#stackoverflow foro de programación \n",
        "\n",
        "#concatenación de operadores de comparación \n",
        "\n",
        "edad = int(input('Introduzca su edad: '))\n",
        "\n",
        "if 0 <edad < 100:\n",
        "  print('Edad es correcta')\n",
        "else: \n",
        "  print('Edad incorrecta')"
      ],
      "metadata": {
        "colab": {
          "base_uri": "https://localhost:8080/"
        },
        "id": "ZJXFYYkD3GB1",
        "outputId": "8e1907b3-063a-475b-90f9-098d50501d24"
      },
      "execution_count": 30,
      "outputs": [
        {
          "output_type": "stream",
          "name": "stdout",
          "text": [
            "Introduzca su edad: -1\n",
            "Edad incorrecta\n"
          ]
        }
      ]
    },
    {
      "cell_type": "markdown",
      "source": [
        "[ ] { } ¿?"
      ],
      "metadata": {
        "id": "vrBLFB61agbM"
      }
    },
    {
      "cell_type": "code",
      "source": [
        "print('Evaluar el salario')\n",
        "\n",
        "salario_pre = int(input('Introduce tu salario pre: '))\n",
        "print('Salario presidente: ' + str(salario_pre))\n",
        "\n",
        "salario_dic = int(input('Introduce tu salario dic: '))\n",
        "print('Salario director: ' + str(salario_dic))\n",
        "\n",
        "salario_jefe = int(input('Introduce tu salario jefe: '))\n",
        "print('Salario jefe: ' + str(salario_jefe))\n",
        "\n",
        "salario_adm = int(input('Introduce tu salario adm: '))\n",
        "print('Salario adm: ' + str(salario_adm))\n",
        "\n",
        "if salario_adm < salario_jefe < salario_dic < salario_pre:\n",
        "  print('Todo funciona correctamente')\n",
        "else:\n",
        "  print('Algo falla en esta empresa')"
      ],
      "metadata": {
        "colab": {
          "base_uri": "https://localhost:8080/"
        },
        "id": "cqCInI2M6CXp",
        "outputId": "dba83e88-495b-4d0b-a1f2-0c337e02fbb7"
      },
      "execution_count": 31,
      "outputs": [
        {
          "output_type": "stream",
          "name": "stdout",
          "text": [
            "Evaluar el salario\n",
            "Introduce tu salario pre: 3500\n",
            "Salario presidente: 3500\n",
            "Introduce tu salario dic: 2500\n",
            "Salario director: 2500\n",
            "Introduce tu salario jefe: 2000\n",
            "Salario jefe: 2000\n",
            "Introduce tu salario adm: 1500\n",
            "Salario adm: 1500\n",
            "Todo funciona correctamente\n"
          ]
        }
      ]
    },
    {
      "cell_type": "code",
      "source": [
        "#operadores lógicos 'and' y 'o'\n",
        "#operador 'In'\n",
        "#Clase 13 "
      ],
      "metadata": {
        "id": "dmU9L7vG-Nzc"
      },
      "execution_count": null,
      "outputs": []
    }
  ]
}