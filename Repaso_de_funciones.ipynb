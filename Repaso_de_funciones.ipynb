{
  "nbformat": 4,
  "nbformat_minor": 0,
  "metadata": {
    "colab": {
      "provenance": [],
      "authorship_tag": "ABX9TyNJHeSULbNlAfFQZc1xjr5y",
      "include_colab_link": true
    },
    "kernelspec": {
      "name": "python3",
      "display_name": "Python 3"
    },
    "language_info": {
      "name": "python"
    }
  },
  "cells": [
    {
      "cell_type": "markdown",
      "metadata": {
        "id": "view-in-github",
        "colab_type": "text"
      },
      "source": [
        "<a href=\"https://colab.research.google.com/github/MikaelaGit/CursoPython/blob/main/Repaso_de_funciones.ipynb\" target=\"_parent\"><img src=\"https://colab.research.google.com/assets/colab-badge.svg\" alt=\"Open In Colab\"/></a>"
      ]
    },
    {
      "cell_type": "markdown",
      "source": [
        "Las funciones en PYTHON video de Commit that line \n",
        "\n",
        "\n",
        "https://www.youtube.com/watch?v=hLRoDs4wNCU"
      ],
      "metadata": {
        "id": "_xWh2smhCECQ"
      }
    },
    {
      "cell_type": "code",
      "source": [
        "#nombre(x,y) -> val nombre, argumentos, resultados "
      ],
      "metadata": {
        "id": "8v4kdH65EAPU"
      },
      "execution_count": null,
      "outputs": []
    },
    {
      "cell_type": "code",
      "execution_count": 2,
      "metadata": {
        "colab": {
          "base_uri": "https://localhost:8080/"
        },
        "id": "mNdpKr4bCBPk",
        "outputId": "09a20160-9688-4dba-bf3a-a971b732fff3"
      },
      "outputs": [
        {
          "output_type": "stream",
          "name": "stdout",
          "text": [
            "La puntación de esta clase es:  8.0\n"
          ]
        }
      ],
      "source": [
        "#Programa para evaluar las notas medias de una clase \n",
        "\n",
        "suma = 7 + 8 + 9\n",
        "media = suma /3\n",
        "\n",
        "print('La puntación de esta clase es: ', media)"
      ]
    },
    {
      "cell_type": "code",
      "source": [
        "def puntacion(alumno1, alumno2, alumno3):\n",
        "  suma = alumno1 + alumno2 + alumno3 \n",
        "  # media = suma / 3\n",
        "  return suma / 3\n",
        "\n",
        "media = puntacion(7,8,9)\n",
        "print('La puntación de esta clase es: ', media)\n",
        "\n",
        "media = puntacion(7,5,9)\n",
        "print('La puntación de esta clase es: ', media)"
      ],
      "metadata": {
        "colab": {
          "base_uri": "https://localhost:8080/"
        },
        "id": "zYOrgjd7D6Q8",
        "outputId": "2c49c8e4-4a3d-4123-a162-2ff025a6e303"
      },
      "execution_count": 4,
      "outputs": [
        {
          "output_type": "stream",
          "name": "stdout",
          "text": [
            "La puntación de esta clase es:  8.0\n",
            "La puntación de esta clase es:  7.0\n"
          ]
        }
      ]
    },
    {
      "cell_type": "code",
      "source": [
        "def puntacion(clase):\n",
        "   # media = suma / 3\n",
        "  return sum(clase) /len(clase)\n",
        "\n",
        "clase = [7,8,9]\n",
        "media = puntacion(clase)\n",
        "print('La puntación de esta clase es: ', media)\n",
        "\n",
        "clase = [5,6,7.5,10]\n",
        "media = puntacion(clase)\n",
        "print('La puntación de esta clase es: ', media)"
      ],
      "metadata": {
        "colab": {
          "base_uri": "https://localhost:8080/"
        },
        "id": "Qx5fnOJTFheP",
        "outputId": "275ab2a2-15b8-44cd-f6a4-c5dd00d79494"
      },
      "execution_count": 7,
      "outputs": [
        {
          "output_type": "stream",
          "name": "stdout",
          "text": [
            "La puntación de esta clase es:  8.0\n",
            "La puntación de esta clase es:  7.125\n"
          ]
        }
      ]
    },
    {
      "cell_type": "code",
      "source": [
        "#Tabla de multiplicar \n",
        "\n",
        "numero = 2\n",
        "def mostrar_lineas(num, linea):\n",
        "  print(num, 'x', linea, '=>', num * linea)\n",
        "\n",
        "mostrar_lineas(numero, 1)\n",
        "mostrar_lineas(numero, 2)\n",
        "mostrar_lineas(numero, 3)\n",
        "mostrar_lineas(numero, 4)\n",
        "mostrar_lineas(numero, 5)\n",
        "mostrar_lineas(numero, 6)\n",
        "mostrar_lineas(numero, 7)\n",
        "mostrar_lineas(numero, 8)\n",
        "mostrar_lineas(numero, 9)\n",
        "mostrar_lineas(numero, 10)"
      ],
      "metadata": {
        "colab": {
          "base_uri": "https://localhost:8080/"
        },
        "id": "qiAyuOL7HMXL",
        "outputId": "0957268f-d672-4703-9a30-841924af51f6"
      },
      "execution_count": 12,
      "outputs": [
        {
          "output_type": "stream",
          "name": "stdout",
          "text": [
            "2 x 1 => 2\n",
            "2 x 2 => 4\n",
            "2 x 3 => 6\n",
            "2 x 4 => 8\n",
            "2 x 5 => 10\n",
            "2 x 6 => 12\n",
            "2 x 7 => 14\n",
            "2 x 8 => 16\n",
            "2 x 9 => 18\n",
            "2 x 10 => 20\n"
          ]
        }
      ]
    },
    {
      "cell_type": "code",
      "source": [
        "#Listas, Tuples, Sets, Strings y diccionarios en Pyhton video de Commit that line "
      ],
      "metadata": {
        "id": "XJFrgn0DJEO9"
      },
      "execution_count": null,
      "outputs": []
    },
    {
      "cell_type": "code",
      "source": [
        "#Listas \n",
        "\n",
        "numeros = [ 1, 2, 3, 4, 5] \n",
        "print(numeros[3])\n",
        "print(numeros[-1])\n",
        "print(numeros[4])\n",
        "print(numeros[0:4]) #acceder a una porción\n",
        "print(numeros[0:4:2]) #va de dos en dos"
      ],
      "metadata": {
        "colab": {
          "base_uri": "https://localhost:8080/"
        },
        "id": "Nl6k7RQ8KxMO",
        "outputId": "1447be5f-9e83-4682-b3ab-6eef4aed2d6c"
      },
      "execution_count": 17,
      "outputs": [
        {
          "output_type": "stream",
          "name": "stdout",
          "text": [
            "4\n",
            "5\n",
            "5\n",
            "[1, 2, 3, 4]\n",
            "[1, 3]\n"
          ]
        }
      ]
    },
    {
      "cell_type": "code",
      "source": [
        "lista1 = [1,2,3,4 ]\n",
        "lista2 = [5,6,7,8 ]\n",
        "\n",
        "print(lista1 + lista2)\n",
        "print(len(lista1))\n",
        "print(4 in lista1)\n",
        "lista1[3] = 0\n",
        "print(lista1[3])"
      ],
      "metadata": {
        "colab": {
          "base_uri": "https://localhost:8080/"
        },
        "id": "2Ipg2UFgMNZB",
        "outputId": "eaaf65cf-dd79-4e75-a841-1186ef5aa65b"
      },
      "execution_count": 25,
      "outputs": [
        {
          "output_type": "stream",
          "name": "stdout",
          "text": [
            "[1, 2, 3, 4, 5, 6, 7, 8]\n",
            "4\n",
            "True\n",
            "0\n"
          ]
        }
      ]
    },
    {
      "cell_type": "code",
      "source": [
        "#Tuplas \n",
        "\n",
        "tuplas = (1,2)\n",
        "\n",
        "print(tuplas)\n",
        "print(tuplas[0])\n"
      ],
      "metadata": {
        "colab": {
          "base_uri": "https://localhost:8080/"
        },
        "id": "yXTf17T0M5LT",
        "outputId": "659c4c18-6a2d-4fca-fe38-952d5cf9f67e"
      },
      "execution_count": 22,
      "outputs": [
        {
          "output_type": "stream",
          "name": "stdout",
          "text": [
            "(1, 2)\n",
            "1\n"
          ]
        }
      ]
    },
    {
      "cell_type": "code",
      "source": [
        "#Strings\n",
        "frase = 'Esto es una string'\n",
        "\n",
        "print(len(frase))\n",
        "print(frase[0])\n",
        "print('X' in frase)\n",
        "print(type(frase))\n",
        "print(frase.upper())"
      ],
      "metadata": {
        "colab": {
          "base_uri": "https://localhost:8080/"
        },
        "id": "DKxiUuNJOkYz",
        "outputId": "9be3d046-0a65-446c-f11e-8012099b6b24"
      },
      "execution_count": 28,
      "outputs": [
        {
          "output_type": "stream",
          "name": "stdout",
          "text": [
            "18\n",
            "E\n",
            "False\n",
            "<class 'str'>\n",
            "ESTO ES UNA STRING\n"
          ]
        }
      ]
    },
    {
      "cell_type": "markdown",
      "source": [
        "[ ] { } ¿?"
      ],
      "metadata": {
        "id": "NxjPVyLPGUMX"
      }
    },
    {
      "cell_type": "code",
      "source": [
        "#Sets\n",
        "set1 = set([1, 2, 3, 4, 5, 6, 7, 8, 9, 10])\n",
        "set2 = set([0, 2, 4, 6, 8, 10, 12, 14, 16, 18, 20])\n",
        "\n",
        "print(set1)\n",
        "print(set2)\n",
        "\n",
        "print('Elementos del primer conjunto', set1 - set2)\n",
        "print('Elementos del segundo conjunto', set2 - set1)\n",
        "print('Interseción de ambos conjunos', set1 & set2)\n",
        "print('Unión de los dos conjuntos', set1 | set2)"
      ],
      "metadata": {
        "colab": {
          "base_uri": "https://localhost:8080/"
        },
        "id": "87kx2liLQa3U",
        "outputId": "9127f015-f2cd-4cc9-def0-9166c7bcf258"
      },
      "execution_count": 34,
      "outputs": [
        {
          "output_type": "stream",
          "name": "stdout",
          "text": [
            "{1, 2, 3, 4, 5, 6, 7, 8, 9, 10}\n",
            "{0, 2, 4, 6, 8, 10, 12, 14, 16, 18, 20}\n",
            "Elementos del primer conjunto {1, 3, 5, 7, 9}\n",
            "Elementos del segundo conjunto {0, 12, 14, 16, 18, 20}\n",
            "Interseción de ambos conjunos {2, 4, 6, 8, 10}\n",
            "Unión de los dos conjuntos {0, 1, 2, 3, 4, 5, 6, 7, 8, 9, 10, 12, 14, 16, 18, 20}\n"
          ]
        }
      ]
    },
    {
      "cell_type": "code",
      "source": [
        "#Diccionarios \n",
        "persona = {'nombre':'Lucas', 'Edad':24, 'Grupo':'NCT'}\n",
        "print(persona['nombre'])\n",
        "print(len(persona))\n",
        "print('Juan' in persona)"
      ],
      "metadata": {
        "colab": {
          "base_uri": "https://localhost:8080/"
        },
        "id": "gAM__5bSTPVJ",
        "outputId": "84d46ab4-d13f-449b-b7b4-c76979cce873"
      },
      "execution_count": 35,
      "outputs": [
        {
          "output_type": "stream",
          "name": "stdout",
          "text": [
            "Lucas\n"
          ]
        }
      ]
    }
  ]
}