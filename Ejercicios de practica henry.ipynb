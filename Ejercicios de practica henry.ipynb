{
  "nbformat": 4,
  "nbformat_minor": 0,
  "metadata": {
    "colab": {
      "name": "Untitled7.ipynb",
      "provenance": [],
      "authorship_tag": "ABX9TyPUcpL45hqscpai1vLs6Wh+",
      "include_colab_link": true
    },
    "kernelspec": {
      "name": "python3",
      "display_name": "Python 3"
    },
    "language_info": {
      "name": "python"
    }
  },
  "cells": [
    {
      "cell_type": "markdown",
      "metadata": {
        "id": "view-in-github",
        "colab_type": "text"
      },
      "source": [
        "<a href=\"https://colab.research.google.com/github/MikaelaGit/CursoPython/blob/main/Ejercicios%20de%20practica%20henry.ipynb\" target=\"_parent\"><img src=\"https://colab.research.google.com/assets/colab-badge.svg\" alt=\"Open In Colab\"/></a>"
      ]
    },
    {
      "cell_type": "code",
      "execution_count": 13,
      "metadata": {
        "colab": {
          "base_uri": "https://localhost:8080/",
          "height": 130
        },
        "id": "hPF3J9XnkfCj",
        "outputId": "86960a17-7828-4808-8b6e-afd02ad54ba5"
      },
      "outputs": [
        {
          "output_type": "error",
          "ename": "SyntaxError",
          "evalue": "ignored",
          "traceback": [
            "\u001b[0;36m  File \u001b[0;32m\"<ipython-input-13-d26eb7320963>\"\u001b[0;36m, line \u001b[0;32m54\u001b[0m\n\u001b[0;31m    print(4 -= numero)\u001b[0m\n\u001b[0m             ^\u001b[0m\n\u001b[0;31mSyntaxError\u001b[0m\u001b[0;31m:\u001b[0m invalid syntax\n"
          ]
        }
      ],
      "source": [
        "#1) Crear una variable que contenga un elemento del conjunto de números enteros y luego imprimir por pantalla\n",
        "\n",
        "n = 9\n",
        "print(n)\n",
        "#2) Imprimir el tipo de dato de la constante 8.5\n",
        "print(type(8.5))\n",
        "#3) Imprimir el tipo de dato de la variable creada en el punto 1\n",
        "print(type(n))\n",
        "#4) Crear una variable que contenga tu nombre\n",
        "mi_nombre = 'Mikaela'\n",
        "#5) Crear una variable que contenga un número complejo\n",
        "complejo = 3 + 4j \n",
        "#6) Mostrar el tipo de dato de la variable crada en el punto 5\n",
        "print(type(complejo))\n",
        "#7) Crear una variable que contenga el valor del número Pi redondeado a 4 decimales\n",
        "pi = 3.1416\n",
        "#8) Crear una variable que contenga el valor 'True' y otra que contenga el valor True. ¿Se trata de lo mismo?\n",
        "verdad = 'True'\n",
        "verdad1 = True\n",
        "#9) Imprimir el tipo de dato correspondientes a las variables creadas en el punto 9\n",
        "print(type(verdad))\n",
        "print(type(verdad1))\n",
        "#10) Asignar a una variable, la suma de un número entero y otro decimal\n",
        "suma = 4 + 5.6\n",
        "#11) Realizar una operación de suma de números complejos\n",
        "nu1 = 5 + 3j\n",
        "nu2 = 4 + 5j \n",
        "print(nu1 + nu2)\n",
        "#12) Realizar una operación de suma de un número real y otro complejo\n",
        "real = 4\n",
        "complejo2 = 3 + 5j\n",
        "print(real + complejo2)\n",
        "#13) Realizar una operación de multiplicación\n",
        "print(4 * 8)\n",
        "#14) Mostrar el resultado de elevar 2 a la octava potencia\n",
        "print(2 ** 8) \n",
        "#15) Obtener el cociente de la división de 27 entre 4 en una variable y luego mostrarla\n",
        "print(27/4)\n",
        "#16) De la división anterior solamente mostrar la parte entera\n",
        "print(27//4)\n",
        "#17) De la división de 27 entre 4 mostrar solamente el resto\n",
        "print(27%4)\n",
        "#18) Utilizando como operandos el número 4 y los resultados obtenidos en los puntos 16 y 17. Obtener 27 como resultado\n",
        "print(4 * 6 + 3)\n",
        "#19) Utilizar el operador \"+\" en una operación donde intervengan solo variables alfanuméricas\n",
        "print('Twice' + 'Best gg')\n",
        "#20) Evaluar si \"2\" es igual a 2. ¿Por qué ocurre eso?\n",
        "2 == '2'\n",
        "#21) Utilizar las funciones de cambio de tipo de dato, para que la validación del punto 20 resulte verdadera\n",
        "2 == int('2')\n",
        "#22) ¿Por qué arroja error el siguiente cambio de tipo de datos? a = float('3,8')\n",
        "#23) Crear una variable con el valor 3, y utilizar el operador '-=' para modificar su contenido\n",
        "numero = 3\n",
        "print(4 -= numero)\n",
        "#24) Realizar la operacion 1 << 2 ¿Por qué da ese resultado? ¿Qué es el sistema de numeración binario?\n",
        "\n",
        "#25) Realizar la operación 2 + '2' ¿Por qué no está permitido? ¿Si los dos operandos serían del mismo tipo, siempre arrojaría el mismo resultado?\n",
        "\n",
        "#26) Realizar una operación válida entre valores de tipo entero y string\n"
      ]
    },
    {
      "cell_type": "code",
      "source": [
        "## Flujos de Control\n",
        "\n",
        "1) Crear una variable que contenga un elemento del conjunto de números enteros y luego imprimir por pantalla si es mayor o menor a cero\n",
        "\n",
        "2) Crear dos variables y un condicional que informe si son del mismo tipo de dato\n",
        "\n",
        "3) Para los valores enteros del 1 al 20, imprimir por pantalla si es par o impar\n",
        "\n",
        "4) En un ciclo for mostrar para los valores entre 0 y 5 el resultado de elevarlo a la potencia igual a 3\n",
        "\n",
        "5) Crear una variable que contenga un número entero y realizar un ciclo for la misma cantidad de ciclos\n",
        "\n",
        "6) Utilizar un ciclo while para realizar el factorial de un número guardado en una variable, sólo si la variable contiene un número entero mayor a 0\n",
        "\n",
        "7) Crear un ciclo for dentro de un ciclo while\n",
        "\n",
        "8) Crear un ciclo while dentro de un ciclo for\n",
        "\n",
        "9) Imprimir los números primos existentes entre 0 y 30\n",
        "\n",
        "10) ¿Se puede mejorar el proceso del punto 9? Utilizar las sentencias break y/ó continue para tal fin\n",
        "\n",
        "11) En los puntos 9 y 10, se diseño un código que encuentra números primos y además se lo optimizó. ¿Es posible saber en qué medida se optimizó?\n",
        "\n",
        "12) Si la cantidad de números que se evalúa es mayor a treinta, esa optimización crece?\n",
        "\n",
        "13) Aplicando continue, armar un ciclo while que solo imprima los valores divisibles por 12, dentro del rango de números de 100 a 300\n",
        "\n",
        "14) Utilizar la función **input()** que permite hacer ingresos por teclado, para encontrar números primos y dar la opción al usario de buscar el siguiente\n",
        "\n",
        "15) Crear un ciclo while que encuentre dentro del rango de 100 a 300 el primer número divisible por 3 y además múltiplo de 6\n"
      ],
      "metadata": {
        "id": "AwlJREtysE95"
      },
      "execution_count": null,
      "outputs": []
    }
  ]
}