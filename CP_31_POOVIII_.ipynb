{
  "nbformat": 4,
  "nbformat_minor": 0,
  "metadata": {
    "colab": {
      "provenance": [],
      "authorship_tag": "ABX9TyMwunW6mXNkgAShttaw4FXp",
      "include_colab_link": true
    },
    "kernelspec": {
      "name": "python3",
      "display_name": "Python 3"
    },
    "language_info": {
      "name": "python"
    }
  },
  "cells": [
    {
      "cell_type": "markdown",
      "metadata": {
        "id": "view-in-github",
        "colab_type": "text"
      },
      "source": [
        "<a href=\"https://colab.research.google.com/github/MikaelaGit/CursoPython/blob/main/CP_31_POOVIII_.ipynb\" target=\"_parent\"><img src=\"https://colab.research.google.com/assets/colab-badge.svg\" alt=\"Open In Colab\"/></a>"
      ]
    },
    {
      "cell_type": "code",
      "execution_count": null,
      "metadata": {
        "id": "XmBxh6MZ65by"
      },
      "outputs": [],
      "source": [
        "#Curso python 31 POO VIII Herencia III\n",
        "#funcion super(), instance()"
      ]
    },
    {
      "cell_type": "markdown",
      "source": [
        "- si una clase hereda de dos clases con funciones con el mismo nombre, iguales  o parecidas, heredara las funciones de la primera clase es decir de la que esta colocada a la izquierda. \n",
        "- función super: va a llamar al metodo de la clase padre.\n",
        "- principio de sustitución: 'es siempre un/a', cuando tenemos herencia un objeto de la subclase, siempre sera un objeto de la superclase \n",
        "- isinstance(): nos va a informar siempre si un objeto es instancia de una clase determinada "
      ],
      "metadata": {
        "id": "2zxzujqz7Lcj"
      }
    },
    {
      "cell_type": "code",
      "source": [
        "#herencia super \n",
        "class persona():\n",
        "\n",
        "  def __init__(self, nombre, edad, Lugar_residencia):\n",
        "\n",
        "      self.nombre= nombre\n",
        "      self.edad = edad\n",
        "      self.lugar_residencia = Lugar_residencia \n",
        "\n",
        "  def descripcion(self):\n",
        "      \n",
        "      print('Nombre: ', self.nombre, 'Edad: ', self.edad, 'Residencia: ', self.lugar_residencia)\n",
        "\n",
        "class empleado(persona):\n",
        "\n",
        "    def __init__(self, salario, antiguedad, nombre_empleado, edad_empleado, residencia_empleado):\n",
        "\n",
        "        super().__init__(nombre_empleado, edad_empleado, residencia_empleado)\n",
        "        self.salario = salario\n",
        "        self.antiguedad = antiguedad \n",
        "\n",
        "    def descripcion(self):\n",
        "\n",
        "        super().descripcion()\n",
        "\n",
        "        print('Salario:', self.salario, 'Antiguedad: ', self.antiguedad)\n",
        "\n",
        "#objeto \n",
        "\n",
        "antonio = persona('Antonio', 43, 'España')\n",
        "antonio.descripcion()\n",
        "\n",
        "manuela = empleado(45000, 12, 'Manuel', 23, 'Colombia')\n",
        "manuela.descripcion()\n",
        "\n",
        "print(isinstance(antonio, empleado))\n",
        "\n",
        "\n",
        "\n"
      ],
      "metadata": {
        "colab": {
          "base_uri": "https://localhost:8080/"
        },
        "id": "iEp5XtYn89aP",
        "outputId": "dbc98d64-a983-4f0f-ba40-51b97c3fbf85"
      },
      "execution_count": 13,
      "outputs": [
        {
          "output_type": "stream",
          "name": "stdout",
          "text": [
            "Nombre:  Antonio Edad:  43 Residencia:  España\n",
            "Nombre:  Manuel Edad:  23 Residencia:  Colombia\n",
            "Salario: 45000 Antiguedad:  12\n",
            "False\n"
          ]
        }
      ]
    }
  ]
}